{
 "cells": [
  {
   "cell_type": "markdown",
   "id": "508f2b28-54c0-4ba4-8714-5c68cb9fef75",
   "metadata": {},
   "source": [
    "# Women Who Code :: Build-Your-Own Dataset\n",
    "\n",
    "Sometimes data scientists are handed a fully prepared and cleaned dataset, but this is rarely the case. Today's workshop will give you practice in building your own dataset from scratch. We will use public APIs and publically available data files to create a dataset of weather and population data that is ready for downstream uses.\n",
    "\n",
    "In this workshop, we'll be collecting and organizing information for fictional visitors to our fictional \n"
   ]
  },
  {
   "cell_type": "code",
   "execution_count": 1,
   "id": "22e1bcd5",
   "metadata": {},
   "outputs": [],
   "source": [
    "# If you have installed the requirements in the requirements.txt file,\n",
    "# you will have the packages needed here\n",
    "from faker import Faker  # This helps with creating fake data, more details below!\n",
    "import pandas as pd\n",
    "import requests"
   ]
  },
  {
   "cell_type": "markdown",
   "id": "ea680bb3-783a-4a3f-aa4c-9cb6403f91fb",
   "metadata": {},
   "source": [
    "# Part 1 :: Calling Public APIs\n",
    "\n",
    "In this first section we will use several publically available APIs to collect information about fictional visitors to our website. The only information we directly collect about visitors is their IP address. Beyond that, we'll have to look to outside sources to pull in information to learn more about our visitors."
   ]
  },
  {
   "cell_type": "markdown",
   "id": "51372b8f",
   "metadata": {},
   "source": [
    "## Get your IP address\n",
    "\n",
    "An IP address is a unique address that identifies a device on the internet or a local network. IP stands for \"Internet Protocol,\" which is the set of rules governing the format of data sent via the internet or local network.\n",
    "\n",
    "To find out your own IP address, you can make a call to the [ipify](https://www.ipify.org/) API, a simple public IP address API. This API does not require an account or API key."
   ]
  },
  {
   "cell_type": "code",
   "execution_count": 2,
   "id": "26538a01",
   "metadata": {},
   "outputs": [],
   "source": [
    "# api endpoint\n",
    "url = \"https://api.ipify.org\"\n",
    "\n",
    "# request formatted response\n",
    "params = {\"format\": \"json\"}\n",
    "\n",
    "resp = requests.get(url, params)"
   ]
  },
  {
   "cell_type": "markdown",
   "id": "1bd88f6d-8c4d-48ed-a142-858f78bfabec",
   "metadata": {},
   "source": [
    "Congrats, you just made a call to the first API of this workshop! Let's take a closer look at the response, and see what information we've collected from it."
   ]
  },
  {
   "cell_type": "code",
   "execution_count": 3,
   "id": "c753b0ad-5074-4efa-8f66-a21822dd5f7d",
   "metadata": {},
   "outputs": [
    {
     "data": {
      "text/plain": "200"
     },
     "execution_count": 3,
     "metadata": {},
     "output_type": "execute_result"
    }
   ],
   "source": [
    "# http response status codes indicate whether the request has been successfully completed\n",
    "# Here is one place you can learn more about these status codes: https://en.wikipedia.org/wiki/List_of_HTTP_status_codes\n",
    "resp.status_code"
   ]
  },
  {
   "cell_type": "code",
   "execution_count": 4,
   "id": "fa6cd471",
   "metadata": {},
   "outputs": [
    {
     "data": {
      "text/plain": "'{\"ip\":\"67.4.95.67\"}'"
     },
     "execution_count": 4,
     "metadata": {},
     "output_type": "execute_result"
    }
   ],
   "source": [
    "# can get response in a string format\n",
    "resp.text"
   ]
  },
  {
   "cell_type": "code",
   "execution_count": 5,
   "id": "c38e3e58",
   "metadata": {},
   "outputs": [
    {
     "data": {
      "text/plain": "{'ip': '67.4.95.67'}"
     },
     "execution_count": 5,
     "metadata": {},
     "output_type": "execute_result"
    }
   ],
   "source": [
    "# or more usefully as a json dictionary\n",
    "resp.json()"
   ]
  },
  {
   "cell_type": "code",
   "execution_count": 6,
   "outputs": [
    {
     "name": "stdout",
     "output_type": "stream",
     "text": [
      "<class 'dict'>\n"
     ]
    }
   ],
   "source": [
    "# That makes it dictionary, making it easier to pull out values like the ip address\n",
    "print(type(resp.json()))"
   ],
   "metadata": {
    "collapsed": false,
    "pycharm": {
     "name": "#%%\n"
    }
   }
  },
  {
   "cell_type": "code",
   "execution_count": 7,
   "id": "ab087789",
   "metadata": {},
   "outputs": [
    {
     "name": "stdout",
     "output_type": "stream",
     "text": [
      "67.4.95.67\n"
     ]
    }
   ],
   "source": [
    "# let's hold on to ip address, and use it in some next steps\n",
    "ip = resp.json()[\"ip\"]\n",
    "print(ip)"
   ]
  },
  {
   "cell_type": "markdown",
   "id": "bdb49d44",
   "metadata": {
    "tags": []
   },
   "source": [
    "## Get location for an IP address\n",
    "\n",
    "IP addresses can be linked to information about the location where you are connected to the internet.\n",
    "\n",
    "To find geolocation information given an IP address, we can use the [ip-api](https://ip-api.com/) JSON endpoint. The IP address endpoint allowed us to pass the desired response format (JSON) as a query parameter, but this API has a specific JSON endpoint, so we'll specify the data format as part of the URL."
   ]
  },
  {
   "cell_type": "code",
   "execution_count": 8,
   "id": "98a46c4f",
   "metadata": {},
   "outputs": [],
   "source": [
    "url = f\"http://ip-api.com/json/{ip}\"\n",
    "\n",
    "resp = requests.get(url)"
   ]
  },
  {
   "cell_type": "code",
   "execution_count": 9,
   "id": "bb23de38",
   "metadata": {},
   "outputs": [
    {
     "data": {
      "text/plain": "200"
     },
     "execution_count": 9,
     "metadata": {},
     "output_type": "execute_result"
    }
   ],
   "source": [
    "# check that the call succeeded\n",
    "resp.status_code"
   ]
  },
  {
   "cell_type": "code",
   "execution_count": 10,
   "id": "97ca433c",
   "metadata": {},
   "outputs": [
    {
     "data": {
      "text/plain": "{'status': 'success',\n 'country': 'United States',\n 'countryCode': 'US',\n 'region': 'MN',\n 'regionName': 'Minnesota',\n 'city': 'Waconia',\n 'zip': '55387',\n 'lat': 44.8522,\n 'lon': -93.7786,\n 'timezone': 'America/Chicago',\n 'isp': 'CenturyLink Communications, LLC',\n 'org': 'CenturyLink Communications, LLC',\n 'as': 'AS209 CenturyLink Communications, LLC',\n 'query': '67.4.95.67'}"
     },
     "execution_count": 10,
     "metadata": {},
     "output_type": "execute_result"
    }
   ],
   "source": [
    "# inspect the returned data\n",
    "resp.json()"
   ]
  },
  {
   "cell_type": "code",
   "execution_count": 11,
   "id": "b33a9cbe",
   "metadata": {},
   "outputs": [],
   "source": [
    "# pull out the lat/long fields, since we can look up info about this location\n",
    "\n",
    "lat = resp.json()[\"lat\"]\n",
    "long = resp.json()[\"lon\"]"
   ]
  },
  {
   "cell_type": "code",
   "execution_count": 12,
   "id": "be34325a",
   "metadata": {},
   "outputs": [],
   "source": [
    "def get_location_info(ip: str):\n",
    "    \"\"\"\n",
    "    Given an IP address, return a dictionary of location information.\n",
    "    \"\"\"\n",
    "    url = f\"http://ip-api.com/json/{ip}\"\n",
    "    resp = requests.get(url)\n",
    "    return resp.json()"
   ]
  },
  {
   "cell_type": "markdown",
   "id": "d20fdd2b",
   "metadata": {},
   "source": [
    "## Get the local weather\n",
    "\n",
    "Now that we know where a visitor is from, we can collect any information from other sources to understand the user's location. For this workshop, let's say that our website has content related to weather, and so the visitor's current weather is of interest to us.\n",
    "\n",
    "Given the visitor's latitude and longitude, we can use the [Open Meteo](https://open-meteo.com/en) API to get information about the location's current weather. Like the other APIs we've used in this workshop, Open Meteo is public and does not require an API key.\n",
    "\n"
   ]
  },
  {
   "cell_type": "code",
   "execution_count": 13,
   "id": "0bcebdcb",
   "metadata": {},
   "outputs": [],
   "source": [
    "url = \"https://api.open-meteo.com/v1/forecast\"\n",
    "\n",
    "params = {\"latitude\": lat, \"longitude\": long, \"current_weather\": True, \"format\": \"json\"}\n",
    "\n",
    "resp = requests.get(url, params)"
   ]
  },
  {
   "cell_type": "code",
   "execution_count": 14,
   "id": "e9f686fa",
   "metadata": {},
   "outputs": [
    {
     "data": {
      "text/plain": "200"
     },
     "execution_count": 14,
     "metadata": {},
     "output_type": "execute_result"
    }
   ],
   "source": [
    "resp.status_code"
   ]
  },
  {
   "cell_type": "code",
   "execution_count": 15,
   "id": "ff5e7806",
   "metadata": {},
   "outputs": [
    {
     "data": {
      "text/plain": "{'utc_offset_seconds': 0,\n 'generationtime_ms': 0.12695789337158203,\n 'current_weather': {'winddirection': 102,\n  'windspeed': 22.7,\n  'time': '2022-04-27T14:00',\n  'weathercode': 2,\n  'temperature': 0.9},\n 'latitude': 44.875,\n 'longitude': -93.75,\n 'elevation': 301.75}"
     },
     "execution_count": 15,
     "metadata": {},
     "output_type": "execute_result"
    }
   ],
   "source": [
    "resp.json()"
   ]
  },
  {
   "cell_type": "code",
   "execution_count": 16,
   "id": "252c0a44",
   "metadata": {},
   "outputs": [],
   "source": [
    "def get_weather_info(lat: float, long: float):\n",
    "    \"\"\"\n",
    "    Given a latitude and longitude, return the current weather.\n",
    "    \"\"\"\n",
    "    url = \"https://api.open-meteo.com/v1/forecast\"\n",
    "\n",
    "    params = {\n",
    "        \"latitude\": lat,\n",
    "        \"longitude\": long,\n",
    "        \"current_weather\": True,\n",
    "        \"format\": \"json\",\n",
    "    }\n",
    "\n",
    "    resp = requests.get(url, params)\n",
    "    return resp.json()"
   ]
  },
  {
   "cell_type": "markdown",
   "id": "a3e58ea3",
   "metadata": {},
   "source": [
    "# Part 2 :: Prepare Your Dataset"
   ]
  },
  {
   "cell_type": "markdown",
   "id": "d5184b0c",
   "metadata": {},
   "source": [
    "## 2.1 :: Generate fake IP addresses\n",
    "\n",
    "Since we are working with fake data, we'll have to create some fake IP addresses for our website visitors. To do this, we'll use a package called [Faker](https://faker.readthedocs.io/en/master/) which generates fake data. It can generate all types of fake data, ranging from addresses to names to, wouldn't you know it, ID addresses!"
   ]
  },
  {
   "cell_type": "code",
   "execution_count": 17,
   "id": "5910533b",
   "metadata": {},
   "outputs": [
    {
     "data": {
      "text/plain": "'33.70.253.89'"
     },
     "execution_count": 17,
     "metadata": {},
     "output_type": "execute_result"
    }
   ],
   "source": [
    "# faker generator\n",
    "faker = Faker()\n",
    "\n",
    "# create a fake ip address\n",
    "faker.ipv4()"
   ]
  },
  {
   "cell_type": "markdown",
   "id": "a3d4cc32",
   "metadata": {},
   "source": [
    "## 2.2 :: Generate weather data\n",
    "\n",
    "For each visitor IP address, we'll want to run our full weather collection process of getting location based on IP, then weather based on location. One way to do this is to define a function that takes in a (fake) IP address, hits the IP-to-location API, then sends this response to the Location-to-weather API."
   ]
  },
  {
   "cell_type": "code",
   "execution_count": 18,
   "id": "62ff0cfe",
   "metadata": {},
   "outputs": [],
   "source": [
    "def get_geo_weather_data(ip: str):\n",
    "    \"\"\"Pull weather data for given ip address\"\"\"\n",
    "    # get location info for the ip address\n",
    "    location_info = get_location_info(ip)\n",
    "\n",
    "    # get the current weather at the lat/long\n",
    "    weather_info = get_weather_info(location_info[\"lat\"], location_info[\"lon\"])\n",
    "\n",
    "    # stack the dictionaries\n",
    "    # only works in python 3.9 and above\n",
    "    all_data = {\"ip\": ip} | location_info | weather_info\n",
    "\n",
    "    # alternative for lower python versions using unpacking\n",
    "    # all_data = {**ip_info, **location_info, **weather_info}\n",
    "\n",
    "    return all_data"
   ]
  },
  {
   "cell_type": "markdown",
   "id": "7acb83de",
   "metadata": {},
   "source": [
    "By organizing all of the API calls into a single function, this allows us to write a simple function that:\n",
    "\n",
    "1. Makes a fake IP address\n",
    "2. Gets the location and weather data for that IP adress\n",
    "3. Handles the case where we don't get back valid weather data (for example, an API returned an error)"
   ]
  },
  {
   "cell_type": "code",
   "execution_count": 19,
   "id": "de5b8682",
   "metadata": {},
   "outputs": [],
   "source": [
    "def get_fake_geo_weather_data(max_retries=5):\n",
    "    \"\"\"Pull weather data for fake ip address, up to the given number of retries\"\"\"\n",
    "    # keep trying again until we either get a valid result, or hit the max number of retries\n",
    "    retries = 0\n",
    "    while retries <= max_retries:\n",
    "        fake_ip = faker.ipv4()\n",
    "        # we won't always get successful results from each IP\n",
    "        try:\n",
    "            return get_geo_weather_data(fake_ip)\n",
    "        # for now, we can skip any failed attempts\n",
    "        except:\n",
    "            retries += 1\n",
    "    print(\"Max retries reached!\")\n",
    "    return None"
   ]
  },
  {
   "cell_type": "markdown",
   "id": "d7fa9b7b",
   "metadata": {},
   "source": [
    "To handle potential API errors, we allowed our function to return a value of `None` in cases where no valid data was returned after the maximum number of retries. To clean up the data and make it easier for analysis, we can drop these failed attempts from our list of weather data responses."
   ]
  },
  {
   "cell_type": "code",
   "execution_count": 20,
   "id": "9821abfe-e94f-4d49-9ffa-50b6194dcb46",
   "metadata": {},
   "outputs": [],
   "source": [
    "weather_dicts = [get_fake_geo_weather_data() for i in range(10)]\n",
    "\n",
    "# remove any missing values, in case max retries was hit at any point\n",
    "weather_dicts = [x for x in weather_dicts if x is not None]"
   ]
  },
  {
   "cell_type": "markdown",
   "id": "054b53b0",
   "metadata": {},
   "source": [
    "Pandas dataframes are a standard across many data science teams, and so we will convert this list of dicts to a DataFrame for downstream analysis and data validation."
   ]
  },
  {
   "cell_type": "code",
   "execution_count": 21,
   "id": "e14281a9-0176-40e6-b21b-0fc8ab59e4e6",
   "metadata": {},
   "outputs": [],
   "source": [
    "# list of dicts to pandas dataframe is easy!\n",
    "df_weather = pd.DataFrame(weather_dicts)"
   ]
  },
  {
   "cell_type": "code",
   "execution_count": 22,
   "id": "ac3fff54-e45f-4a67-9162-df28ae480544",
   "metadata": {},
   "outputs": [
    {
     "data": {
      "text/plain": "                ip   status        country countryCode region  \\\n0       76.48.9.26  success  United States          US     KY   \n1   191.124.104.54  success          Chile          CL     RM   \n2     60.101.48.89  success          Japan          JP     23   \n3    198.32.82.178  success  United States          US     TX   \n4  167.244.197.240  success  United States          US     NY   \n\n              regionName        city       zip      lat       lon  ...  \\\n0               Kentucky  Georgetown     40324  38.2098  -84.5588  ...   \n1  Santiago Metropolitan    Santiago   8320000 -33.4411  -70.6452  ...   \n2                  Aichi     Nisshin  470-0151  35.1335  137.0417  ...   \n3                  Texas     Houston     77027  29.7281  -95.4451  ...   \n4               New York      Albany     12208  42.6532  -73.7764  ...   \n\n                     isp                                          org  \\\n0               Spectrum                        10net DSG cable modem   \n1  TELEFÓNICA CHILE S.A.                Telefonica Movil De Chile S.A   \n2      Softbank BB Corp.  Japan Nation-wide Network of Softbank Corp.   \n3           CyrusOne LLC                                 CyrusOne LLC   \n4  Albany Medical Center                        Albany Medical Center   \n\n                             as            query  \\\n0                                     76.48.9.26   \n1  AS7418 TELEFÓNICA CHILE S.A.   191.124.104.54   \n2     AS17676 Softbank BB Corp.     60.101.48.89   \n3             AS62 CyrusOne LLC    198.32.82.178   \n4                                167.244.197.240   \n\n                                     current_weather utc_offset_seconds  \\\n0  {'winddirection': 319, 'temperature': 9.8, 'wi...                  0   \n1  {'temperature': 12.9, 'weathercode': 3, 'windd...                  0   \n2  {'winddirection': 335, 'windspeed': 7.7, 'time...                  0   \n3  {'winddirection': 72, 'windspeed': 10.3, 'time...                  0   \n4  {'weathercode': 3, 'time': '2022-04-27T14:00',...                  0   \n\n   generationtime_ms  elevation  longitude  latitude  \n0           2.248049  278.75000    -84.500    38.250  \n1           0.243068  608.50000    -70.625   -33.500  \n2           0.123978   32.71875    137.000    35.125  \n3           0.128031   21.71875    -95.500    29.750  \n4           0.123024   68.43750    -73.750    42.625  \n\n[5 rows x 21 columns]",
      "text/html": "<div>\n<style scoped>\n    .dataframe tbody tr th:only-of-type {\n        vertical-align: middle;\n    }\n\n    .dataframe tbody tr th {\n        vertical-align: top;\n    }\n\n    .dataframe thead th {\n        text-align: right;\n    }\n</style>\n<table border=\"1\" class=\"dataframe\">\n  <thead>\n    <tr style=\"text-align: right;\">\n      <th></th>\n      <th>ip</th>\n      <th>status</th>\n      <th>country</th>\n      <th>countryCode</th>\n      <th>region</th>\n      <th>regionName</th>\n      <th>city</th>\n      <th>zip</th>\n      <th>lat</th>\n      <th>lon</th>\n      <th>...</th>\n      <th>isp</th>\n      <th>org</th>\n      <th>as</th>\n      <th>query</th>\n      <th>current_weather</th>\n      <th>utc_offset_seconds</th>\n      <th>generationtime_ms</th>\n      <th>elevation</th>\n      <th>longitude</th>\n      <th>latitude</th>\n    </tr>\n  </thead>\n  <tbody>\n    <tr>\n      <th>0</th>\n      <td>76.48.9.26</td>\n      <td>success</td>\n      <td>United States</td>\n      <td>US</td>\n      <td>KY</td>\n      <td>Kentucky</td>\n      <td>Georgetown</td>\n      <td>40324</td>\n      <td>38.2098</td>\n      <td>-84.5588</td>\n      <td>...</td>\n      <td>Spectrum</td>\n      <td>10net DSG cable modem</td>\n      <td></td>\n      <td>76.48.9.26</td>\n      <td>{'winddirection': 319, 'temperature': 9.8, 'wi...</td>\n      <td>0</td>\n      <td>2.248049</td>\n      <td>278.75000</td>\n      <td>-84.500</td>\n      <td>38.250</td>\n    </tr>\n    <tr>\n      <th>1</th>\n      <td>191.124.104.54</td>\n      <td>success</td>\n      <td>Chile</td>\n      <td>CL</td>\n      <td>RM</td>\n      <td>Santiago Metropolitan</td>\n      <td>Santiago</td>\n      <td>8320000</td>\n      <td>-33.4411</td>\n      <td>-70.6452</td>\n      <td>...</td>\n      <td>TELEFÓNICA CHILE S.A.</td>\n      <td>Telefonica Movil De Chile S.A</td>\n      <td>AS7418 TELEFÓNICA CHILE S.A.</td>\n      <td>191.124.104.54</td>\n      <td>{'temperature': 12.9, 'weathercode': 3, 'windd...</td>\n      <td>0</td>\n      <td>0.243068</td>\n      <td>608.50000</td>\n      <td>-70.625</td>\n      <td>-33.500</td>\n    </tr>\n    <tr>\n      <th>2</th>\n      <td>60.101.48.89</td>\n      <td>success</td>\n      <td>Japan</td>\n      <td>JP</td>\n      <td>23</td>\n      <td>Aichi</td>\n      <td>Nisshin</td>\n      <td>470-0151</td>\n      <td>35.1335</td>\n      <td>137.0417</td>\n      <td>...</td>\n      <td>Softbank BB Corp.</td>\n      <td>Japan Nation-wide Network of Softbank Corp.</td>\n      <td>AS17676 Softbank BB Corp.</td>\n      <td>60.101.48.89</td>\n      <td>{'winddirection': 335, 'windspeed': 7.7, 'time...</td>\n      <td>0</td>\n      <td>0.123978</td>\n      <td>32.71875</td>\n      <td>137.000</td>\n      <td>35.125</td>\n    </tr>\n    <tr>\n      <th>3</th>\n      <td>198.32.82.178</td>\n      <td>success</td>\n      <td>United States</td>\n      <td>US</td>\n      <td>TX</td>\n      <td>Texas</td>\n      <td>Houston</td>\n      <td>77027</td>\n      <td>29.7281</td>\n      <td>-95.4451</td>\n      <td>...</td>\n      <td>CyrusOne LLC</td>\n      <td>CyrusOne LLC</td>\n      <td>AS62 CyrusOne LLC</td>\n      <td>198.32.82.178</td>\n      <td>{'winddirection': 72, 'windspeed': 10.3, 'time...</td>\n      <td>0</td>\n      <td>0.128031</td>\n      <td>21.71875</td>\n      <td>-95.500</td>\n      <td>29.750</td>\n    </tr>\n    <tr>\n      <th>4</th>\n      <td>167.244.197.240</td>\n      <td>success</td>\n      <td>United States</td>\n      <td>US</td>\n      <td>NY</td>\n      <td>New York</td>\n      <td>Albany</td>\n      <td>12208</td>\n      <td>42.6532</td>\n      <td>-73.7764</td>\n      <td>...</td>\n      <td>Albany Medical Center</td>\n      <td>Albany Medical Center</td>\n      <td></td>\n      <td>167.244.197.240</td>\n      <td>{'weathercode': 3, 'time': '2022-04-27T14:00',...</td>\n      <td>0</td>\n      <td>0.123024</td>\n      <td>68.43750</td>\n      <td>-73.750</td>\n      <td>42.625</td>\n    </tr>\n  </tbody>\n</table>\n<p>5 rows × 21 columns</p>\n</div>"
     },
     "execution_count": 22,
     "metadata": {},
     "output_type": "execute_result"
    }
   ],
   "source": [
    "# take a peek to make sure the data looks as we'd expect it to\n",
    "df_weather.head()"
   ]
  },
  {
   "cell_type": "code",
   "execution_count": 23,
   "id": "58732a75-2522-44f7-b698-c21b8f2fbcfb",
   "metadata": {},
   "outputs": [
    {
     "data": {
      "text/plain": "array(['United States', 'Chile', 'Japan', 'China', 'Norway'], dtype=object)"
     },
     "execution_count": 23,
     "metadata": {},
     "output_type": "execute_result"
    }
   ],
   "source": [
    "# pandas made it easy to inspect our data, such as seeing the set of countries we collected data from\n",
    "df_weather[\"country\"].unique()"
   ]
  },
  {
   "cell_type": "markdown",
   "id": "6a1b9c4e",
   "metadata": {},
   "source": [
    "And there you have it! At this point, we have used several public APIs to collect location and weather data about imaginary visitors to our company's website. We've organized this data into a Pandas DataFrame format, which will make it easy to combine with additional data, and to use for downstream analysis or modeling applications."
   ]
  },
  {
   "cell_type": "markdown",
   "id": "fdd8def6-10fb-4898-9b5f-4d50e212155b",
   "metadata": {},
   "source": [
    "## 2.3 :: Join with Migration Data\n",
    "\n",
    "We learned a lot about our individual visitors by inspecting their IP address, and calling other APIs to collect supplemental information off of this.\n",
    "\n",
    "Often times, relevant data might exist in a database or table format. For example, consider the case where our website may be offering relocation services, such as a moving company or a service that helps individuals find job opportunities in new countries. For a use-case like this, it could be valuable to learn about the typical migration rates in and out of the countries in which our visitors reside.\n",
    "\n",
    "Luckily for us, the United Nations publishes migration rates at the country level publically, and we can download this data for free. After accessing this data, we can join it to our visitors data table using a key of \"Country\".\n",
    "\n",
    "XLSX file available from the UN:\n",
    "\n",
    "https://population.un.org/wpp/Download/Standard/Migration/\n",
    "\n",
    "In case the location of this file changes, we've also attached a copy of it to this Repo."
   ]
  },
  {
   "cell_type": "code",
   "execution_count": 24,
   "id": "cec2a285",
   "metadata": {},
   "outputs": [],
   "source": [
    "# skip the first few rows, which just contain extra header information\n",
    "df_migration = pd.read_excel(\n",
    "    \"https://population.un.org/wpp/Download/Files/1_Indicators%20(Standard)/EXCEL_FILES/4_Migration/WPP2019_MIGR_F01_NET_MIGRATION_RATE.xlsx\",\n",
    "    skiprows=range(16),\n",
    ")"
   ]
  },
  {
   "cell_type": "code",
   "execution_count": 25,
   "id": "65ff52a5-586d-461c-af18-8800d3d42ad5",
   "metadata": {},
   "outputs": [
    {
     "data": {
      "text/plain": "   Index    Variant Region, subregion, country or area * Notes  Country code  \\\n0      1  Estimates                                WORLD   NaN           900   \n1      2  Estimates                UN development groups     a          1803   \n2      3  Estimates               More developed regions     b           901   \n3      4  Estimates               Less developed regions     c           902   \n4      5  Estimates            Least developed countries     d           941   \n\n                Type  Parent code 1950-1955 1955-1960 1960-1965  ...  \\\n0              World            0         0         0         0  ...   \n1    Label/Separator          900       ...       ...       ...  ...   \n2  Development Group         1803     0.031     0.032     0.533  ...   \n3  Development Group         1803    -0.014    -0.014    -0.224  ...   \n4  Development Group          902    -0.487    -0.567    -0.787  ...   \n\n  1970-1975 1975-1980 1980-1985 1985-1990 1990-1995 1995-2000 2000-2005  \\\n0         0         0         0         0         0         0         0   \n1       ...       ...       ...       ...       ...       ...       ...   \n2     1.269     1.235     1.062     1.235     1.838     2.228     2.745   \n3    -0.456    -0.411    -0.327    -0.352    -0.486    -0.551     -0.64   \n4    -2.699    -2.118    -2.927    -1.573     0.321    -1.389    -1.254   \n\n  2005-2010 2010-2015 2015-2020  \n0         0         0         0  \n1       ...       ...       ...  \n2     2.773     2.332     2.215  \n3    -0.613    -0.491    -0.443  \n4     -2.42    -1.716    -0.973  \n\n[5 rows x 21 columns]",
      "text/html": "<div>\n<style scoped>\n    .dataframe tbody tr th:only-of-type {\n        vertical-align: middle;\n    }\n\n    .dataframe tbody tr th {\n        vertical-align: top;\n    }\n\n    .dataframe thead th {\n        text-align: right;\n    }\n</style>\n<table border=\"1\" class=\"dataframe\">\n  <thead>\n    <tr style=\"text-align: right;\">\n      <th></th>\n      <th>Index</th>\n      <th>Variant</th>\n      <th>Region, subregion, country or area *</th>\n      <th>Notes</th>\n      <th>Country code</th>\n      <th>Type</th>\n      <th>Parent code</th>\n      <th>1950-1955</th>\n      <th>1955-1960</th>\n      <th>1960-1965</th>\n      <th>...</th>\n      <th>1970-1975</th>\n      <th>1975-1980</th>\n      <th>1980-1985</th>\n      <th>1985-1990</th>\n      <th>1990-1995</th>\n      <th>1995-2000</th>\n      <th>2000-2005</th>\n      <th>2005-2010</th>\n      <th>2010-2015</th>\n      <th>2015-2020</th>\n    </tr>\n  </thead>\n  <tbody>\n    <tr>\n      <th>0</th>\n      <td>1</td>\n      <td>Estimates</td>\n      <td>WORLD</td>\n      <td>NaN</td>\n      <td>900</td>\n      <td>World</td>\n      <td>0</td>\n      <td>0</td>\n      <td>0</td>\n      <td>0</td>\n      <td>...</td>\n      <td>0</td>\n      <td>0</td>\n      <td>0</td>\n      <td>0</td>\n      <td>0</td>\n      <td>0</td>\n      <td>0</td>\n      <td>0</td>\n      <td>0</td>\n      <td>0</td>\n    </tr>\n    <tr>\n      <th>1</th>\n      <td>2</td>\n      <td>Estimates</td>\n      <td>UN development groups</td>\n      <td>a</td>\n      <td>1803</td>\n      <td>Label/Separator</td>\n      <td>900</td>\n      <td>...</td>\n      <td>...</td>\n      <td>...</td>\n      <td>...</td>\n      <td>...</td>\n      <td>...</td>\n      <td>...</td>\n      <td>...</td>\n      <td>...</td>\n      <td>...</td>\n      <td>...</td>\n      <td>...</td>\n      <td>...</td>\n      <td>...</td>\n    </tr>\n    <tr>\n      <th>2</th>\n      <td>3</td>\n      <td>Estimates</td>\n      <td>More developed regions</td>\n      <td>b</td>\n      <td>901</td>\n      <td>Development Group</td>\n      <td>1803</td>\n      <td>0.031</td>\n      <td>0.032</td>\n      <td>0.533</td>\n      <td>...</td>\n      <td>1.269</td>\n      <td>1.235</td>\n      <td>1.062</td>\n      <td>1.235</td>\n      <td>1.838</td>\n      <td>2.228</td>\n      <td>2.745</td>\n      <td>2.773</td>\n      <td>2.332</td>\n      <td>2.215</td>\n    </tr>\n    <tr>\n      <th>3</th>\n      <td>4</td>\n      <td>Estimates</td>\n      <td>Less developed regions</td>\n      <td>c</td>\n      <td>902</td>\n      <td>Development Group</td>\n      <td>1803</td>\n      <td>-0.014</td>\n      <td>-0.014</td>\n      <td>-0.224</td>\n      <td>...</td>\n      <td>-0.456</td>\n      <td>-0.411</td>\n      <td>-0.327</td>\n      <td>-0.352</td>\n      <td>-0.486</td>\n      <td>-0.551</td>\n      <td>-0.64</td>\n      <td>-0.613</td>\n      <td>-0.491</td>\n      <td>-0.443</td>\n    </tr>\n    <tr>\n      <th>4</th>\n      <td>5</td>\n      <td>Estimates</td>\n      <td>Least developed countries</td>\n      <td>d</td>\n      <td>941</td>\n      <td>Development Group</td>\n      <td>902</td>\n      <td>-0.487</td>\n      <td>-0.567</td>\n      <td>-0.787</td>\n      <td>...</td>\n      <td>-2.699</td>\n      <td>-2.118</td>\n      <td>-2.927</td>\n      <td>-1.573</td>\n      <td>0.321</td>\n      <td>-1.389</td>\n      <td>-1.254</td>\n      <td>-2.42</td>\n      <td>-1.716</td>\n      <td>-0.973</td>\n    </tr>\n  </tbody>\n</table>\n<p>5 rows × 21 columns</p>\n</div>"
     },
     "execution_count": 25,
     "metadata": {},
     "output_type": "execute_result"
    }
   ],
   "source": [
    "df_migration.head()"
   ]
  },
  {
   "cell_type": "code",
   "execution_count": 26,
   "id": "411030d5",
   "metadata": {},
   "outputs": [
    {
     "data": {
      "text/plain": "array(['World', 'Label/Separator', 'Development Group', 'Special other',\n       'Income Group', 'Region', 'SDG region', 'Subregion',\n       'Country/Area', 'SDG subregion'], dtype=object)"
     },
     "execution_count": 26,
     "metadata": {},
     "output_type": "execute_result"
    }
   ],
   "source": [
    "df_migration[\"Type\"].unique()"
   ]
  },
  {
   "cell_type": "markdown",
   "id": "825ac07d",
   "metadata": {},
   "source": [
    "Looking at the data as it's read in, you can make several observations:\n",
    "\n",
    "- Data is reported at various aggregations, such as country, income, overall (world), etc.\n",
    "- Metrics are reported at various date ranges. While interesting to have, we are likely going to be most interested in the most recent year range (2015-2020)\n",
    "\n",
    "Because of our specific interests, let's limit rows to just those reporting on country-level values, and limit columns to just the region name and most recent measurement."
   ]
  },
  {
   "cell_type": "code",
   "execution_count": 27,
   "id": "63274163-b149-4add-8cb0-113b6eea9d38",
   "metadata": {},
   "outputs": [
    {
     "data": {
      "text/plain": "    Index    Variant Region, subregion, country or area * Notes  Country code  \\\n26     27  Estimates                              Burundi   NaN           108   \n27     28  Estimates                              Comoros   NaN           174   \n28     29  Estimates                             Djibouti   NaN           262   \n29     30  Estimates                              Eritrea   NaN           232   \n30     31  Estimates                             Ethiopia   NaN           231   \n\n            Type  Parent code 1950-1955 1955-1960 1960-1965  ... 1970-1975  \\\n26  Country/Area          910    -5.773    -5.252    -5.769  ...   -14.847   \n27  Country/Area          910         0    -6.666    -8.522  ...    -4.514   \n28  Country/Area          910     3.037    13.052    36.254  ...     36.47   \n29  Country/Area          910     0.232     0.629     1.298  ...      1.42   \n30  Country/Area          910     -0.21     -0.19     -0.17  ...    -0.391   \n\n   1975-1980 1980-1985 1985-1990 1990-1995 1995-2000 2000-2005 2005-2010  \\\n26     -7.65    -6.248    -7.066   -11.203   -14.728    -0.719     0.748   \n27     7.078    -2.714    -2.347    -1.353    -2.358    -3.466    -3.074   \n28    62.553     5.098    35.432   -14.745     2.964    -2.398    -3.011   \n29     1.235      1.07    -3.754   -28.212   -11.564     17.76    -5.337   \n30   -12.479     1.312     3.461     5.557    -0.505    -0.421    -0.122   \n\n   2010-2015 2015-2020  \n26    -1.487     0.181  \n27    -2.726    -2.429  \n28     1.369     0.947  \n29   -15.108   -11.571  \n30     0.849     0.278  \n\n[5 rows x 21 columns]",
      "text/html": "<div>\n<style scoped>\n    .dataframe tbody tr th:only-of-type {\n        vertical-align: middle;\n    }\n\n    .dataframe tbody tr th {\n        vertical-align: top;\n    }\n\n    .dataframe thead th {\n        text-align: right;\n    }\n</style>\n<table border=\"1\" class=\"dataframe\">\n  <thead>\n    <tr style=\"text-align: right;\">\n      <th></th>\n      <th>Index</th>\n      <th>Variant</th>\n      <th>Region, subregion, country or area *</th>\n      <th>Notes</th>\n      <th>Country code</th>\n      <th>Type</th>\n      <th>Parent code</th>\n      <th>1950-1955</th>\n      <th>1955-1960</th>\n      <th>1960-1965</th>\n      <th>...</th>\n      <th>1970-1975</th>\n      <th>1975-1980</th>\n      <th>1980-1985</th>\n      <th>1985-1990</th>\n      <th>1990-1995</th>\n      <th>1995-2000</th>\n      <th>2000-2005</th>\n      <th>2005-2010</th>\n      <th>2010-2015</th>\n      <th>2015-2020</th>\n    </tr>\n  </thead>\n  <tbody>\n    <tr>\n      <th>26</th>\n      <td>27</td>\n      <td>Estimates</td>\n      <td>Burundi</td>\n      <td>NaN</td>\n      <td>108</td>\n      <td>Country/Area</td>\n      <td>910</td>\n      <td>-5.773</td>\n      <td>-5.252</td>\n      <td>-5.769</td>\n      <td>...</td>\n      <td>-14.847</td>\n      <td>-7.65</td>\n      <td>-6.248</td>\n      <td>-7.066</td>\n      <td>-11.203</td>\n      <td>-14.728</td>\n      <td>-0.719</td>\n      <td>0.748</td>\n      <td>-1.487</td>\n      <td>0.181</td>\n    </tr>\n    <tr>\n      <th>27</th>\n      <td>28</td>\n      <td>Estimates</td>\n      <td>Comoros</td>\n      <td>NaN</td>\n      <td>174</td>\n      <td>Country/Area</td>\n      <td>910</td>\n      <td>0</td>\n      <td>-6.666</td>\n      <td>-8.522</td>\n      <td>...</td>\n      <td>-4.514</td>\n      <td>7.078</td>\n      <td>-2.714</td>\n      <td>-2.347</td>\n      <td>-1.353</td>\n      <td>-2.358</td>\n      <td>-3.466</td>\n      <td>-3.074</td>\n      <td>-2.726</td>\n      <td>-2.429</td>\n    </tr>\n    <tr>\n      <th>28</th>\n      <td>29</td>\n      <td>Estimates</td>\n      <td>Djibouti</td>\n      <td>NaN</td>\n      <td>262</td>\n      <td>Country/Area</td>\n      <td>910</td>\n      <td>3.037</td>\n      <td>13.052</td>\n      <td>36.254</td>\n      <td>...</td>\n      <td>36.47</td>\n      <td>62.553</td>\n      <td>5.098</td>\n      <td>35.432</td>\n      <td>-14.745</td>\n      <td>2.964</td>\n      <td>-2.398</td>\n      <td>-3.011</td>\n      <td>1.369</td>\n      <td>0.947</td>\n    </tr>\n    <tr>\n      <th>29</th>\n      <td>30</td>\n      <td>Estimates</td>\n      <td>Eritrea</td>\n      <td>NaN</td>\n      <td>232</td>\n      <td>Country/Area</td>\n      <td>910</td>\n      <td>0.232</td>\n      <td>0.629</td>\n      <td>1.298</td>\n      <td>...</td>\n      <td>1.42</td>\n      <td>1.235</td>\n      <td>1.07</td>\n      <td>-3.754</td>\n      <td>-28.212</td>\n      <td>-11.564</td>\n      <td>17.76</td>\n      <td>-5.337</td>\n      <td>-15.108</td>\n      <td>-11.571</td>\n    </tr>\n    <tr>\n      <th>30</th>\n      <td>31</td>\n      <td>Estimates</td>\n      <td>Ethiopia</td>\n      <td>NaN</td>\n      <td>231</td>\n      <td>Country/Area</td>\n      <td>910</td>\n      <td>-0.21</td>\n      <td>-0.19</td>\n      <td>-0.17</td>\n      <td>...</td>\n      <td>-0.391</td>\n      <td>-12.479</td>\n      <td>1.312</td>\n      <td>3.461</td>\n      <td>5.557</td>\n      <td>-0.505</td>\n      <td>-0.421</td>\n      <td>-0.122</td>\n      <td>0.849</td>\n      <td>0.278</td>\n    </tr>\n  </tbody>\n</table>\n<p>5 rows × 21 columns</p>\n</div>"
     },
     "execution_count": 27,
     "metadata": {},
     "output_type": "execute_result"
    }
   ],
   "source": [
    "# limit to only country-level rows\n",
    "df_migration_countries = df_migration.loc[df_migration[\"Type\"] == \"Country/Area\"]\n",
    "df_migration_countries.head()"
   ]
  },
  {
   "cell_type": "code",
   "execution_count": 28,
   "id": "3c1ce3dd-7a9f-4c4d-9756-869887ad6af5",
   "metadata": {},
   "outputs": [],
   "source": [
    "# limit to only relevant columns\n",
    "df_migration_subset = df_migration_countries[\n",
    "    [\"Region, subregion, country or area *\", \"2015-2020\"]\n",
    "]"
   ]
  },
  {
   "cell_type": "code",
   "execution_count": 29,
   "id": "3e7c18e9-7d75-4def-8248-2147dd198d72",
   "metadata": {},
   "outputs": [
    {
     "data": {
      "text/plain": "   Region, subregion, country or area * 2015-2020\n26                              Burundi     0.181\n27                              Comoros    -2.429\n28                             Djibouti     0.947\n29                              Eritrea   -11.571\n30                             Ethiopia     0.278",
      "text/html": "<div>\n<style scoped>\n    .dataframe tbody tr th:only-of-type {\n        vertical-align: middle;\n    }\n\n    .dataframe tbody tr th {\n        vertical-align: top;\n    }\n\n    .dataframe thead th {\n        text-align: right;\n    }\n</style>\n<table border=\"1\" class=\"dataframe\">\n  <thead>\n    <tr style=\"text-align: right;\">\n      <th></th>\n      <th>Region, subregion, country or area *</th>\n      <th>2015-2020</th>\n    </tr>\n  </thead>\n  <tbody>\n    <tr>\n      <th>26</th>\n      <td>Burundi</td>\n      <td>0.181</td>\n    </tr>\n    <tr>\n      <th>27</th>\n      <td>Comoros</td>\n      <td>-2.429</td>\n    </tr>\n    <tr>\n      <th>28</th>\n      <td>Djibouti</td>\n      <td>0.947</td>\n    </tr>\n    <tr>\n      <th>29</th>\n      <td>Eritrea</td>\n      <td>-11.571</td>\n    </tr>\n    <tr>\n      <th>30</th>\n      <td>Ethiopia</td>\n      <td>0.278</td>\n    </tr>\n  </tbody>\n</table>\n</div>"
     },
     "execution_count": 29,
     "metadata": {},
     "output_type": "execute_result"
    }
   ],
   "source": [
    "df_migration_subset.head()"
   ]
  },
  {
   "cell_type": "markdown",
   "id": "5af5abc3",
   "metadata": {},
   "source": [
    "Right now, the column names aren't very specific to our limited use case. So, we can rename the columns in our subsetted dataframe to be more interpretable in our downstream dataset. "
   ]
  },
  {
   "cell_type": "code",
   "execution_count": 30,
   "id": "2ab7ea82-1f27-474f-bea4-e01ee9ca3253",
   "metadata": {},
   "outputs": [
    {
     "name": "stderr",
     "output_type": "stream",
     "text": [
      "/var/folders/8g/ffrbnw6j5zx4mz9ww8k_h11c0000gp/T/ipykernel_17532/3355341528.py:1: SettingWithCopyWarning: \n",
      "A value is trying to be set on a copy of a slice from a DataFrame\n",
      "\n",
      "See the caveats in the documentation: https://pandas.pydata.org/pandas-docs/stable/user_guide/indexing.html#returning-a-view-versus-a-copy\n",
      "  df_migration_subset.rename(\n"
     ]
    }
   ],
   "source": [
    "df_migration_subset.rename(\n",
    "    {\"Region, subregion, country or area *\": \"country\", \"2015-2020\": \"migration_rate\"},\n",
    "    axis=1,\n",
    "    inplace=True,\n",
    ")"
   ]
  },
  {
   "cell_type": "code",
   "execution_count": 31,
   "id": "e3e3d1d2-2e11-4d1c-8d1a-66dee9684e07",
   "metadata": {},
   "outputs": [
    {
     "data": {
      "text/plain": "     country migration_rate\n26   Burundi          0.181\n27   Comoros         -2.429\n28  Djibouti          0.947\n29   Eritrea        -11.571\n30  Ethiopia          0.278",
      "text/html": "<div>\n<style scoped>\n    .dataframe tbody tr th:only-of-type {\n        vertical-align: middle;\n    }\n\n    .dataframe tbody tr th {\n        vertical-align: top;\n    }\n\n    .dataframe thead th {\n        text-align: right;\n    }\n</style>\n<table border=\"1\" class=\"dataframe\">\n  <thead>\n    <tr style=\"text-align: right;\">\n      <th></th>\n      <th>country</th>\n      <th>migration_rate</th>\n    </tr>\n  </thead>\n  <tbody>\n    <tr>\n      <th>26</th>\n      <td>Burundi</td>\n      <td>0.181</td>\n    </tr>\n    <tr>\n      <th>27</th>\n      <td>Comoros</td>\n      <td>-2.429</td>\n    </tr>\n    <tr>\n      <th>28</th>\n      <td>Djibouti</td>\n      <td>0.947</td>\n    </tr>\n    <tr>\n      <th>29</th>\n      <td>Eritrea</td>\n      <td>-11.571</td>\n    </tr>\n    <tr>\n      <th>30</th>\n      <td>Ethiopia</td>\n      <td>0.278</td>\n    </tr>\n  </tbody>\n</table>\n</div>"
     },
     "execution_count": 31,
     "metadata": {},
     "output_type": "execute_result"
    }
   ],
   "source": [
    "df_migration_subset.head()"
   ]
  },
  {
   "cell_type": "markdown",
   "id": "0ae7439f",
   "metadata": {},
   "source": [
    "At this point, we have a cleaned up DataFrame with weather data (at the visitor-level), and a cleaned up DataFrame with migration data (at the country-level). To be able to look at these metrics together, we will join the data together. Because our ultimate goal is to have all data at the website visitor level, we will want to perform a left join of the migration data to the weather data, as the migration data is aggregated at a coarser level."
   ]
  },
  {
   "cell_type": "code",
   "execution_count": 32,
   "id": "6d930f4d-edcb-499f-b9dd-8c3c1bfaa4cc",
   "metadata": {},
   "outputs": [],
   "source": [
    "df_weather_migration = df_weather.merge(\n",
    "    df_migration_subset, how=\"left\", left_on=\"country\", right_on=\"country\"\n",
    ")"
   ]
  },
  {
   "cell_type": "markdown",
   "id": "ff97128b",
   "metadata": {},
   "source": [
    "And, voila!"
   ]
  },
  {
   "cell_type": "code",
   "execution_count": 33,
   "id": "d0cd2024-c049-4bd1-b9c4-6292488f1d8e",
   "metadata": {},
   "outputs": [
    {
     "data": {
      "text/plain": "                ip   status        country countryCode region  \\\n0       76.48.9.26  success  United States          US     KY   \n1   191.124.104.54  success          Chile          CL     RM   \n2     60.101.48.89  success          Japan          JP     23   \n3    198.32.82.178  success  United States          US     TX   \n4  167.244.197.240  success  United States          US     NY   \n\n              regionName        city       zip      lat       lon  ...  \\\n0               Kentucky  Georgetown     40324  38.2098  -84.5588  ...   \n1  Santiago Metropolitan    Santiago   8320000 -33.4411  -70.6452  ...   \n2                  Aichi     Nisshin  470-0151  35.1335  137.0417  ...   \n3                  Texas     Houston     77027  29.7281  -95.4451  ...   \n4               New York      Albany     12208  42.6532  -73.7764  ...   \n\n                                           org                            as  \\\n0                        10net DSG cable modem                                 \n1                Telefonica Movil De Chile S.A  AS7418 TELEFÓNICA CHILE S.A.   \n2  Japan Nation-wide Network of Softbank Corp.     AS17676 Softbank BB Corp.   \n3                                 CyrusOne LLC             AS62 CyrusOne LLC   \n4                        Albany Medical Center                                 \n\n             query                                    current_weather  \\\n0       76.48.9.26  {'winddirection': 319, 'temperature': 9.8, 'wi...   \n1   191.124.104.54  {'temperature': 12.9, 'weathercode': 3, 'windd...   \n2     60.101.48.89  {'winddirection': 335, 'windspeed': 7.7, 'time...   \n3    198.32.82.178  {'winddirection': 72, 'windspeed': 10.3, 'time...   \n4  167.244.197.240  {'weathercode': 3, 'time': '2022-04-27T14:00',...   \n\n  utc_offset_seconds generationtime_ms  elevation  longitude  latitude  \\\n0                  0          2.248049  278.75000    -84.500    38.250   \n1                  0          0.243068  608.50000    -70.625   -33.500   \n2                  0          0.123978   32.71875    137.000    35.125   \n3                  0          0.128031   21.71875    -95.500    29.750   \n4                  0          0.123024   68.43750    -73.750    42.625   \n\n   migration_rate  \n0             NaN  \n1           6.024  \n2           0.562  \n3             NaN  \n4             NaN  \n\n[5 rows x 22 columns]",
      "text/html": "<div>\n<style scoped>\n    .dataframe tbody tr th:only-of-type {\n        vertical-align: middle;\n    }\n\n    .dataframe tbody tr th {\n        vertical-align: top;\n    }\n\n    .dataframe thead th {\n        text-align: right;\n    }\n</style>\n<table border=\"1\" class=\"dataframe\">\n  <thead>\n    <tr style=\"text-align: right;\">\n      <th></th>\n      <th>ip</th>\n      <th>status</th>\n      <th>country</th>\n      <th>countryCode</th>\n      <th>region</th>\n      <th>regionName</th>\n      <th>city</th>\n      <th>zip</th>\n      <th>lat</th>\n      <th>lon</th>\n      <th>...</th>\n      <th>org</th>\n      <th>as</th>\n      <th>query</th>\n      <th>current_weather</th>\n      <th>utc_offset_seconds</th>\n      <th>generationtime_ms</th>\n      <th>elevation</th>\n      <th>longitude</th>\n      <th>latitude</th>\n      <th>migration_rate</th>\n    </tr>\n  </thead>\n  <tbody>\n    <tr>\n      <th>0</th>\n      <td>76.48.9.26</td>\n      <td>success</td>\n      <td>United States</td>\n      <td>US</td>\n      <td>KY</td>\n      <td>Kentucky</td>\n      <td>Georgetown</td>\n      <td>40324</td>\n      <td>38.2098</td>\n      <td>-84.5588</td>\n      <td>...</td>\n      <td>10net DSG cable modem</td>\n      <td></td>\n      <td>76.48.9.26</td>\n      <td>{'winddirection': 319, 'temperature': 9.8, 'wi...</td>\n      <td>0</td>\n      <td>2.248049</td>\n      <td>278.75000</td>\n      <td>-84.500</td>\n      <td>38.250</td>\n      <td>NaN</td>\n    </tr>\n    <tr>\n      <th>1</th>\n      <td>191.124.104.54</td>\n      <td>success</td>\n      <td>Chile</td>\n      <td>CL</td>\n      <td>RM</td>\n      <td>Santiago Metropolitan</td>\n      <td>Santiago</td>\n      <td>8320000</td>\n      <td>-33.4411</td>\n      <td>-70.6452</td>\n      <td>...</td>\n      <td>Telefonica Movil De Chile S.A</td>\n      <td>AS7418 TELEFÓNICA CHILE S.A.</td>\n      <td>191.124.104.54</td>\n      <td>{'temperature': 12.9, 'weathercode': 3, 'windd...</td>\n      <td>0</td>\n      <td>0.243068</td>\n      <td>608.50000</td>\n      <td>-70.625</td>\n      <td>-33.500</td>\n      <td>6.024</td>\n    </tr>\n    <tr>\n      <th>2</th>\n      <td>60.101.48.89</td>\n      <td>success</td>\n      <td>Japan</td>\n      <td>JP</td>\n      <td>23</td>\n      <td>Aichi</td>\n      <td>Nisshin</td>\n      <td>470-0151</td>\n      <td>35.1335</td>\n      <td>137.0417</td>\n      <td>...</td>\n      <td>Japan Nation-wide Network of Softbank Corp.</td>\n      <td>AS17676 Softbank BB Corp.</td>\n      <td>60.101.48.89</td>\n      <td>{'winddirection': 335, 'windspeed': 7.7, 'time...</td>\n      <td>0</td>\n      <td>0.123978</td>\n      <td>32.71875</td>\n      <td>137.000</td>\n      <td>35.125</td>\n      <td>0.562</td>\n    </tr>\n    <tr>\n      <th>3</th>\n      <td>198.32.82.178</td>\n      <td>success</td>\n      <td>United States</td>\n      <td>US</td>\n      <td>TX</td>\n      <td>Texas</td>\n      <td>Houston</td>\n      <td>77027</td>\n      <td>29.7281</td>\n      <td>-95.4451</td>\n      <td>...</td>\n      <td>CyrusOne LLC</td>\n      <td>AS62 CyrusOne LLC</td>\n      <td>198.32.82.178</td>\n      <td>{'winddirection': 72, 'windspeed': 10.3, 'time...</td>\n      <td>0</td>\n      <td>0.128031</td>\n      <td>21.71875</td>\n      <td>-95.500</td>\n      <td>29.750</td>\n      <td>NaN</td>\n    </tr>\n    <tr>\n      <th>4</th>\n      <td>167.244.197.240</td>\n      <td>success</td>\n      <td>United States</td>\n      <td>US</td>\n      <td>NY</td>\n      <td>New York</td>\n      <td>Albany</td>\n      <td>12208</td>\n      <td>42.6532</td>\n      <td>-73.7764</td>\n      <td>...</td>\n      <td>Albany Medical Center</td>\n      <td></td>\n      <td>167.244.197.240</td>\n      <td>{'weathercode': 3, 'time': '2022-04-27T14:00',...</td>\n      <td>0</td>\n      <td>0.123024</td>\n      <td>68.43750</td>\n      <td>-73.750</td>\n      <td>42.625</td>\n      <td>NaN</td>\n    </tr>\n  </tbody>\n</table>\n<p>5 rows × 22 columns</p>\n</div>"
     },
     "execution_count": 33,
     "metadata": {},
     "output_type": "execute_result"
    }
   ],
   "source": [
    "df_weather_migration.head()"
   ]
  },
  {
   "cell_type": "markdown",
   "id": "8f6b741c",
   "metadata": {},
   "source": [
    "## 2.4 :: Data Validation and Cleaning\n",
    "\n",
    "So far things are looking pretty good, but let's dig a little bit deeper to see how things turned out after the join. One thing to be cautious about here is that our left join will still return a result if there are cases where there may not have been a match. For example, if a particualr visitor's country doesn't have a perfect match in the migration dataset, it will remain a row in our dataframe, but all of the weather and location data will be left empty!"
   ]
  },
  {
   "cell_type": "code",
   "execution_count": 34,
   "id": "83208806-2741-4273-bc9d-95e3708cfbac",
   "metadata": {},
   "outputs": [
    {
     "data": {
      "text/plain": "array(['Chile', 'Japan', 'China', 'Norway'], dtype=object)"
     },
     "execution_count": 34,
     "metadata": {},
     "output_type": "execute_result"
    }
   ],
   "source": [
    "# a few countries did match up\n",
    "df_weather_migration.loc[\n",
    "    df_weather_migration[\"migration_rate\"].notna(), \"country\"\n",
    "].unique()"
   ]
  },
  {
   "cell_type": "code",
   "execution_count": 35,
   "id": "ceea5be5-1a7d-4e0c-9e2c-4079a5b2d8d9",
   "metadata": {},
   "outputs": [
    {
     "data": {
      "text/plain": "array(['United States'], dtype=object)"
     },
     "execution_count": 35,
     "metadata": {},
     "output_type": "execute_result"
    }
   ],
   "source": [
    "# some countries didn't match because names are different\n",
    "df_weather_migration.loc[\n",
    "    df_weather_migration[\"migration_rate\"].isna(), \"country\"\n",
    "].unique()"
   ]
  },
  {
   "cell_type": "markdown",
   "id": "68c91edb",
   "metadata": {},
   "source": [
    "Based on the findings of the above cell (listing out the contries where migration rate is empty) we can see a list of countries that don't have an exact string match to the migration data. To help troubleshoot this, we can search the migration data for entries that contain at least a partial string match."
   ]
  },
  {
   "cell_type": "code",
   "execution_count": 36,
   "id": "51b211bb-6e9e-433b-891b-2e157b122fad",
   "metadata": {},
   "outputs": [
    {
     "data": {
      "text/plain": "                          country migration_rate\n164  United States Virgin Islands         -4.306\n254      United States of America          2.929",
      "text/html": "<div>\n<style scoped>\n    .dataframe tbody tr th:only-of-type {\n        vertical-align: middle;\n    }\n\n    .dataframe tbody tr th {\n        vertical-align: top;\n    }\n\n    .dataframe thead th {\n        text-align: right;\n    }\n</style>\n<table border=\"1\" class=\"dataframe\">\n  <thead>\n    <tr style=\"text-align: right;\">\n      <th></th>\n      <th>country</th>\n      <th>migration_rate</th>\n    </tr>\n  </thead>\n  <tbody>\n    <tr>\n      <th>164</th>\n      <td>United States Virgin Islands</td>\n      <td>-4.306</td>\n    </tr>\n    <tr>\n      <th>254</th>\n      <td>United States of America</td>\n      <td>2.929</td>\n    </tr>\n  </tbody>\n</table>\n</div>"
     },
     "execution_count": 36,
     "metadata": {},
     "output_type": "execute_result"
    }
   ],
   "source": [
    "# search for strings containing `United States`\n",
    "# this shows that the migration data refers to this country as `United States of America`\n",
    "# we can clean this up prior to the join, and then they should match up\n",
    "df_migration_subset.loc[df_migration_subset[\"country\"].str.contains(\"United States\")]"
   ]
  },
  {
   "cell_type": "code",
   "execution_count": 37,
   "id": "f63d1570-90be-42c9-927e-8530c1f07904",
   "metadata": {},
   "outputs": [
    {
     "name": "stderr",
     "output_type": "stream",
     "text": [
      "/var/folders/8g/ffrbnw6j5zx4mz9ww8k_h11c0000gp/T/ipykernel_17532/4080274744.py:5: SettingWithCopyWarning: \n",
      "A value is trying to be set on a copy of a slice from a DataFrame\n",
      "\n",
      "See the caveats in the documentation: https://pandas.pydata.org/pandas-docs/stable/user_guide/indexing.html#returning-a-view-versus-a-copy\n",
      "  df_migration_subset[\"country\"].replace(\n"
     ]
    }
   ],
   "source": [
    "# to get join to work, let's rename country in the migration dataset\n",
    "# this dict of replacements came from running a number of IPs through our process\n",
    "# it may not be exhaustive\n",
    "\n",
    "df_migration_subset[\"country\"].replace(\n",
    "    to_replace={\n",
    "        \"United States of America\": \"United States\",\n",
    "        \"Syrian Arab Republic\": \"Syria\",\n",
    "        \"Russian Federation\": \"Russia\",\n",
    "        \"Republic of Korea\": \"South Korea\",\n",
    "        \"Venezuela (Bolivarian Republic of)\": \"Venezuela\",\n",
    "        \"Viet Nam\": \"Vietnam\",\n",
    "        \"China, Taiwan Province of China\": \"Taiwan\",\n",
    "    },\n",
    "    inplace=True,\n",
    ")"
   ]
  },
  {
   "cell_type": "code",
   "execution_count": 38,
   "id": "e005ad15-aa31-4025-a69e-e994cc8b7430",
   "metadata": {},
   "outputs": [],
   "source": [
    "# try the join again\n",
    "df_weather_migration = df_weather.merge(\n",
    "    df_migration_subset, how=\"left\", left_on=\"country\", right_on=\"country\"\n",
    ")"
   ]
  },
  {
   "cell_type": "code",
   "execution_count": 39,
   "id": "2660c6c3-d189-452d-9c42-df477e45d912",
   "metadata": {},
   "outputs": [
    {
     "data": {
      "text/plain": "array([], dtype=object)"
     },
     "execution_count": 39,
     "metadata": {},
     "output_type": "execute_result"
    }
   ],
   "source": [
    "# now see if all entries have a match\n",
    "# empty array means that no entries are missing migration data\n",
    "df_weather_migration.loc[\n",
    "    df_weather_migration[\"migration_rate\"].isna(), \"country\"\n",
    "].unique()"
   ]
  },
  {
   "cell_type": "markdown",
   "id": "02cfb0e6",
   "metadata": {},
   "source": [
    "At this point, we've created a dataset containing location, weather, and migration data for visitors to our website. Depending on your use-case, at this point you may decide to add in additional data sources, perform feature engineering, or implement extra cleanup and data validation steps."
   ]
  },
  {
   "cell_type": "markdown",
   "id": "eb5566a8",
   "metadata": {},
   "source": [
    "# Part 3 :: Data visualization and analysis"
   ]
  },
  {
   "cell_type": "markdown",
   "id": "e9905fd3",
   "metadata": {},
   "source": []
  }
 ],
 "metadata": {
  "kernelspec": {
   "name": "wwc",
   "language": "python",
   "display_name": "wwc"
  },
  "language_info": {
   "codemirror_mode": {
    "name": "ipython",
    "version": 3
   },
   "file_extension": ".py",
   "mimetype": "text/x-python",
   "name": "python",
   "nbconvert_exporter": "python",
   "pygments_lexer": "ipython3",
   "version": "3.9.7"
  }
 },
 "nbformat": 4,
 "nbformat_minor": 5
}