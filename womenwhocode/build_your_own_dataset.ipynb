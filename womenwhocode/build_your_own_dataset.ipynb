{
 "cells": [
  {
   "cell_type": "markdown",
   "id": "508f2b28-54c0-4ba4-8714-5c68cb9fef75",
   "metadata": {},
   "source": [
    "# Women Who Code :: Build-Your-Own Dataset\n",
    "\n",
    "Sometimes data scientists are handed a fully prepared and cleaned dataset, but this is rarely the case. Today's workshop will give you practice in building your own dataset from scratch. We will use public APIs and publically available data files to create a dataset of weather and population data that is ready for downstream uses.\n",
    "\n",
    "In this workshop, we'll be collecting and organizing information for fictional visitors to our fictional \n"
   ]
  },
  {
   "cell_type": "code",
   "execution_count": 35,
   "id": "22e1bcd5",
   "metadata": {},
   "outputs": [],
   "source": [
    "from faker import Faker\n",
    "import pandas as pd\n",
    "import requests"
   ]
  },
  {
   "cell_type": "markdown",
   "id": "ea680bb3-783a-4a3f-aa4c-9cb6403f91fb",
   "metadata": {},
   "source": [
    "# Part 1 :: Calling Public APIs\n",
    "\n",
    "In this first section we will use several publically available APIs to collect information about fictional visitors to our website. The only information we directly collect about visitors is their IP address. Beyond that, we'll have to look to outside sources to pull in information to learn more about our visitors."
   ]
  },
  {
   "cell_type": "markdown",
   "id": "51372b8f",
   "metadata": {},
   "source": [
    "## Get your IP address\n",
    "\n",
    "An IP address is a unique address that identifies a device on the internet or a local network. IP stands for \"Internet Protocol,\" which is the set of rules governing the format of data sent via the internet or local network.\n",
    "\n",
    "To find out your own IP address, you can make a call to the [ipify](https://www.ipify.org/) API, a simple public IP address API. This API does not require an account or API key."
   ]
  },
  {
   "cell_type": "code",
   "execution_count": 3,
   "id": "26538a01",
   "metadata": {},
   "outputs": [],
   "source": [
    "# api endpoint\n",
    "url = \"https://api.ipify.org\"\n",
    "\n",
    "# request formatted response\n",
    "params = {\n",
    "    \"format\": \"json\"\n",
    "}\n",
    "\n",
    "resp = requests.get(url, params)"
   ]
  },
  {
   "cell_type": "markdown",
   "id": "1bd88f6d-8c4d-48ed-a142-858f78bfabec",
   "metadata": {},
   "source": [
    "Congrats, you just made a call to the first API of this workshop! Let's take a closer look at the response, and see what information we've collected from it."
   ]
  },
  {
   "cell_type": "code",
   "execution_count": 5,
   "id": "c753b0ad-5074-4efa-8f66-a21822dd5f7d",
   "metadata": {},
   "outputs": [
    {
     "data": {
      "text/plain": [
       "200"
      ]
     },
     "execution_count": 5,
     "metadata": {},
     "output_type": "execute_result"
    }
   ],
   "source": [
    "# http response status codes indicate whether the request has been successfully completed\n",
    "resp.status_code"
   ]
  },
  {
   "cell_type": "code",
   "execution_count": 6,
   "id": "fa6cd471",
   "metadata": {},
   "outputs": [
    {
     "data": {
      "text/plain": [
       "'{\"ip\":\"3.94.219.192\"}'"
      ]
     },
     "execution_count": 6,
     "metadata": {},
     "output_type": "execute_result"
    }
   ],
   "source": [
    "# can get response in a string format\n",
    "resp.text"
   ]
  },
  {
   "cell_type": "code",
   "execution_count": 7,
   "id": "c38e3e58",
   "metadata": {},
   "outputs": [
    {
     "data": {
      "text/plain": [
       "{'ip': '3.94.219.192'}"
      ]
     },
     "execution_count": 7,
     "metadata": {},
     "output_type": "execute_result"
    }
   ],
   "source": [
    "# or more usefully as a json dictionary\n",
    "resp.json()"
   ]
  },
  {
   "cell_type": "code",
   "execution_count": 8,
   "id": "ab087789",
   "metadata": {},
   "outputs": [],
   "source": [
    "# let's hold on to ip address, and use it in some next steps\n",
    "ip = resp.json()[\"ip\"]"
   ]
  },
  {
   "cell_type": "markdown",
   "id": "bdb49d44",
   "metadata": {
    "tags": []
   },
   "source": [
    "## Get location for an IP address\n",
    "\n",
    "IP addresses can be linked to information about the location where you are connected to the internet.\n",
    "\n",
    "To find geolocation information given an IP address, we can use the [ip-api](https://ip-api.com/) JSON endpoint. The IP address endpoint allowed us to pass the desired response format (JSON) as a query parameter, but this API has a specific JSON endpoint, so we'll specify the data format as part of the URL."
   ]
  },
  {
   "cell_type": "code",
   "execution_count": 9,
   "id": "98a46c4f",
   "metadata": {},
   "outputs": [],
   "source": [
    "url = f\"http://ip-api.com/json/{ip}\"\n",
    "\n",
    "resp = requests.get(url)"
   ]
  },
  {
   "cell_type": "code",
   "execution_count": 10,
   "id": "bb23de38",
   "metadata": {},
   "outputs": [
    {
     "data": {
      "text/plain": [
       "200"
      ]
     },
     "execution_count": 10,
     "metadata": {},
     "output_type": "execute_result"
    }
   ],
   "source": [
    "# check that the call succeeded\n",
    "resp.status_code"
   ]
  },
  {
   "cell_type": "code",
   "execution_count": 11,
   "id": "97ca433c",
   "metadata": {},
   "outputs": [
    {
     "data": {
      "text/plain": [
       "{'status': 'success',\n",
       " 'country': 'United States',\n",
       " 'countryCode': 'US',\n",
       " 'region': 'VA',\n",
       " 'regionName': 'Virginia',\n",
       " 'city': 'Ashburn',\n",
       " 'zip': '20149',\n",
       " 'lat': 39.0438,\n",
       " 'lon': -77.4874,\n",
       " 'timezone': 'America/New_York',\n",
       " 'isp': 'Amazon Technologies Inc.',\n",
       " 'org': 'AWS EC2 (us-east-1)',\n",
       " 'as': 'AS14618 Amazon.com, Inc.',\n",
       " 'query': '3.94.219.192'}"
      ]
     },
     "execution_count": 11,
     "metadata": {},
     "output_type": "execute_result"
    }
   ],
   "source": [
    "# inspect the returned data\n",
    "resp.json()"
   ]
  },
  {
   "cell_type": "code",
   "execution_count": 14,
   "id": "b33a9cbe",
   "metadata": {},
   "outputs": [],
   "source": [
    "# pull out the lat/long fields, since we can look up info about this location\n",
    "\n",
    "lat = resp.json()[\"lat\"]\n",
    "long = resp.json()[\"lon\"]"
   ]
  },
  {
   "cell_type": "code",
   "execution_count": 15,
   "id": "be34325a",
   "metadata": {},
   "outputs": [],
   "source": [
    "def get_location_info(ip: str):\n",
    "    \"\"\"\n",
    "    Given an IP address, return a dictionary of location information.\n",
    "    \"\"\"\n",
    "    url = f\"http://ip-api.com/json/{ip}\"\n",
    "    resp = requests.get(url)\n",
    "    return resp.json()"
   ]
  },
  {
   "cell_type": "markdown",
   "id": "d20fdd2b",
   "metadata": {},
   "source": [
    "## Get local weather\n",
    "\n",
    "Now that we know where a visitor is from, we can collect any information from other sources to understand the user's location. For this workshop, let's say that our website has content related to weather, and so the visitor's current weather is of interest to us.\n",
    "\n",
    "Given the visitor's latitude and longitude, we can use the [Open Meteo](https://open-meteo.com/en) API to get information about the location's current weather. Like the other APIs we've used in this workshop, Open Meteo is public and does not require an API key.\n",
    "\n"
   ]
  },
  {
   "cell_type": "code",
   "execution_count": 31,
   "id": "0bcebdcb",
   "metadata": {},
   "outputs": [],
   "source": [
    "url = \"https://api.open-meteo.com/v1/forecast\"\n",
    "\n",
    "params = {\n",
    "    \"latitude\": lat,\n",
    "    \"longitude\": long,\n",
    "    \"current_weather\": True,\n",
    "    \"format\": \"json\"\n",
    "}\n",
    "\n",
    "resp = requests.get(url, params)"
   ]
  },
  {
   "cell_type": "code",
   "execution_count": 32,
   "id": "e9f686fa",
   "metadata": {},
   "outputs": [
    {
     "data": {
      "text/plain": [
       "200"
      ]
     },
     "execution_count": 32,
     "metadata": {},
     "output_type": "execute_result"
    }
   ],
   "source": [
    "resp.status_code"
   ]
  },
  {
   "cell_type": "code",
   "execution_count": 33,
   "id": "ff5e7806",
   "metadata": {},
   "outputs": [
    {
     "data": {
      "text/plain": [
       "{'generationtime_ms': 0.11897087097167969,\n",
       " 'longitude': -77.5,\n",
       " 'elevation': 98.3125,\n",
       " 'current_weather': {'temperature': 22.6,\n",
       "  'time': '2022-03-18T19:00',\n",
       "  'winddirection': 183,\n",
       "  'windspeed': 14.9,\n",
       "  'weathercode': 3},\n",
       " 'latitude': 39,\n",
       " 'utc_offset_seconds': 0}"
      ]
     },
     "execution_count": 33,
     "metadata": {},
     "output_type": "execute_result"
    }
   ],
   "source": [
    "resp.json()"
   ]
  },
  {
   "cell_type": "code",
   "execution_count": 34,
   "id": "252c0a44",
   "metadata": {},
   "outputs": [],
   "source": [
    "def get_weather_info(lat: float, long: float):\n",
    "    \"\"\"\n",
    "    Given a latitude and longitude, return the current weather.\n",
    "    \"\"\"\n",
    "    url = \"https://api.open-meteo.com/v1/forecast\"\n",
    "\n",
    "    params = {\n",
    "        \"latitude\": lat,\n",
    "        \"longitude\": long,\n",
    "        \"current_weather\": True,\n",
    "        \"format\": \"json\"\n",
    "    }\n",
    "\n",
    "    resp = requests.get(url, params)\n",
    "    return resp.json()\n"
   ]
  },
  {
   "cell_type": "markdown",
   "id": "d5184b0c",
   "metadata": {},
   "source": [
    "## Generate fake IP addresses\n",
    "\n",
    "Since we are working with fake data, we'll have to create some fake IP addresses for our website visitors. To "
   ]
  },
  {
   "cell_type": "code",
   "execution_count": 36,
   "id": "5910533b",
   "metadata": {},
   "outputs": [
    {
     "data": {
      "text/plain": [
       "'102.157.103.246'"
      ]
     },
     "execution_count": 36,
     "metadata": {},
     "output_type": "execute_result"
    }
   ],
   "source": [
    "# example of how Faker works\n",
    "faker = Faker()\n",
    "faker.ipv4() \n"
   ]
  },
  {
   "cell_type": "code",
   "execution_count": 38,
   "id": "641af9bc-2e8f-4b3c-a7bf-f5331a7511c2",
   "metadata": {},
   "outputs": [
    {
     "data": {
      "text/plain": [
       "['82.143.16.5',\n",
       " '96.5.183.7',\n",
       " '59.248.109.20',\n",
       " '79.122.136.94',\n",
       " '81.238.19.228']"
      ]
     },
     "execution_count": 38,
     "metadata": {},
     "output_type": "execute_result"
    }
   ],
   "source": [
    "# make a list of all our IP addresses\n",
    "fake_ips = [faker.ipv4() for _ in range(100)]\n",
    "fake_ips[0:5]"
   ]
  },
  {
   "cell_type": "code",
   "execution_count": 44,
   "id": "62ff0cfe",
   "metadata": {},
   "outputs": [],
   "source": [
    "def get_geo_weather_data(ip: str):\n",
    "    \n",
    "    # get location info for the ip address\n",
    "    location_info = get_location_info(ip)\n",
    "    \n",
    "    # get the current weather at the lat/long\n",
    "    weather_info = get_weather_info(location_info[\"lat\"], location_info[\"lon\"])\n",
    "    \n",
    "    # stack the dictionaries\n",
    "    # only works in python 3.9 and above\n",
    "    all_data = {\"ip\": ip} | location_info | weather_info\n",
    "    \n",
    "    # alternative for lower python versions using unpacking\n",
    "    # all_data = {**ip_info, **location_info, **weather_info}\n",
    "    \n",
    "    return all_data"
   ]
  },
  {
   "cell_type": "code",
   "execution_count": 47,
   "id": "2afac23f",
   "metadata": {},
   "outputs": [
    {
     "data": {
      "text/plain": [
       "{'ip': '82.143.16.5',\n",
       " 'status': 'success',\n",
       " 'country': 'Italy',\n",
       " 'countryCode': 'IT',\n",
       " 'region': '25',\n",
       " 'regionName': 'Lombardy',\n",
       " 'city': 'Milan',\n",
       " 'zip': '20121',\n",
       " 'lat': 45.4642,\n",
       " 'lon': 9.18998,\n",
       " 'timezone': 'Europe/Rome',\n",
       " 'isp': 'ip telecom srl',\n",
       " 'org': 'TPN',\n",
       " 'as': 'AS29449 ip telecom srl',\n",
       " 'query': '82.143.16.5',\n",
       " 'latitude': 45.46,\n",
       " 'longitude': 9.18,\n",
       " 'elevation': 132.625,\n",
       " 'current_weather': {'time': '2022-03-18T20:00',\n",
       "  'weathercode': 3,\n",
       "  'winddirection': 77,\n",
       "  'windspeed': 10.8,\n",
       "  'temperature': 10.6},\n",
       " 'utc_offset_seconds': 0,\n",
       " 'generationtime_ms': 0.2110004425048828}"
      ]
     },
     "execution_count": 47,
     "metadata": {},
     "output_type": "execute_result"
    }
   ],
   "source": [
    "get_geo_weather_data(fake_ips[0])"
   ]
  },
  {
   "cell_type": "markdown",
   "id": "9af163c0-5510-487c-a86f-bf2d76400414",
   "metadata": {},
   "source": [
    "# Generate Dataset"
   ]
  },
  {
   "cell_type": "code",
   "execution_count": 30,
   "id": "9821abfe-e94f-4d49-9ffa-50b6194dcb46",
   "metadata": {},
   "outputs": [
    {
     "ename": "JSONDecodeError",
     "evalue": "Expecting value: line 1 column 1 (char 0)",
     "output_type": "error",
     "traceback": [
      "\u001b[0;31m---------------------------------------------------------------------------\u001b[0m",
      "\u001b[0;31mJSONDecodeError\u001b[0m                           Traceback (most recent call last)",
      "\u001b[0;32m/var/folders/jg/v3n_k3655b10w3brcsgzl1wc0000gp/T/ipykernel_601/2098614306.py\u001b[0m in \u001b[0;36m<module>\u001b[0;34m\u001b[0m\n\u001b[0;32m----> 1\u001b[0;31m \u001b[0mweather_dicts\u001b[0m \u001b[0;34m=\u001b[0m \u001b[0;34m[\u001b[0m\u001b[0mget_fake_geo_weather_data\u001b[0m\u001b[0;34m(\u001b[0m\u001b[0;34m)\u001b[0m \u001b[0;32mfor\u001b[0m \u001b[0mi\u001b[0m \u001b[0;32min\u001b[0m \u001b[0mrange\u001b[0m\u001b[0;34m(\u001b[0m\u001b[0;36m100\u001b[0m\u001b[0;34m)\u001b[0m\u001b[0;34m]\u001b[0m\u001b[0;34m\u001b[0m\u001b[0;34m\u001b[0m\u001b[0m\n\u001b[0m",
      "\u001b[0;32m/var/folders/jg/v3n_k3655b10w3brcsgzl1wc0000gp/T/ipykernel_601/2098614306.py\u001b[0m in \u001b[0;36m<listcomp>\u001b[0;34m(.0)\u001b[0m\n\u001b[0;32m----> 1\u001b[0;31m \u001b[0mweather_dicts\u001b[0m \u001b[0;34m=\u001b[0m \u001b[0;34m[\u001b[0m\u001b[0mget_fake_geo_weather_data\u001b[0m\u001b[0;34m(\u001b[0m\u001b[0;34m)\u001b[0m \u001b[0;32mfor\u001b[0m \u001b[0mi\u001b[0m \u001b[0;32min\u001b[0m \u001b[0mrange\u001b[0m\u001b[0;34m(\u001b[0m\u001b[0;36m100\u001b[0m\u001b[0;34m)\u001b[0m\u001b[0;34m]\u001b[0m\u001b[0;34m\u001b[0m\u001b[0;34m\u001b[0m\u001b[0m\n\u001b[0m",
      "\u001b[0;32m/var/folders/jg/v3n_k3655b10w3brcsgzl1wc0000gp/T/ipykernel_601/533770962.py\u001b[0m in \u001b[0;36mget_fake_geo_weather_data\u001b[0;34m()\u001b[0m\n\u001b[1;32m      9\u001b[0m \u001b[0;34m\u001b[0m\u001b[0m\n\u001b[1;32m     10\u001b[0m     \u001b[0;31m# get location info for the ip address\u001b[0m\u001b[0;34m\u001b[0m\u001b[0;34m\u001b[0m\u001b[0m\n\u001b[0;32m---> 11\u001b[0;31m     \u001b[0mlocation_info\u001b[0m \u001b[0;34m=\u001b[0m \u001b[0mget_location_info\u001b[0m\u001b[0;34m(\u001b[0m\u001b[0mip\u001b[0m\u001b[0;34m)\u001b[0m\u001b[0;34m\u001b[0m\u001b[0;34m\u001b[0m\u001b[0m\n\u001b[0m\u001b[1;32m     12\u001b[0m \u001b[0;34m\u001b[0m\u001b[0m\n\u001b[1;32m     13\u001b[0m     \u001b[0;31m# pull out lat/long for input to next call\u001b[0m\u001b[0;34m\u001b[0m\u001b[0;34m\u001b[0m\u001b[0m\n",
      "\u001b[0;32m/var/folders/jg/v3n_k3655b10w3brcsgzl1wc0000gp/T/ipykernel_601/2118464943.py\u001b[0m in \u001b[0;36mget_location_info\u001b[0;34m(ip)\u001b[0m\n\u001b[1;32m      5\u001b[0m     \u001b[0murl\u001b[0m \u001b[0;34m=\u001b[0m \u001b[0;34mf\"http://ip-api.com/json/{ip}\"\u001b[0m\u001b[0;34m\u001b[0m\u001b[0;34m\u001b[0m\u001b[0m\n\u001b[1;32m      6\u001b[0m     \u001b[0mresp\u001b[0m \u001b[0;34m=\u001b[0m \u001b[0mrequests\u001b[0m\u001b[0;34m.\u001b[0m\u001b[0mget\u001b[0m\u001b[0;34m(\u001b[0m\u001b[0murl\u001b[0m\u001b[0;34m)\u001b[0m\u001b[0;34m\u001b[0m\u001b[0;34m\u001b[0m\u001b[0m\n\u001b[0;32m----> 7\u001b[0;31m     \u001b[0;32mreturn\u001b[0m \u001b[0mresp\u001b[0m\u001b[0;34m.\u001b[0m\u001b[0mjson\u001b[0m\u001b[0;34m(\u001b[0m\u001b[0;34m)\u001b[0m\u001b[0;34m\u001b[0m\u001b[0;34m\u001b[0m\u001b[0m\n\u001b[0m",
      "\u001b[0;32m~/opt/anaconda3/lib/python3.9/site-packages/requests/models.py\u001b[0m in \u001b[0;36mjson\u001b[0;34m(self, **kwargs)\u001b[0m\n\u001b[1;32m    908\u001b[0m                     \u001b[0;31m# used.\u001b[0m\u001b[0;34m\u001b[0m\u001b[0;34m\u001b[0m\u001b[0m\n\u001b[1;32m    909\u001b[0m                     \u001b[0;32mpass\u001b[0m\u001b[0;34m\u001b[0m\u001b[0;34m\u001b[0m\u001b[0m\n\u001b[0;32m--> 910\u001b[0;31m         \u001b[0;32mreturn\u001b[0m \u001b[0mcomplexjson\u001b[0m\u001b[0;34m.\u001b[0m\u001b[0mloads\u001b[0m\u001b[0;34m(\u001b[0m\u001b[0mself\u001b[0m\u001b[0;34m.\u001b[0m\u001b[0mtext\u001b[0m\u001b[0;34m,\u001b[0m \u001b[0;34m**\u001b[0m\u001b[0mkwargs\u001b[0m\u001b[0;34m)\u001b[0m\u001b[0;34m\u001b[0m\u001b[0;34m\u001b[0m\u001b[0m\n\u001b[0m\u001b[1;32m    911\u001b[0m \u001b[0;34m\u001b[0m\u001b[0m\n\u001b[1;32m    912\u001b[0m     \u001b[0;34m@\u001b[0m\u001b[0mproperty\u001b[0m\u001b[0;34m\u001b[0m\u001b[0;34m\u001b[0m\u001b[0m\n",
      "\u001b[0;32m~/opt/anaconda3/lib/python3.9/json/__init__.py\u001b[0m in \u001b[0;36mloads\u001b[0;34m(s, cls, object_hook, parse_float, parse_int, parse_constant, object_pairs_hook, **kw)\u001b[0m\n\u001b[1;32m    344\u001b[0m             \u001b[0mparse_int\u001b[0m \u001b[0;32mis\u001b[0m \u001b[0;32mNone\u001b[0m \u001b[0;32mand\u001b[0m \u001b[0mparse_float\u001b[0m \u001b[0;32mis\u001b[0m \u001b[0;32mNone\u001b[0m \u001b[0;32mand\u001b[0m\u001b[0;34m\u001b[0m\u001b[0;34m\u001b[0m\u001b[0m\n\u001b[1;32m    345\u001b[0m             parse_constant is None and object_pairs_hook is None and not kw):\n\u001b[0;32m--> 346\u001b[0;31m         \u001b[0;32mreturn\u001b[0m \u001b[0m_default_decoder\u001b[0m\u001b[0;34m.\u001b[0m\u001b[0mdecode\u001b[0m\u001b[0;34m(\u001b[0m\u001b[0ms\u001b[0m\u001b[0;34m)\u001b[0m\u001b[0;34m\u001b[0m\u001b[0;34m\u001b[0m\u001b[0m\n\u001b[0m\u001b[1;32m    347\u001b[0m     \u001b[0;32mif\u001b[0m \u001b[0mcls\u001b[0m \u001b[0;32mis\u001b[0m \u001b[0;32mNone\u001b[0m\u001b[0;34m:\u001b[0m\u001b[0;34m\u001b[0m\u001b[0;34m\u001b[0m\u001b[0m\n\u001b[1;32m    348\u001b[0m         \u001b[0mcls\u001b[0m \u001b[0;34m=\u001b[0m \u001b[0mJSONDecoder\u001b[0m\u001b[0;34m\u001b[0m\u001b[0;34m\u001b[0m\u001b[0m\n",
      "\u001b[0;32m~/opt/anaconda3/lib/python3.9/json/decoder.py\u001b[0m in \u001b[0;36mdecode\u001b[0;34m(self, s, _w)\u001b[0m\n\u001b[1;32m    335\u001b[0m \u001b[0;34m\u001b[0m\u001b[0m\n\u001b[1;32m    336\u001b[0m         \"\"\"\n\u001b[0;32m--> 337\u001b[0;31m         \u001b[0mobj\u001b[0m\u001b[0;34m,\u001b[0m \u001b[0mend\u001b[0m \u001b[0;34m=\u001b[0m \u001b[0mself\u001b[0m\u001b[0;34m.\u001b[0m\u001b[0mraw_decode\u001b[0m\u001b[0;34m(\u001b[0m\u001b[0ms\u001b[0m\u001b[0;34m,\u001b[0m \u001b[0midx\u001b[0m\u001b[0;34m=\u001b[0m\u001b[0m_w\u001b[0m\u001b[0;34m(\u001b[0m\u001b[0ms\u001b[0m\u001b[0;34m,\u001b[0m \u001b[0;36m0\u001b[0m\u001b[0;34m)\u001b[0m\u001b[0;34m.\u001b[0m\u001b[0mend\u001b[0m\u001b[0;34m(\u001b[0m\u001b[0;34m)\u001b[0m\u001b[0;34m)\u001b[0m\u001b[0;34m\u001b[0m\u001b[0;34m\u001b[0m\u001b[0m\n\u001b[0m\u001b[1;32m    338\u001b[0m         \u001b[0mend\u001b[0m \u001b[0;34m=\u001b[0m \u001b[0m_w\u001b[0m\u001b[0;34m(\u001b[0m\u001b[0ms\u001b[0m\u001b[0;34m,\u001b[0m \u001b[0mend\u001b[0m\u001b[0;34m)\u001b[0m\u001b[0;34m.\u001b[0m\u001b[0mend\u001b[0m\u001b[0;34m(\u001b[0m\u001b[0;34m)\u001b[0m\u001b[0;34m\u001b[0m\u001b[0;34m\u001b[0m\u001b[0m\n\u001b[1;32m    339\u001b[0m         \u001b[0;32mif\u001b[0m \u001b[0mend\u001b[0m \u001b[0;34m!=\u001b[0m \u001b[0mlen\u001b[0m\u001b[0;34m(\u001b[0m\u001b[0ms\u001b[0m\u001b[0;34m)\u001b[0m\u001b[0;34m:\u001b[0m\u001b[0;34m\u001b[0m\u001b[0;34m\u001b[0m\u001b[0m\n",
      "\u001b[0;32m~/opt/anaconda3/lib/python3.9/json/decoder.py\u001b[0m in \u001b[0;36mraw_decode\u001b[0;34m(self, s, idx)\u001b[0m\n\u001b[1;32m    353\u001b[0m             \u001b[0mobj\u001b[0m\u001b[0;34m,\u001b[0m \u001b[0mend\u001b[0m \u001b[0;34m=\u001b[0m \u001b[0mself\u001b[0m\u001b[0;34m.\u001b[0m\u001b[0mscan_once\u001b[0m\u001b[0;34m(\u001b[0m\u001b[0ms\u001b[0m\u001b[0;34m,\u001b[0m \u001b[0midx\u001b[0m\u001b[0;34m)\u001b[0m\u001b[0;34m\u001b[0m\u001b[0;34m\u001b[0m\u001b[0m\n\u001b[1;32m    354\u001b[0m         \u001b[0;32mexcept\u001b[0m \u001b[0mStopIteration\u001b[0m \u001b[0;32mas\u001b[0m \u001b[0merr\u001b[0m\u001b[0;34m:\u001b[0m\u001b[0;34m\u001b[0m\u001b[0;34m\u001b[0m\u001b[0m\n\u001b[0;32m--> 355\u001b[0;31m             \u001b[0;32mraise\u001b[0m \u001b[0mJSONDecodeError\u001b[0m\u001b[0;34m(\u001b[0m\u001b[0;34m\"Expecting value\"\u001b[0m\u001b[0;34m,\u001b[0m \u001b[0ms\u001b[0m\u001b[0;34m,\u001b[0m \u001b[0merr\u001b[0m\u001b[0;34m.\u001b[0m\u001b[0mvalue\u001b[0m\u001b[0;34m)\u001b[0m \u001b[0;32mfrom\u001b[0m \u001b[0;32mNone\u001b[0m\u001b[0;34m\u001b[0m\u001b[0;34m\u001b[0m\u001b[0m\n\u001b[0m\u001b[1;32m    356\u001b[0m         \u001b[0;32mreturn\u001b[0m \u001b[0mobj\u001b[0m\u001b[0;34m,\u001b[0m \u001b[0mend\u001b[0m\u001b[0;34m\u001b[0m\u001b[0;34m\u001b[0m\u001b[0m\n",
      "\u001b[0;31mJSONDecodeError\u001b[0m: Expecting value: line 1 column 1 (char 0)"
     ]
    }
   ],
   "source": [
    "weather_dicts = [get_fake_geo_weather_data() for i in range(100)]"
   ]
  },
  {
   "cell_type": "code",
   "execution_count": null,
   "id": "e14281a9-0176-40e6-b21b-0fc8ab59e4e6",
   "metadata": {},
   "outputs": [],
   "source": [
    "df_weather = pd.DataFrame(weather_dicts)"
   ]
  },
  {
   "cell_type": "code",
   "execution_count": null,
   "id": "ac3fff54-e45f-4a67-9162-df28ae480544",
   "metadata": {},
   "outputs": [],
   "source": [
    "df_weather.head()"
   ]
  },
  {
   "cell_type": "code",
   "execution_count": null,
   "id": "58732a75-2522-44f7-b698-c21b8f2fbcfb",
   "metadata": {},
   "outputs": [],
   "source": [
    "df_weather[\"country\"].unique()"
   ]
  },
  {
   "cell_type": "markdown",
   "id": "fdd8def6-10fb-4898-9b5f-4d50e212155b",
   "metadata": {},
   "source": [
    "# Join with Migration Data\n",
    "\n",
    "XLSX file available from the UN\n",
    "\n",
    "https://population.un.org/wpp/Download/Standard/Migration/"
   ]
  },
  {
   "cell_type": "code",
   "execution_count": null,
   "id": "48a2150b-dc2a-48da-959a-c17510d80376",
   "metadata": {},
   "outputs": [],
   "source": [
    "df_migration = pd.read_excel(\"WPP2019_MIGR_F01_NET_MIGRATION_RATE.xlsx\", skiprows=range(16))"
   ]
  },
  {
   "cell_type": "code",
   "execution_count": null,
   "id": "65ff52a5-586d-461c-af18-8800d3d42ad5",
   "metadata": {},
   "outputs": [],
   "source": [
    "df_migration.head()"
   ]
  },
  {
   "cell_type": "code",
   "execution_count": null,
   "id": "53537013-e773-47c6-b242-fb5ca93c61f8",
   "metadata": {},
   "outputs": [],
   "source": [
    "df_migration.tail()"
   ]
  },
  {
   "cell_type": "code",
   "execution_count": null,
   "id": "63274163-b149-4add-8cb0-113b6eea9d38",
   "metadata": {},
   "outputs": [],
   "source": [
    "# limit to only country-level records\n",
    "df_migration_countries = df_migration.loc[df_migration[\"Type\"]==\"Country/Area\"]\n",
    "\n",
    "df_migration_countries.head()"
   ]
  },
  {
   "cell_type": "code",
   "execution_count": null,
   "id": "3c1ce3dd-7a9f-4c4d-9756-869887ad6af5",
   "metadata": {},
   "outputs": [],
   "source": [
    "df_migration_subset = df_migration_countries[[\"Region, subregion, country or area *\", \"2015-2020\"]]"
   ]
  },
  {
   "cell_type": "code",
   "execution_count": null,
   "id": "3e7c18e9-7d75-4def-8248-2147dd198d72",
   "metadata": {},
   "outputs": [],
   "source": [
    "df_migration_subset.head()"
   ]
  },
  {
   "cell_type": "code",
   "execution_count": null,
   "id": "2ab7ea82-1f27-474f-bea4-e01ee9ca3253",
   "metadata": {},
   "outputs": [],
   "source": [
    "df_migration_subset.rename({\"Region, subregion, country or area *\": \"country\", \"2015-2020\": \"migration_rate\"}, axis=1, inplace=True)"
   ]
  },
  {
   "cell_type": "code",
   "execution_count": null,
   "id": "e3e3d1d2-2e11-4d1c-8d1a-66dee9684e07",
   "metadata": {},
   "outputs": [],
   "source": [
    "df_migration_subset.head()"
   ]
  },
  {
   "cell_type": "code",
   "execution_count": null,
   "id": "6d930f4d-edcb-499f-b9dd-8c3c1bfaa4cc",
   "metadata": {},
   "outputs": [],
   "source": [
    "df_weather_migration = df_weather.merge(df_migration_subset, how=\"left\", left_on=\"country\", right_on=\"country\")"
   ]
  },
  {
   "cell_type": "code",
   "execution_count": null,
   "id": "d0cd2024-c049-4bd1-b9c4-6292488f1d8e",
   "metadata": {},
   "outputs": [],
   "source": [
    "df_weather_migration.head()"
   ]
  },
  {
   "cell_type": "code",
   "execution_count": null,
   "id": "ceea5be5-1a7d-4e0c-9e2c-4079a5b2d8d9",
   "metadata": {},
   "outputs": [],
   "source": [
    "# some countries didn't match because names are different\n",
    "\n",
    "df_weather_migration.loc[df_weather_migration[\"migration_rate\"].isna(), \"country\"].unique()"
   ]
  },
  {
   "cell_type": "code",
   "execution_count": null,
   "id": "83208806-2741-4273-bc9d-95e3708cfbac",
   "metadata": {},
   "outputs": [],
   "source": [
    "# a few countries did match up\n",
    "\n",
    "df_weather_migration.loc[df_weather_migration[\"migration_rate\"].notna(), \"country\"].unique()"
   ]
  },
  {
   "cell_type": "code",
   "execution_count": null,
   "id": "51b211bb-6e9e-433b-891b-2e157b122fad",
   "metadata": {},
   "outputs": [],
   "source": [
    "df_migration_subset.loc[df_migration_subset[\"country\"].str.contains(\"United States\")]"
   ]
  },
  {
   "cell_type": "code",
   "execution_count": null,
   "id": "d81f382b-1d39-42d3-aa5e-0faa74df95d8",
   "metadata": {},
   "outputs": [],
   "source": [
    "df_migration_subset.loc[df_migration_subset[\"country\"].str.contains(\"Syria\")]"
   ]
  },
  {
   "cell_type": "code",
   "execution_count": null,
   "id": "39dd4a88-768b-4b98-9efa-8e1c17107a7f",
   "metadata": {},
   "outputs": [],
   "source": [
    "df_migration_subset.loc[df_migration_subset[\"country\"].str.contains(\"Korea\")]"
   ]
  },
  {
   "cell_type": "code",
   "execution_count": null,
   "id": "f98774fd-6761-479f-bc7b-d86fbbb999ac",
   "metadata": {},
   "outputs": [],
   "source": [
    "df_migration_subset.loc[df_migration_subset[\"country\"].str.contains(\"Russia\")]"
   ]
  },
  {
   "cell_type": "code",
   "execution_count": null,
   "id": "cd0443b9-1ec0-4790-bdde-f38832b87e98",
   "metadata": {},
   "outputs": [],
   "source": [
    "df_migration_subset.loc[df_migration_subset[\"country\"].str.contains(\"Venezuela\")]"
   ]
  },
  {
   "cell_type": "code",
   "execution_count": null,
   "id": "9241ca7e-3f5a-4f27-97cc-4199d4c8753e",
   "metadata": {},
   "outputs": [],
   "source": [
    "df_migration_subset.loc[df_migration_subset[\"country\"].str.contains(\"Viet\")]"
   ]
  },
  {
   "cell_type": "code",
   "execution_count": null,
   "id": "84e5cd59-bd9a-4ee8-a179-623da9df6bff",
   "metadata": {},
   "outputs": [],
   "source": [
    "df_migration_subset.loc[df_migration_subset[\"country\"].str.contains(\"Taiwan\")]"
   ]
  },
  {
   "cell_type": "code",
   "execution_count": null,
   "id": "f63d1570-90be-42c9-927e-8530c1f07904",
   "metadata": {},
   "outputs": [],
   "source": [
    "# to get join to work, let's rename country in the migration dataset\n",
    "\n",
    "df_migration_subset[\"country\"].replace(to_replace={\n",
    "    \"United States of America\": \"United States\", \n",
    "    \"Syrian Arab Republic\": \"Syria\", \n",
    "    \"Russian Federation\": \"Russia\", \n",
    "    \"Republic of Korea\": \"South Korea\",\n",
    "    \"Venezuela (Bolivarian Republic of)\": \"Venezuela\",\n",
    "    \"Viet Nam\": \"Vietnam\",\n",
    "    \"China, Taiwan Province of China\": \"Taiwan\",\n",
    "    \n",
    "}, inplace=True)"
   ]
  },
  {
   "cell_type": "code",
   "execution_count": null,
   "id": "e005ad15-aa31-4025-a69e-e994cc8b7430",
   "metadata": {},
   "outputs": [],
   "source": [
    "# try the join again\n",
    "df_weather_migration = df_weather.merge(df_migration_subset, how=\"left\", left_on=\"country\", right_on=\"country\")"
   ]
  },
  {
   "cell_type": "code",
   "execution_count": null,
   "id": "df938e18-3523-4705-9635-534d4eb619c7",
   "metadata": {},
   "outputs": [],
   "source": [
    "df_weather_migration.head()"
   ]
  },
  {
   "cell_type": "code",
   "execution_count": null,
   "id": "2660c6c3-d189-452d-9c42-df477e45d912",
   "metadata": {},
   "outputs": [],
   "source": [
    "# now all of the records should have a match\n",
    "\n",
    "df_weather_migration.loc[df_weather_migration[\"migration_rate\"].isna(), \"country\"].unique()"
   ]
  },
  {
   "cell_type": "code",
   "execution_count": null,
   "id": "2c1419b4-c277-4c50-acf2-6b6dc27b6d3c",
   "metadata": {},
   "outputs": [],
   "source": []
  },
  {
   "cell_type": "code",
   "execution_count": null,
   "id": "d830e400-4d26-4d89-8617-a56ce5bd05aa",
   "metadata": {},
   "outputs": [],
   "source": []
  },
  {
   "cell_type": "code",
   "execution_count": null,
   "id": "d8e69592-3419-46b0-bf7b-936831c4eebd",
   "metadata": {},
   "outputs": [],
   "source": []
  },
  {
   "cell_type": "code",
   "execution_count": null,
   "id": "cd31e83b-47f9-429e-aaee-bba5e5153644",
   "metadata": {},
   "outputs": [],
   "source": []
  },
  {
   "cell_type": "code",
   "execution_count": null,
   "id": "994da865-3dd7-4aa3-9fb4-53c85681f69d",
   "metadata": {},
   "outputs": [],
   "source": []
  },
  {
   "cell_type": "code",
   "execution_count": null,
   "id": "601292bf-f039-4e06-9512-e1d8f639160d",
   "metadata": {},
   "outputs": [],
   "source": []
  }
 ],
 "metadata": {
  "kernelspec": {
   "display_name": "Python 3 (ipykernel)",
   "language": "python",
   "name": "python3"
  },
  "language_info": {
   "codemirror_mode": {
    "name": "ipython",
    "version": 3
   },
   "file_extension": ".py",
   "mimetype": "text/x-python",
   "name": "python",
   "nbconvert_exporter": "python",
   "pygments_lexer": "ipython3",
   "version": "3.9.7"
  }
 },
 "nbformat": 4,
 "nbformat_minor": 5
}
