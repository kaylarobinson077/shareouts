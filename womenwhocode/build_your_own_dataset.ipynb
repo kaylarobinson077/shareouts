{
 "cells": [
  {
   "cell_type": "markdown",
   "id": "508f2b28-54c0-4ba4-8714-5c68cb9fef75",
   "metadata": {},
   "source": [
    "# Women Who Code :: Build-Your-Own Dataset\n",
    "\n",
    "Sometimes data scientists are handed a fully prepared and cleaned dataset, but this is rarely the case. Today's workshop will give you practice in building your own dataset from scratch. We will use public APIs and publically available data files to create a dataset of weather and population data that is ready for downstream uses.\n",
    "\n",
    "In this workshop, we'll be collecting and organizing information for fictional visitors to our fictional \n"
   ]
  },
  {
   "cell_type": "code",
   "execution_count": 1,
   "id": "22e1bcd5",
   "metadata": {},
   "outputs": [],
   "source": [
    "from faker import Faker\n",
    "import pandas as pd\n",
    "import requests"
   ]
  },
  {
   "cell_type": "markdown",
   "id": "ea680bb3-783a-4a3f-aa4c-9cb6403f91fb",
   "metadata": {},
   "source": [
    "# Part 1 :: Calling Public APIs\n",
    "\n",
    "In this first section we will use several publically available APIs to collect information about fictional visitors to our website. The only information we directly collect about visitors is their IP address. Beyond that, we'll have to look to outside sources to pull in information to learn more about our visitors."
   ]
  },
  {
   "cell_type": "markdown",
   "id": "51372b8f",
   "metadata": {},
   "source": [
    "## Get your IP address\n",
    "\n",
    "An IP address is a unique address that identifies a device on the internet or a local network. IP stands for \"Internet Protocol,\" which is the set of rules governing the format of data sent via the internet or local network.\n",
    "\n",
    "To find out your own IP address, you can make a call to the [ipify](https://www.ipify.org/) API, a simple public IP address API. This API does not require an account or API key."
   ]
  },
  {
   "cell_type": "code",
   "execution_count": 2,
   "id": "26538a01",
   "metadata": {},
   "outputs": [],
   "source": [
    "# api endpoint\n",
    "url = \"https://api.ipify.org\"\n",
    "\n",
    "# request formatted response\n",
    "params = {\n",
    "    \"format\": \"json\"\n",
    "}\n",
    "\n",
    "resp = requests.get(url, params)"
   ]
  },
  {
   "cell_type": "markdown",
   "id": "1bd88f6d-8c4d-48ed-a142-858f78bfabec",
   "metadata": {},
   "source": [
    "Congrats, you just made a call to the first API of this workshop! Let's take a closer look at the response, and see what information we've collected from it."
   ]
  },
  {
   "cell_type": "code",
   "execution_count": 3,
   "id": "c753b0ad-5074-4efa-8f66-a21822dd5f7d",
   "metadata": {},
   "outputs": [
    {
     "data": {
      "text/plain": [
       "200"
      ]
     },
     "execution_count": 3,
     "metadata": {},
     "output_type": "execute_result"
    }
   ],
   "source": [
    "# http response status codes indicate whether the request has been successfully completed\n",
    "resp.status_code"
   ]
  },
  {
   "cell_type": "code",
   "execution_count": 4,
   "id": "fa6cd471",
   "metadata": {},
   "outputs": [
    {
     "data": {
      "text/plain": [
       "'{\"ip\":\"69.136.161.247\"}'"
      ]
     },
     "execution_count": 4,
     "metadata": {},
     "output_type": "execute_result"
    }
   ],
   "source": [
    "# can get response in a string format\n",
    "resp.text"
   ]
  },
  {
   "cell_type": "code",
   "execution_count": 5,
   "id": "c38e3e58",
   "metadata": {},
   "outputs": [
    {
     "data": {
      "text/plain": [
       "{'ip': '69.136.161.247'}"
      ]
     },
     "execution_count": 5,
     "metadata": {},
     "output_type": "execute_result"
    }
   ],
   "source": [
    "# or more usefully as a json dictionary\n",
    "resp.json()"
   ]
  },
  {
   "cell_type": "code",
   "execution_count": 6,
   "id": "ab087789",
   "metadata": {},
   "outputs": [],
   "source": [
    "# let's hold on to ip address, and use it in some next steps\n",
    "ip = resp.json()[\"ip\"]"
   ]
  },
  {
   "cell_type": "markdown",
   "id": "bdb49d44",
   "metadata": {
    "tags": []
   },
   "source": [
    "## Get location for an IP address\n",
    "\n",
    "IP addresses can be linked to information about the location where you are connected to the internet.\n",
    "\n",
    "To find geolocation information given an IP address, we can use the [ip-api](https://ip-api.com/) JSON endpoint. The IP address endpoint allowed us to pass the desired response format (JSON) as a query parameter, but this API has a specific JSON endpoint, so we'll specify the data format as part of the URL."
   ]
  },
  {
   "cell_type": "code",
   "execution_count": 7,
   "id": "98a46c4f",
   "metadata": {},
   "outputs": [],
   "source": [
    "url = f\"http://ip-api.com/json/{ip}\"\n",
    "\n",
    "resp = requests.get(url)"
   ]
  },
  {
   "cell_type": "code",
   "execution_count": 8,
   "id": "bb23de38",
   "metadata": {},
   "outputs": [
    {
     "data": {
      "text/plain": [
       "200"
      ]
     },
     "execution_count": 8,
     "metadata": {},
     "output_type": "execute_result"
    }
   ],
   "source": [
    "# check that the call succeeded\n",
    "resp.status_code"
   ]
  },
  {
   "cell_type": "code",
   "execution_count": 9,
   "id": "97ca433c",
   "metadata": {},
   "outputs": [
    {
     "data": {
      "text/plain": [
       "{'status': 'success',\n",
       " 'country': 'United States',\n",
       " 'countryCode': 'US',\n",
       " 'region': 'IL',\n",
       " 'regionName': 'Illinois',\n",
       " 'city': 'Chicago',\n",
       " 'zip': '60610',\n",
       " 'lat': 41.9032,\n",
       " 'lon': -87.6383,\n",
       " 'timezone': 'America/Chicago',\n",
       " 'isp': 'Comcast Cable Communications, LLC',\n",
       " 'org': 'Comcast Cable Communications, Inc.',\n",
       " 'as': 'AS7922 Comcast Cable Communications, LLC',\n",
       " 'query': '69.136.161.247'}"
      ]
     },
     "execution_count": 9,
     "metadata": {},
     "output_type": "execute_result"
    }
   ],
   "source": [
    "# inspect the returned data\n",
    "resp.json()"
   ]
  },
  {
   "cell_type": "code",
   "execution_count": 10,
   "id": "b33a9cbe",
   "metadata": {},
   "outputs": [],
   "source": [
    "# pull out the lat/long fields, since we can look up info about this location\n",
    "\n",
    "lat = resp.json()[\"lat\"]\n",
    "long = resp.json()[\"lon\"]"
   ]
  },
  {
   "cell_type": "code",
   "execution_count": 11,
   "id": "be34325a",
   "metadata": {},
   "outputs": [],
   "source": [
    "def get_location_info(ip: str):\n",
    "    \"\"\"\n",
    "    Given an IP address, return a dictionary of location information.\n",
    "    \"\"\"\n",
    "    url = f\"http://ip-api.com/json/{ip}\"\n",
    "    resp = requests.get(url)\n",
    "    return resp.json()"
   ]
  },
  {
   "cell_type": "markdown",
   "id": "d20fdd2b",
   "metadata": {},
   "source": [
    "## Get local weather\n",
    "\n",
    "Now that we know where a visitor is from, we can collect any information from other sources to understand the user's location. For this workshop, let's say that our website has content related to weather, and so the visitor's current weather is of interest to us.\n",
    "\n",
    "Given the visitor's latitude and longitude, we can use the [Open Meteo](https://open-meteo.com/en) API to get information about the location's current weather. Like the other APIs we've used in this workshop, Open Meteo is public and does not require an API key.\n",
    "\n"
   ]
  },
  {
   "cell_type": "code",
   "execution_count": 12,
   "id": "0bcebdcb",
   "metadata": {},
   "outputs": [],
   "source": [
    "url = \"https://api.open-meteo.com/v1/forecast\"\n",
    "\n",
    "params = {\n",
    "    \"latitude\": lat,\n",
    "    \"longitude\": long,\n",
    "    \"current_weather\": True,\n",
    "    \"format\": \"json\"\n",
    "}\n",
    "\n",
    "resp = requests.get(url, params)"
   ]
  },
  {
   "cell_type": "code",
   "execution_count": 13,
   "id": "e9f686fa",
   "metadata": {},
   "outputs": [
    {
     "data": {
      "text/plain": [
       "200"
      ]
     },
     "execution_count": 13,
     "metadata": {},
     "output_type": "execute_result"
    }
   ],
   "source": [
    "resp.status_code"
   ]
  },
  {
   "cell_type": "code",
   "execution_count": 14,
   "id": "ff5e7806",
   "metadata": {},
   "outputs": [
    {
     "data": {
      "text/plain": [
       "{'elevation': 182.125,\n",
       " 'generationtime_ms': 0.21398067474365234,\n",
       " 'current_weather': {'temperature': 12.5,\n",
       "  'winddirection': 261,\n",
       "  'time': '2022-04-21T15:00',\n",
       "  'windspeed': 14.8,\n",
       "  'weathercode': 2},\n",
       " 'latitude': 41.875,\n",
       " 'longitude': -87.625,\n",
       " 'utc_offset_seconds': 0}"
      ]
     },
     "execution_count": 14,
     "metadata": {},
     "output_type": "execute_result"
    }
   ],
   "source": [
    "resp.json()"
   ]
  },
  {
   "cell_type": "code",
   "execution_count": 15,
   "id": "252c0a44",
   "metadata": {},
   "outputs": [],
   "source": [
    "def get_weather_info(lat: float, long: float):\n",
    "    \"\"\"\n",
    "    Given a latitude and longitude, return the current weather.\n",
    "    \"\"\"\n",
    "    url = \"https://api.open-meteo.com/v1/forecast\"\n",
    "\n",
    "    params = {\n",
    "        \"latitude\": lat,\n",
    "        \"longitude\": long,\n",
    "        \"current_weather\": True,\n",
    "        \"format\": \"json\"\n",
    "    }\n",
    "\n",
    "    resp = requests.get(url, params)\n",
    "    return resp.json()\n"
   ]
  },
  {
   "cell_type": "markdown",
   "id": "d5184b0c",
   "metadata": {},
   "source": [
    "## Generate fake IP addresses\n",
    "\n",
    "Since we are working with fake data, we'll have to create some fake IP addresses for our website visitors. To "
   ]
  },
  {
   "cell_type": "code",
   "execution_count": 16,
   "id": "5910533b",
   "metadata": {},
   "outputs": [
    {
     "data": {
      "text/plain": [
       "'88.166.86.65'"
      ]
     },
     "execution_count": 16,
     "metadata": {},
     "output_type": "execute_result"
    }
   ],
   "source": [
    "# example of how Faker works\n",
    "faker = Faker()\n",
    "faker.ipv4() \n"
   ]
  },
  {
   "cell_type": "code",
   "execution_count": 17,
   "id": "641af9bc-2e8f-4b3c-a7bf-f5331a7511c2",
   "metadata": {},
   "outputs": [
    {
     "data": {
      "text/plain": [
       "['108.214.245.99',\n",
       " '207.144.42.212',\n",
       " '95.39.255.178',\n",
       " '39.13.26.200',\n",
       " '119.187.227.137']"
      ]
     },
     "execution_count": 17,
     "metadata": {},
     "output_type": "execute_result"
    }
   ],
   "source": [
    "# make a list of all our IP addresses\n",
    "fake_ips = [faker.ipv4() for _ in range(100)]\n",
    "fake_ips[0:5]"
   ]
  },
  {
   "cell_type": "code",
   "execution_count": 18,
   "id": "62ff0cfe",
   "metadata": {},
   "outputs": [],
   "source": [
    "def get_geo_weather_data(ip: str):\n",
    "    \n",
    "    # get location info for the ip address\n",
    "    location_info = get_location_info(ip)\n",
    "    \n",
    "    # get the current weather at the lat/long\n",
    "    weather_info = get_weather_info(location_info[\"lat\"], location_info[\"lon\"])\n",
    "    \n",
    "    # stack the dictionaries\n",
    "    # only works in python 3.9 and above\n",
    "    all_data = {\"ip\": ip} | location_info | weather_info\n",
    "    \n",
    "    # alternative for lower python versions using unpacking\n",
    "    # all_data = {**ip_info, **location_info, **weather_info}\n",
    "    \n",
    "    return all_data"
   ]
  },
  {
   "cell_type": "code",
   "execution_count": 19,
   "id": "2afac23f",
   "metadata": {},
   "outputs": [
    {
     "data": {
      "text/plain": [
       "{'ip': '108.214.245.99',\n",
       " 'status': 'success',\n",
       " 'country': 'United States',\n",
       " 'countryCode': 'US',\n",
       " 'region': 'FL',\n",
       " 'regionName': 'Florida',\n",
       " 'city': 'Orlando',\n",
       " 'zip': '32801',\n",
       " 'lat': 28.5436,\n",
       " 'lon': -81.3738,\n",
       " 'timezone': 'America/New_York',\n",
       " 'isp': 'AT&T Services, Inc.',\n",
       " 'org': 'AT&T Corp',\n",
       " 'as': 'AS7018 AT&T Services, Inc.',\n",
       " 'query': '108.214.245.99',\n",
       " 'current_weather': {'windspeed': 21.4,\n",
       "  'time': '2022-04-21T15:00',\n",
       "  'temperature': 24.1,\n",
       "  'weathercode': 3,\n",
       "  'winddirection': 81},\n",
       " 'generationtime_ms': 0.1239776611328125,\n",
       " 'elevation': 31.96875,\n",
       " 'longitude': -81.375,\n",
       " 'latitude': 28.5,\n",
       " 'utc_offset_seconds': 0}"
      ]
     },
     "execution_count": 19,
     "metadata": {},
     "output_type": "execute_result"
    }
   ],
   "source": [
    "get_geo_weather_data(fake_ips[0])"
   ]
  },
  {
   "cell_type": "markdown",
   "id": "9af163c0-5510-487c-a86f-bf2d76400414",
   "metadata": {},
   "source": [
    "# Generate Dataset"
   ]
  },
  {
   "cell_type": "code",
   "execution_count": 20,
   "id": "de5b8682",
   "metadata": {},
   "outputs": [],
   "source": [
    "def get_fake_geo_weather_data():\n",
    "    fake_ip = faker.ipv4()\n",
    "    try:\n",
    "        return get_geo_weather_data(fake_ip)\n",
    "    except:\n",
    "        return None"
   ]
  },
  {
   "cell_type": "code",
   "execution_count": 23,
   "id": "9821abfe-e94f-4d49-9ffa-50b6194dcb46",
   "metadata": {},
   "outputs": [],
   "source": [
    "weather_dicts = [get_fake_geo_weather_data() for i in range(10)]\n",
    "\n",
    "# remove any missing values\n",
    "weather_dicts = [x for x in weather_dicts if x is not None]"
   ]
  },
  {
   "cell_type": "code",
   "execution_count": 24,
   "id": "e14281a9-0176-40e6-b21b-0fc8ab59e4e6",
   "metadata": {},
   "outputs": [],
   "source": [
    "df_weather = pd.DataFrame(weather_dicts)"
   ]
  },
  {
   "cell_type": "code",
   "execution_count": 25,
   "id": "ac3fff54-e45f-4a67-9162-df28ae480544",
   "metadata": {},
   "outputs": [
    {
     "data": {
      "text/html": [
       "<div>\n",
       "<style scoped>\n",
       "    .dataframe tbody tr th:only-of-type {\n",
       "        vertical-align: middle;\n",
       "    }\n",
       "\n",
       "    .dataframe tbody tr th {\n",
       "        vertical-align: top;\n",
       "    }\n",
       "\n",
       "    .dataframe thead th {\n",
       "        text-align: right;\n",
       "    }\n",
       "</style>\n",
       "<table border=\"1\" class=\"dataframe\">\n",
       "  <thead>\n",
       "    <tr style=\"text-align: right;\">\n",
       "      <th></th>\n",
       "      <th>ip</th>\n",
       "      <th>status</th>\n",
       "      <th>country</th>\n",
       "      <th>countryCode</th>\n",
       "      <th>region</th>\n",
       "      <th>regionName</th>\n",
       "      <th>city</th>\n",
       "      <th>zip</th>\n",
       "      <th>lat</th>\n",
       "      <th>lon</th>\n",
       "      <th>...</th>\n",
       "      <th>isp</th>\n",
       "      <th>org</th>\n",
       "      <th>as</th>\n",
       "      <th>query</th>\n",
       "      <th>generationtime_ms</th>\n",
       "      <th>elevation</th>\n",
       "      <th>utc_offset_seconds</th>\n",
       "      <th>current_weather</th>\n",
       "      <th>latitude</th>\n",
       "      <th>longitude</th>\n",
       "    </tr>\n",
       "  </thead>\n",
       "  <tbody>\n",
       "    <tr>\n",
       "      <th>0</th>\n",
       "      <td>110.62.126.130</td>\n",
       "      <td>success</td>\n",
       "      <td>China</td>\n",
       "      <td>CN</td>\n",
       "      <td>BJ</td>\n",
       "      <td>Beijing</td>\n",
       "      <td>Haidian</td>\n",
       "      <td></td>\n",
       "      <td>39.8997</td>\n",
       "      <td>116.3340</td>\n",
       "      <td>...</td>\n",
       "      <td>China TieTong Telecommunications Corporation</td>\n",
       "      <td>North Star Information Hi.tech Ltd. Co</td>\n",
       "      <td>AS9394 China TieTong Telecommunications Corpor...</td>\n",
       "      <td>110.62.126.130</td>\n",
       "      <td>0.187993</td>\n",
       "      <td>60.96875</td>\n",
       "      <td>0</td>\n",
       "      <td>{'time': '2022-04-21T15:00', 'windspeed': 19.7...</td>\n",
       "      <td>39.875</td>\n",
       "      <td>116.375</td>\n",
       "    </tr>\n",
       "    <tr>\n",
       "      <th>1</th>\n",
       "      <td>160.82.191.104</td>\n",
       "      <td>success</td>\n",
       "      <td>United States</td>\n",
       "      <td>US</td>\n",
       "      <td>IL</td>\n",
       "      <td>Illinois</td>\n",
       "      <td>Chicago</td>\n",
       "      <td>60666</td>\n",
       "      <td>41.8781</td>\n",
       "      <td>-87.6298</td>\n",
       "      <td>...</td>\n",
       "      <td>Deutsche Bank AG</td>\n",
       "      <td>Deutsche Bank AG</td>\n",
       "      <td></td>\n",
       "      <td>160.82.191.104</td>\n",
       "      <td>0.123024</td>\n",
       "      <td>182.12500</td>\n",
       "      <td>0</td>\n",
       "      <td>{'temperature': 12.5, 'winddirection': 261, 't...</td>\n",
       "      <td>41.875</td>\n",
       "      <td>-87.625</td>\n",
       "    </tr>\n",
       "    <tr>\n",
       "      <th>2</th>\n",
       "      <td>93.81.99.251</td>\n",
       "      <td>success</td>\n",
       "      <td>Russia</td>\n",
       "      <td>RU</td>\n",
       "      <td>SAR</td>\n",
       "      <td>Saratovskaya Oblast</td>\n",
       "      <td>Saratov</td>\n",
       "      <td>410000</td>\n",
       "      <td>51.5391</td>\n",
       "      <td>45.9985</td>\n",
       "      <td>...</td>\n",
       "      <td>CORBINA-BROADBAND</td>\n",
       "      <td></td>\n",
       "      <td>AS8402 PJSC Vimpelcom</td>\n",
       "      <td>93.81.99.251</td>\n",
       "      <td>0.180006</td>\n",
       "      <td>36.71875</td>\n",
       "      <td>0</td>\n",
       "      <td>{'windspeed': 14.6, 'weathercode': 2, 'winddir...</td>\n",
       "      <td>51.500</td>\n",
       "      <td>46.000</td>\n",
       "    </tr>\n",
       "    <tr>\n",
       "      <th>3</th>\n",
       "      <td>23.160.235.36</td>\n",
       "      <td>success</td>\n",
       "      <td>United States</td>\n",
       "      <td>US</td>\n",
       "      <td>VA</td>\n",
       "      <td>Virginia</td>\n",
       "      <td>Centreville</td>\n",
       "      <td>20120</td>\n",
       "      <td>38.8397</td>\n",
       "      <td>-77.4335</td>\n",
       "      <td>...</td>\n",
       "      <td>American Registry Internet Numbers</td>\n",
       "      <td>American Registry Internet Numbers</td>\n",
       "      <td></td>\n",
       "      <td>23.160.235.36</td>\n",
       "      <td>0.128031</td>\n",
       "      <td>103.31250</td>\n",
       "      <td>0</td>\n",
       "      <td>{'winddirection': 185, 'windspeed': 17.4, 'tim...</td>\n",
       "      <td>38.875</td>\n",
       "      <td>-77.375</td>\n",
       "    </tr>\n",
       "    <tr>\n",
       "      <th>4</th>\n",
       "      <td>106.172.240.113</td>\n",
       "      <td>success</td>\n",
       "      <td>Japan</td>\n",
       "      <td>JP</td>\n",
       "      <td>40</td>\n",
       "      <td>Fukuoka</td>\n",
       "      <td>Fukuoka</td>\n",
       "      <td>810-0001</td>\n",
       "      <td>33.5902</td>\n",
       "      <td>130.4020</td>\n",
       "      <td>...</td>\n",
       "      <td>Kddi Corporation</td>\n",
       "      <td>Kddi Corporation</td>\n",
       "      <td>AS2516 KDDI CORPORATION</td>\n",
       "      <td>106.172.240.113</td>\n",
       "      <td>2.397060</td>\n",
       "      <td>23.21875</td>\n",
       "      <td>0</td>\n",
       "      <td>{'temperature': 12.8, 'winddirection': 178, 't...</td>\n",
       "      <td>33.625</td>\n",
       "      <td>130.375</td>\n",
       "    </tr>\n",
       "  </tbody>\n",
       "</table>\n",
       "<p>5 rows × 21 columns</p>\n",
       "</div>"
      ],
      "text/plain": [
       "                ip   status        country countryCode region  \\\n",
       "0   110.62.126.130  success          China          CN     BJ   \n",
       "1   160.82.191.104  success  United States          US     IL   \n",
       "2     93.81.99.251  success         Russia          RU    SAR   \n",
       "3    23.160.235.36  success  United States          US     VA   \n",
       "4  106.172.240.113  success          Japan          JP     40   \n",
       "\n",
       "            regionName         city       zip      lat       lon  ...  \\\n",
       "0              Beijing      Haidian            39.8997  116.3340  ...   \n",
       "1             Illinois      Chicago     60666  41.8781  -87.6298  ...   \n",
       "2  Saratovskaya Oblast      Saratov    410000  51.5391   45.9985  ...   \n",
       "3             Virginia  Centreville     20120  38.8397  -77.4335  ...   \n",
       "4              Fukuoka      Fukuoka  810-0001  33.5902  130.4020  ...   \n",
       "\n",
       "                                            isp  \\\n",
       "0  China TieTong Telecommunications Corporation   \n",
       "1                              Deutsche Bank AG   \n",
       "2                             CORBINA-BROADBAND   \n",
       "3            American Registry Internet Numbers   \n",
       "4                              Kddi Corporation   \n",
       "\n",
       "                                      org  \\\n",
       "0  North Star Information Hi.tech Ltd. Co   \n",
       "1                        Deutsche Bank AG   \n",
       "2                                           \n",
       "3      American Registry Internet Numbers   \n",
       "4                        Kddi Corporation   \n",
       "\n",
       "                                                  as            query  \\\n",
       "0  AS9394 China TieTong Telecommunications Corpor...   110.62.126.130   \n",
       "1                                                      160.82.191.104   \n",
       "2                              AS8402 PJSC Vimpelcom     93.81.99.251   \n",
       "3                                                       23.160.235.36   \n",
       "4                            AS2516 KDDI CORPORATION  106.172.240.113   \n",
       "\n",
       "  generationtime_ms  elevation  utc_offset_seconds  \\\n",
       "0          0.187993   60.96875                   0   \n",
       "1          0.123024  182.12500                   0   \n",
       "2          0.180006   36.71875                   0   \n",
       "3          0.128031  103.31250                   0   \n",
       "4          2.397060   23.21875                   0   \n",
       "\n",
       "                                     current_weather latitude  longitude  \n",
       "0  {'time': '2022-04-21T15:00', 'windspeed': 19.7...   39.875    116.375  \n",
       "1  {'temperature': 12.5, 'winddirection': 261, 't...   41.875    -87.625  \n",
       "2  {'windspeed': 14.6, 'weathercode': 2, 'winddir...   51.500     46.000  \n",
       "3  {'winddirection': 185, 'windspeed': 17.4, 'tim...   38.875    -77.375  \n",
       "4  {'temperature': 12.8, 'winddirection': 178, 't...   33.625    130.375  \n",
       "\n",
       "[5 rows x 21 columns]"
      ]
     },
     "execution_count": 25,
     "metadata": {},
     "output_type": "execute_result"
    }
   ],
   "source": [
    "df_weather.head()"
   ]
  },
  {
   "cell_type": "code",
   "execution_count": 26,
   "id": "58732a75-2522-44f7-b698-c21b8f2fbcfb",
   "metadata": {},
   "outputs": [
    {
     "data": {
      "text/plain": [
       "array(['China', 'United States', 'Russia', 'Japan', 'Brazil',\n",
       "       'South Korea'], dtype=object)"
      ]
     },
     "execution_count": 26,
     "metadata": {},
     "output_type": "execute_result"
    }
   ],
   "source": [
    "df_weather[\"country\"].unique()"
   ]
  },
  {
   "cell_type": "markdown",
   "id": "fdd8def6-10fb-4898-9b5f-4d50e212155b",
   "metadata": {},
   "source": [
    "# Join with Migration Data\n",
    "\n",
    "XLSX file available from the UN\n",
    "\n",
    "https://population.un.org/wpp/Download/Standard/Migration/"
   ]
  },
  {
   "cell_type": "code",
   "execution_count": null,
   "id": "48a2150b-dc2a-48da-959a-c17510d80376",
   "metadata": {},
   "outputs": [],
   "source": [
    "df_migration = pd.read_excel(\"WPP2019_MIGR_F01_NET_MIGRATION_RATE.xlsx\", skiprows=range(16))"
   ]
  },
  {
   "cell_type": "code",
   "execution_count": null,
   "id": "65ff52a5-586d-461c-af18-8800d3d42ad5",
   "metadata": {},
   "outputs": [],
   "source": [
    "df_migration.head()"
   ]
  },
  {
   "cell_type": "code",
   "execution_count": null,
   "id": "53537013-e773-47c6-b242-fb5ca93c61f8",
   "metadata": {},
   "outputs": [],
   "source": [
    "df_migration.tail()"
   ]
  },
  {
   "cell_type": "code",
   "execution_count": null,
   "id": "63274163-b149-4add-8cb0-113b6eea9d38",
   "metadata": {},
   "outputs": [],
   "source": [
    "# limit to only country-level records\n",
    "df_migration_countries = df_migration.loc[df_migration[\"Type\"]==\"Country/Area\"]\n",
    "\n",
    "df_migration_countries.head()"
   ]
  },
  {
   "cell_type": "code",
   "execution_count": null,
   "id": "3c1ce3dd-7a9f-4c4d-9756-869887ad6af5",
   "metadata": {},
   "outputs": [],
   "source": [
    "df_migration_subset = df_migration_countries[[\"Region, subregion, country or area *\", \"2015-2020\"]]"
   ]
  },
  {
   "cell_type": "code",
   "execution_count": null,
   "id": "3e7c18e9-7d75-4def-8248-2147dd198d72",
   "metadata": {},
   "outputs": [],
   "source": [
    "df_migration_subset.head()"
   ]
  },
  {
   "cell_type": "code",
   "execution_count": null,
   "id": "2ab7ea82-1f27-474f-bea4-e01ee9ca3253",
   "metadata": {},
   "outputs": [],
   "source": [
    "df_migration_subset.rename({\"Region, subregion, country or area *\": \"country\", \"2015-2020\": \"migration_rate\"}, axis=1, inplace=True)"
   ]
  },
  {
   "cell_type": "code",
   "execution_count": null,
   "id": "e3e3d1d2-2e11-4d1c-8d1a-66dee9684e07",
   "metadata": {},
   "outputs": [],
   "source": [
    "df_migration_subset.head()"
   ]
  },
  {
   "cell_type": "code",
   "execution_count": null,
   "id": "6d930f4d-edcb-499f-b9dd-8c3c1bfaa4cc",
   "metadata": {},
   "outputs": [],
   "source": [
    "df_weather_migration = df_weather.merge(df_migration_subset, how=\"left\", left_on=\"country\", right_on=\"country\")"
   ]
  },
  {
   "cell_type": "code",
   "execution_count": null,
   "id": "d0cd2024-c049-4bd1-b9c4-6292488f1d8e",
   "metadata": {},
   "outputs": [],
   "source": [
    "df_weather_migration.head()"
   ]
  },
  {
   "cell_type": "code",
   "execution_count": null,
   "id": "ceea5be5-1a7d-4e0c-9e2c-4079a5b2d8d9",
   "metadata": {},
   "outputs": [],
   "source": [
    "# some countries didn't match because names are different\n",
    "\n",
    "df_weather_migration.loc[df_weather_migration[\"migration_rate\"].isna(), \"country\"].unique()"
   ]
  },
  {
   "cell_type": "code",
   "execution_count": null,
   "id": "83208806-2741-4273-bc9d-95e3708cfbac",
   "metadata": {},
   "outputs": [],
   "source": [
    "# a few countries did match up\n",
    "\n",
    "df_weather_migration.loc[df_weather_migration[\"migration_rate\"].notna(), \"country\"].unique()"
   ]
  },
  {
   "cell_type": "code",
   "execution_count": null,
   "id": "51b211bb-6e9e-433b-891b-2e157b122fad",
   "metadata": {},
   "outputs": [],
   "source": [
    "df_migration_subset.loc[df_migration_subset[\"country\"].str.contains(\"United States\")]"
   ]
  },
  {
   "cell_type": "code",
   "execution_count": null,
   "id": "d81f382b-1d39-42d3-aa5e-0faa74df95d8",
   "metadata": {},
   "outputs": [
    {
     "ename": "NameError",
     "evalue": "name 'df_migration_subset' is not defined",
     "output_type": "error",
     "traceback": [
      "\u001b[0;31m---------------------------------------------------------------------------\u001b[0m",
      "\u001b[0;31mNameError\u001b[0m                                 Traceback (most recent call last)",
      "\u001b[1;32m/Users/krr024/GitHub/shareouts/womenwhocode/build_your_own_dataset.ipynb Cell 46'\u001b[0m in \u001b[0;36m<module>\u001b[0;34m\u001b[0m\n\u001b[0;32m----> <a href='vscode-notebook-cell:/Users/krr024/GitHub/shareouts/womenwhocode/build_your_own_dataset.ipynb#ch0000045?line=0'>1</a>\u001b[0m df_migration_subset\u001b[39m.\u001b[39mloc[df_migration_subset[\u001b[39m\"\u001b[39m\u001b[39mcountry\u001b[39m\u001b[39m\"\u001b[39m]\u001b[39m.\u001b[39mstr\u001b[39m.\u001b[39mcontains(\u001b[39m\"\u001b[39m\u001b[39mSyria\u001b[39m\u001b[39m\"\u001b[39m)]\n",
      "\u001b[0;31mNameError\u001b[0m: name 'df_migration_subset' is not defined"
     ]
    }
   ],
   "source": [
    "df_migration_subset.loc[df_migration_subset[\"country\"].str.contains(\"Syria\")]"
   ]
  },
  {
   "cell_type": "code",
   "execution_count": null,
   "id": "39dd4a88-768b-4b98-9efa-8e1c17107a7f",
   "metadata": {},
   "outputs": [
    {
     "ename": "NameError",
     "evalue": "name 'df_migration_subset' is not defined",
     "output_type": "error",
     "traceback": [
      "\u001b[0;31m---------------------------------------------------------------------------\u001b[0m",
      "\u001b[0;31mNameError\u001b[0m                                 Traceback (most recent call last)",
      "\u001b[1;32m/Users/krr024/GitHub/shareouts/womenwhocode/build_your_own_dataset.ipynb Cell 47'\u001b[0m in \u001b[0;36m<module>\u001b[0;34m\u001b[0m\n\u001b[0;32m----> <a href='vscode-notebook-cell:/Users/krr024/GitHub/shareouts/womenwhocode/build_your_own_dataset.ipynb#ch0000046?line=0'>1</a>\u001b[0m df_migration_subset\u001b[39m.\u001b[39mloc[df_migration_subset[\u001b[39m\"\u001b[39m\u001b[39mcountry\u001b[39m\u001b[39m\"\u001b[39m]\u001b[39m.\u001b[39mstr\u001b[39m.\u001b[39mcontains(\u001b[39m\"\u001b[39m\u001b[39mKorea\u001b[39m\u001b[39m\"\u001b[39m)]\n",
      "\u001b[0;31mNameError\u001b[0m: name 'df_migration_subset' is not defined"
     ]
    }
   ],
   "source": [
    "df_migration_subset.loc[df_migration_subset[\"country\"].str.contains(\"Korea\")]"
   ]
  },
  {
   "cell_type": "code",
   "execution_count": null,
   "id": "f98774fd-6761-479f-bc7b-d86fbbb999ac",
   "metadata": {},
   "outputs": [
    {
     "ename": "NameError",
     "evalue": "name 'df_migration_subset' is not defined",
     "output_type": "error",
     "traceback": [
      "\u001b[0;31m---------------------------------------------------------------------------\u001b[0m",
      "\u001b[0;31mNameError\u001b[0m                                 Traceback (most recent call last)",
      "\u001b[1;32m/Users/krr024/GitHub/shareouts/womenwhocode/build_your_own_dataset.ipynb Cell 48'\u001b[0m in \u001b[0;36m<module>\u001b[0;34m\u001b[0m\n\u001b[0;32m----> <a href='vscode-notebook-cell:/Users/krr024/GitHub/shareouts/womenwhocode/build_your_own_dataset.ipynb#ch0000047?line=0'>1</a>\u001b[0m df_migration_subset\u001b[39m.\u001b[39mloc[df_migration_subset[\u001b[39m\"\u001b[39m\u001b[39mcountry\u001b[39m\u001b[39m\"\u001b[39m]\u001b[39m.\u001b[39mstr\u001b[39m.\u001b[39mcontains(\u001b[39m\"\u001b[39m\u001b[39mRussia\u001b[39m\u001b[39m\"\u001b[39m)]\n",
      "\u001b[0;31mNameError\u001b[0m: name 'df_migration_subset' is not defined"
     ]
    }
   ],
   "source": [
    "df_migration_subset.loc[df_migration_subset[\"country\"].str.contains(\"Russia\")]"
   ]
  },
  {
   "cell_type": "code",
   "execution_count": null,
   "id": "cd0443b9-1ec0-4790-bdde-f38832b87e98",
   "metadata": {},
   "outputs": [
    {
     "ename": "NameError",
     "evalue": "name 'df_migration_subset' is not defined",
     "output_type": "error",
     "traceback": [
      "\u001b[0;31m---------------------------------------------------------------------------\u001b[0m",
      "\u001b[0;31mNameError\u001b[0m                                 Traceback (most recent call last)",
      "\u001b[1;32m/Users/krr024/GitHub/shareouts/womenwhocode/build_your_own_dataset.ipynb Cell 49'\u001b[0m in \u001b[0;36m<module>\u001b[0;34m\u001b[0m\n\u001b[0;32m----> <a href='vscode-notebook-cell:/Users/krr024/GitHub/shareouts/womenwhocode/build_your_own_dataset.ipynb#ch0000048?line=0'>1</a>\u001b[0m df_migration_subset\u001b[39m.\u001b[39mloc[df_migration_subset[\u001b[39m\"\u001b[39m\u001b[39mcountry\u001b[39m\u001b[39m\"\u001b[39m]\u001b[39m.\u001b[39mstr\u001b[39m.\u001b[39mcontains(\u001b[39m\"\u001b[39m\u001b[39mVenezuela\u001b[39m\u001b[39m\"\u001b[39m)]\n",
      "\u001b[0;31mNameError\u001b[0m: name 'df_migration_subset' is not defined"
     ]
    }
   ],
   "source": [
    "df_migration_subset.loc[df_migration_subset[\"country\"].str.contains(\"Venezuela\")]"
   ]
  },
  {
   "cell_type": "code",
   "execution_count": null,
   "id": "9241ca7e-3f5a-4f27-97cc-4199d4c8753e",
   "metadata": {},
   "outputs": [
    {
     "ename": "NameError",
     "evalue": "name 'df_migration_subset' is not defined",
     "output_type": "error",
     "traceback": [
      "\u001b[0;31m---------------------------------------------------------------------------\u001b[0m",
      "\u001b[0;31mNameError\u001b[0m                                 Traceback (most recent call last)",
      "\u001b[1;32m/Users/krr024/GitHub/shareouts/womenwhocode/build_your_own_dataset.ipynb Cell 50'\u001b[0m in \u001b[0;36m<module>\u001b[0;34m\u001b[0m\n\u001b[0;32m----> <a href='vscode-notebook-cell:/Users/krr024/GitHub/shareouts/womenwhocode/build_your_own_dataset.ipynb#ch0000049?line=0'>1</a>\u001b[0m df_migration_subset\u001b[39m.\u001b[39mloc[df_migration_subset[\u001b[39m\"\u001b[39m\u001b[39mcountry\u001b[39m\u001b[39m\"\u001b[39m]\u001b[39m.\u001b[39mstr\u001b[39m.\u001b[39mcontains(\u001b[39m\"\u001b[39m\u001b[39mViet\u001b[39m\u001b[39m\"\u001b[39m)]\n",
      "\u001b[0;31mNameError\u001b[0m: name 'df_migration_subset' is not defined"
     ]
    }
   ],
   "source": [
    "df_migration_subset.loc[df_migration_subset[\"country\"].str.contains(\"Viet\")]"
   ]
  },
  {
   "cell_type": "code",
   "execution_count": null,
   "id": "84e5cd59-bd9a-4ee8-a179-623da9df6bff",
   "metadata": {},
   "outputs": [
    {
     "ename": "NameError",
     "evalue": "name 'df_migration_subset' is not defined",
     "output_type": "error",
     "traceback": [
      "\u001b[0;31m---------------------------------------------------------------------------\u001b[0m",
      "\u001b[0;31mNameError\u001b[0m                                 Traceback (most recent call last)",
      "\u001b[1;32m/Users/krr024/GitHub/shareouts/womenwhocode/build_your_own_dataset.ipynb Cell 51'\u001b[0m in \u001b[0;36m<module>\u001b[0;34m\u001b[0m\n\u001b[0;32m----> <a href='vscode-notebook-cell:/Users/krr024/GitHub/shareouts/womenwhocode/build_your_own_dataset.ipynb#ch0000050?line=0'>1</a>\u001b[0m df_migration_subset\u001b[39m.\u001b[39mloc[df_migration_subset[\u001b[39m\"\u001b[39m\u001b[39mcountry\u001b[39m\u001b[39m\"\u001b[39m]\u001b[39m.\u001b[39mstr\u001b[39m.\u001b[39mcontains(\u001b[39m\"\u001b[39m\u001b[39mTaiwan\u001b[39m\u001b[39m\"\u001b[39m)]\n",
      "\u001b[0;31mNameError\u001b[0m: name 'df_migration_subset' is not defined"
     ]
    }
   ],
   "source": [
    "df_migration_subset.loc[df_migration_subset[\"country\"].str.contains(\"Taiwan\")]"
   ]
  },
  {
   "cell_type": "code",
   "execution_count": null,
   "id": "f63d1570-90be-42c9-927e-8530c1f07904",
   "metadata": {},
   "outputs": [
    {
     "ename": "NameError",
     "evalue": "name 'df_migration_subset' is not defined",
     "output_type": "error",
     "traceback": [
      "\u001b[0;31m---------------------------------------------------------------------------\u001b[0m",
      "\u001b[0;31mNameError\u001b[0m                                 Traceback (most recent call last)",
      "\u001b[1;32m/Users/krr024/GitHub/shareouts/womenwhocode/build_your_own_dataset.ipynb Cell 52'\u001b[0m in \u001b[0;36m<module>\u001b[0;34m\u001b[0m\n\u001b[1;32m      <a href='vscode-notebook-cell:/Users/krr024/GitHub/shareouts/womenwhocode/build_your_own_dataset.ipynb#ch0000051?line=0'>1</a>\u001b[0m \u001b[39m# to get join to work, let's rename country in the migration dataset\u001b[39;00m\n\u001b[0;32m----> <a href='vscode-notebook-cell:/Users/krr024/GitHub/shareouts/womenwhocode/build_your_own_dataset.ipynb#ch0000051?line=2'>3</a>\u001b[0m df_migration_subset[\u001b[39m\"\u001b[39m\u001b[39mcountry\u001b[39m\u001b[39m\"\u001b[39m]\u001b[39m.\u001b[39mreplace(to_replace\u001b[39m=\u001b[39m{\n\u001b[1;32m      <a href='vscode-notebook-cell:/Users/krr024/GitHub/shareouts/womenwhocode/build_your_own_dataset.ipynb#ch0000051?line=3'>4</a>\u001b[0m     \u001b[39m\"\u001b[39m\u001b[39mUnited States of America\u001b[39m\u001b[39m\"\u001b[39m: \u001b[39m\"\u001b[39m\u001b[39mUnited States\u001b[39m\u001b[39m\"\u001b[39m, \n\u001b[1;32m      <a href='vscode-notebook-cell:/Users/krr024/GitHub/shareouts/womenwhocode/build_your_own_dataset.ipynb#ch0000051?line=4'>5</a>\u001b[0m     \u001b[39m\"\u001b[39m\u001b[39mSyrian Arab Republic\u001b[39m\u001b[39m\"\u001b[39m: \u001b[39m\"\u001b[39m\u001b[39mSyria\u001b[39m\u001b[39m\"\u001b[39m, \n\u001b[1;32m      <a href='vscode-notebook-cell:/Users/krr024/GitHub/shareouts/womenwhocode/build_your_own_dataset.ipynb#ch0000051?line=5'>6</a>\u001b[0m     \u001b[39m\"\u001b[39m\u001b[39mRussian Federation\u001b[39m\u001b[39m\"\u001b[39m: \u001b[39m\"\u001b[39m\u001b[39mRussia\u001b[39m\u001b[39m\"\u001b[39m, \n\u001b[1;32m      <a href='vscode-notebook-cell:/Users/krr024/GitHub/shareouts/womenwhocode/build_your_own_dataset.ipynb#ch0000051?line=6'>7</a>\u001b[0m     \u001b[39m\"\u001b[39m\u001b[39mRepublic of Korea\u001b[39m\u001b[39m\"\u001b[39m: \u001b[39m\"\u001b[39m\u001b[39mSouth Korea\u001b[39m\u001b[39m\"\u001b[39m,\n\u001b[1;32m      <a href='vscode-notebook-cell:/Users/krr024/GitHub/shareouts/womenwhocode/build_your_own_dataset.ipynb#ch0000051?line=7'>8</a>\u001b[0m     \u001b[39m\"\u001b[39m\u001b[39mVenezuela (Bolivarian Republic of)\u001b[39m\u001b[39m\"\u001b[39m: \u001b[39m\"\u001b[39m\u001b[39mVenezuela\u001b[39m\u001b[39m\"\u001b[39m,\n\u001b[1;32m      <a href='vscode-notebook-cell:/Users/krr024/GitHub/shareouts/womenwhocode/build_your_own_dataset.ipynb#ch0000051?line=8'>9</a>\u001b[0m     \u001b[39m\"\u001b[39m\u001b[39mViet Nam\u001b[39m\u001b[39m\"\u001b[39m: \u001b[39m\"\u001b[39m\u001b[39mVietnam\u001b[39m\u001b[39m\"\u001b[39m,\n\u001b[1;32m     <a href='vscode-notebook-cell:/Users/krr024/GitHub/shareouts/womenwhocode/build_your_own_dataset.ipynb#ch0000051?line=9'>10</a>\u001b[0m     \u001b[39m\"\u001b[39m\u001b[39mChina, Taiwan Province of China\u001b[39m\u001b[39m\"\u001b[39m: \u001b[39m\"\u001b[39m\u001b[39mTaiwan\u001b[39m\u001b[39m\"\u001b[39m,\n\u001b[1;32m     <a href='vscode-notebook-cell:/Users/krr024/GitHub/shareouts/womenwhocode/build_your_own_dataset.ipynb#ch0000051?line=10'>11</a>\u001b[0m     \n\u001b[1;32m     <a href='vscode-notebook-cell:/Users/krr024/GitHub/shareouts/womenwhocode/build_your_own_dataset.ipynb#ch0000051?line=11'>12</a>\u001b[0m }, inplace\u001b[39m=\u001b[39m\u001b[39mTrue\u001b[39;00m)\n",
      "\u001b[0;31mNameError\u001b[0m: name 'df_migration_subset' is not defined"
     ]
    }
   ],
   "source": [
    "# to get join to work, let's rename country in the migration dataset\n",
    "\n",
    "df_migration_subset[\"country\"].replace(to_replace={\n",
    "    \"United States of America\": \"United States\", \n",
    "    \"Syrian Arab Republic\": \"Syria\", \n",
    "    \"Russian Federation\": \"Russia\", \n",
    "    \"Republic of Korea\": \"South Korea\",\n",
    "    \"Venezuela (Bolivarian Republic of)\": \"Venezuela\",\n",
    "    \"Viet Nam\": \"Vietnam\",\n",
    "    \"China, Taiwan Province of China\": \"Taiwan\",\n",
    "    \n",
    "}, inplace=True)"
   ]
  },
  {
   "cell_type": "code",
   "execution_count": null,
   "id": "e005ad15-aa31-4025-a69e-e994cc8b7430",
   "metadata": {},
   "outputs": [],
   "source": [
    "# try the join again\n",
    "df_weather_migration = df_weather.merge(df_migration_subset, how=\"left\", left_on=\"country\", right_on=\"country\")"
   ]
  },
  {
   "cell_type": "code",
   "execution_count": null,
   "id": "df938e18-3523-4705-9635-534d4eb619c7",
   "metadata": {},
   "outputs": [],
   "source": [
    "df_weather_migration.head()"
   ]
  },
  {
   "cell_type": "code",
   "execution_count": null,
   "id": "2660c6c3-d189-452d-9c42-df477e45d912",
   "metadata": {},
   "outputs": [],
   "source": [
    "# now all of the records should have a match\n",
    "\n",
    "df_weather_migration.loc[df_weather_migration[\"migration_rate\"].isna(), \"country\"].unique()"
   ]
  },
  {
   "cell_type": "code",
   "execution_count": null,
   "id": "2c1419b4-c277-4c50-acf2-6b6dc27b6d3c",
   "metadata": {},
   "outputs": [],
   "source": []
  },
  {
   "cell_type": "code",
   "execution_count": null,
   "id": "d830e400-4d26-4d89-8617-a56ce5bd05aa",
   "metadata": {},
   "outputs": [],
   "source": []
  },
  {
   "cell_type": "code",
   "execution_count": null,
   "id": "d8e69592-3419-46b0-bf7b-936831c4eebd",
   "metadata": {},
   "outputs": [],
   "source": []
  },
  {
   "cell_type": "code",
   "execution_count": null,
   "id": "cd31e83b-47f9-429e-aaee-bba5e5153644",
   "metadata": {},
   "outputs": [],
   "source": []
  },
  {
   "cell_type": "code",
   "execution_count": null,
   "id": "994da865-3dd7-4aa3-9fb4-53c85681f69d",
   "metadata": {},
   "outputs": [],
   "source": []
  },
  {
   "cell_type": "code",
   "execution_count": null,
   "id": "601292bf-f039-4e06-9512-e1d8f639160d",
   "metadata": {},
   "outputs": [],
   "source": []
  }
 ],
 "metadata": {
  "kernelspec": {
   "display_name": "Python 3 (ipykernel)",
   "language": "python",
   "name": "python3"
  },
  "language_info": {
   "codemirror_mode": {
    "name": "ipython",
    "version": 3
   },
   "file_extension": ".py",
   "mimetype": "text/x-python",
   "name": "python",
   "nbconvert_exporter": "python",
   "pygments_lexer": "ipython3",
   "version": "3.9.7"
  }
 },
 "nbformat": 4,
 "nbformat_minor": 5
}
