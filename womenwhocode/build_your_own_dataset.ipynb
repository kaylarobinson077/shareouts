{
 "cells": [
  {
   "cell_type": "markdown",
   "id": "508f2b28-54c0-4ba4-8714-5c68cb9fef75",
   "metadata": {},
   "source": [
    "# Women Who Code :: Build-Your-Own Dataset\n",
    "\n",
    "Sometimes data scientists are handed a fully prepared and cleaned dataset, but this is rarely the case. Today's workshop will give you practice in building your own dataset from scratch. We will use public APIs and publically available data files to create a dataset of weather and population data that is ready for downstream uses.\n",
    "\n",
    "In this workshop, we'll be collecting and organizing information for fictional visitors to our fictional \n"
   ]
  },
  {
   "cell_type": "code",
   "execution_count": 1,
   "id": "22e1bcd5",
   "metadata": {},
   "outputs": [],
   "source": [
    "from faker import Faker\n",
    "import pandas as pd\n",
    "import requests"
   ]
  },
  {
   "cell_type": "markdown",
   "id": "ea680bb3-783a-4a3f-aa4c-9cb6403f91fb",
   "metadata": {},
   "source": [
    "# Part 1 :: Calling Public APIs\n",
    "\n",
    "In this first section we will use several publically available APIs to collect information about fictional visitors to our website. The only information we directly collect about visitors is their IP address. Beyond that, we'll have to look to outside sources to pull in information to learn more about our visitors."
   ]
  },
  {
   "cell_type": "markdown",
   "id": "51372b8f",
   "metadata": {},
   "source": [
    "## Get your IP address\n",
    "\n",
    "An IP address is a unique address that identifies a device on the internet or a local network. IP stands for \"Internet Protocol,\" which is the set of rules governing the format of data sent via the internet or local network.\n",
    "\n",
    "To find out your own IP address, you can make a call to the [ipify](https://www.ipify.org/) API, a simple public IP address API. This API does not require an account or API key."
   ]
  },
  {
   "cell_type": "code",
   "execution_count": 2,
   "id": "26538a01",
   "metadata": {},
   "outputs": [],
   "source": [
    "# api endpoint\n",
    "url = \"https://api.ipify.org\"\n",
    "\n",
    "# request formatted response\n",
    "params = {\n",
    "    \"format\": \"json\"\n",
    "}\n",
    "\n",
    "resp = requests.get(url, params)"
   ]
  },
  {
   "cell_type": "markdown",
   "id": "1bd88f6d-8c4d-48ed-a142-858f78bfabec",
   "metadata": {},
   "source": [
    "Congrats, you just made a call to the first API of this workshop! Let's take a closer look at the response, and see what information we've collected from it."
   ]
  },
  {
   "cell_type": "code",
   "execution_count": 3,
   "id": "c753b0ad-5074-4efa-8f66-a21822dd5f7d",
   "metadata": {},
   "outputs": [
    {
     "data": {
      "text/plain": [
       "200"
      ]
     },
     "execution_count": 3,
     "metadata": {},
     "output_type": "execute_result"
    }
   ],
   "source": [
    "# http response status codes indicate whether the request has been successfully completed\n",
    "resp.status_code"
   ]
  },
  {
   "cell_type": "code",
   "execution_count": 4,
   "id": "fa6cd471",
   "metadata": {},
   "outputs": [
    {
     "data": {
      "text/plain": [
       "'{\"ip\":\"69.136.161.247\"}'"
      ]
     },
     "execution_count": 4,
     "metadata": {},
     "output_type": "execute_result"
    }
   ],
   "source": [
    "# can get response in a string format\n",
    "resp.text"
   ]
  },
  {
   "cell_type": "code",
   "execution_count": 5,
   "id": "c38e3e58",
   "metadata": {},
   "outputs": [
    {
     "data": {
      "text/plain": [
       "{'ip': '69.136.161.247'}"
      ]
     },
     "execution_count": 5,
     "metadata": {},
     "output_type": "execute_result"
    }
   ],
   "source": [
    "# or more usefully as a json dictionary\n",
    "resp.json()"
   ]
  },
  {
   "cell_type": "code",
   "execution_count": 6,
   "id": "ab087789",
   "metadata": {},
   "outputs": [],
   "source": [
    "# let's hold on to ip address, and use it in some next steps\n",
    "ip = resp.json()[\"ip\"]"
   ]
  },
  {
   "cell_type": "markdown",
   "id": "bdb49d44",
   "metadata": {
    "tags": []
   },
   "source": [
    "## Get location for an IP address\n",
    "\n",
    "IP addresses can be linked to information about the location where you are connected to the internet.\n",
    "\n",
    "To find geolocation information given an IP address, we can use the [ip-api](https://ip-api.com/) JSON endpoint. The IP address endpoint allowed us to pass the desired response format (JSON) as a query parameter, but this API has a specific JSON endpoint, so we'll specify the data format as part of the URL."
   ]
  },
  {
   "cell_type": "code",
   "execution_count": 7,
   "id": "98a46c4f",
   "metadata": {},
   "outputs": [],
   "source": [
    "url = f\"http://ip-api.com/json/{ip}\"\n",
    "\n",
    "resp = requests.get(url)"
   ]
  },
  {
   "cell_type": "code",
   "execution_count": 8,
   "id": "bb23de38",
   "metadata": {},
   "outputs": [
    {
     "data": {
      "text/plain": [
       "200"
      ]
     },
     "execution_count": 8,
     "metadata": {},
     "output_type": "execute_result"
    }
   ],
   "source": [
    "# check that the call succeeded\n",
    "resp.status_code"
   ]
  },
  {
   "cell_type": "code",
   "execution_count": 9,
   "id": "97ca433c",
   "metadata": {},
   "outputs": [
    {
     "data": {
      "text/plain": [
       "{'status': 'success',\n",
       " 'country': 'United States',\n",
       " 'countryCode': 'US',\n",
       " 'region': 'IL',\n",
       " 'regionName': 'Illinois',\n",
       " 'city': 'Chicago',\n",
       " 'zip': '60610',\n",
       " 'lat': 41.9032,\n",
       " 'lon': -87.6383,\n",
       " 'timezone': 'America/Chicago',\n",
       " 'isp': 'Comcast Cable Communications, LLC',\n",
       " 'org': 'Comcast Cable Communications, Inc.',\n",
       " 'as': 'AS7922 Comcast Cable Communications, LLC',\n",
       " 'query': '69.136.161.247'}"
      ]
     },
     "execution_count": 9,
     "metadata": {},
     "output_type": "execute_result"
    }
   ],
   "source": [
    "# inspect the returned data\n",
    "resp.json()"
   ]
  },
  {
   "cell_type": "code",
   "execution_count": 10,
   "id": "b33a9cbe",
   "metadata": {},
   "outputs": [],
   "source": [
    "# pull out the lat/long fields, since we can look up info about this location\n",
    "\n",
    "lat = resp.json()[\"lat\"]\n",
    "long = resp.json()[\"lon\"]"
   ]
  },
  {
   "cell_type": "code",
   "execution_count": 11,
   "id": "be34325a",
   "metadata": {},
   "outputs": [],
   "source": [
    "def get_location_info(ip: str):\n",
    "    \"\"\"\n",
    "    Given an IP address, return a dictionary of location information.\n",
    "    \"\"\"\n",
    "    url = f\"http://ip-api.com/json/{ip}\"\n",
    "    resp = requests.get(url)\n",
    "    return resp.json()"
   ]
  },
  {
   "cell_type": "markdown",
   "id": "d20fdd2b",
   "metadata": {},
   "source": [
    "## Get the local weather\n",
    "\n",
    "Now that we know where a visitor is from, we can collect any information from other sources to understand the user's location. For this workshop, let's say that our website has content related to weather, and so the visitor's current weather is of interest to us.\n",
    "\n",
    "Given the visitor's latitude and longitude, we can use the [Open Meteo](https://open-meteo.com/en) API to get information about the location's current weather. Like the other APIs we've used in this workshop, Open Meteo is public and does not require an API key.\n",
    "\n"
   ]
  },
  {
   "cell_type": "code",
   "execution_count": 12,
   "id": "0bcebdcb",
   "metadata": {},
   "outputs": [],
   "source": [
    "url = \"https://api.open-meteo.com/v1/forecast\"\n",
    "\n",
    "params = {\n",
    "    \"latitude\": lat,\n",
    "    \"longitude\": long,\n",
    "    \"current_weather\": True,\n",
    "    \"format\": \"json\"\n",
    "}\n",
    "\n",
    "resp = requests.get(url, params)"
   ]
  },
  {
   "cell_type": "code",
   "execution_count": 13,
   "id": "e9f686fa",
   "metadata": {},
   "outputs": [
    {
     "data": {
      "text/plain": [
       "200"
      ]
     },
     "execution_count": 13,
     "metadata": {},
     "output_type": "execute_result"
    }
   ],
   "source": [
    "resp.status_code"
   ]
  },
  {
   "cell_type": "code",
   "execution_count": 14,
   "id": "ff5e7806",
   "metadata": {},
   "outputs": [
    {
     "data": {
      "text/plain": [
       "{'elevation': 182.125,\n",
       " 'latitude': 41.875,\n",
       " 'current_weather': {'winddirection': 288,\n",
       "  'windspeed': 15.6,\n",
       "  'weathercode': 1,\n",
       "  'temperature': 2.9,\n",
       "  'time': '2022-04-26T13:00'},\n",
       " 'generationtime_ms': 0.14591217041015625,\n",
       " 'longitude': -87.625,\n",
       " 'utc_offset_seconds': 0}"
      ]
     },
     "execution_count": 14,
     "metadata": {},
     "output_type": "execute_result"
    }
   ],
   "source": [
    "resp.json()"
   ]
  },
  {
   "cell_type": "code",
   "execution_count": 15,
   "id": "252c0a44",
   "metadata": {},
   "outputs": [],
   "source": [
    "def get_weather_info(lat: float, long: float):\n",
    "    \"\"\"\n",
    "    Given a latitude and longitude, return the current weather.\n",
    "    \"\"\"\n",
    "    url = \"https://api.open-meteo.com/v1/forecast\"\n",
    "\n",
    "    params = {\n",
    "        \"latitude\": lat,\n",
    "        \"longitude\": long,\n",
    "        \"current_weather\": True,\n",
    "        \"format\": \"json\"\n",
    "    }\n",
    "\n",
    "    resp = requests.get(url, params)\n",
    "    return resp.json()\n"
   ]
  },
  {
   "cell_type": "markdown",
   "id": "a3e58ea3",
   "metadata": {},
   "source": [
    "# Part 2 :: Prepare Your Dataset"
   ]
  },
  {
   "cell_type": "markdown",
   "id": "d5184b0c",
   "metadata": {},
   "source": [
    "## 2.1 :: Generate fake IP addresses\n",
    "\n",
    "Since we are working with fake data, we'll have to create some fake IP addresses for our website visitors. To do this, we'll use a package called [Faker](https://faker.readthedocs.io/en/master/) which generates fake data. It can generate all types of fake data, ranging from addresses to names to, wouldn't you know it, ID addresses!"
   ]
  },
  {
   "cell_type": "code",
   "execution_count": 20,
   "id": "5910533b",
   "metadata": {},
   "outputs": [
    {
     "data": {
      "text/plain": [
       "'172.207.40.57'"
      ]
     },
     "execution_count": 20,
     "metadata": {},
     "output_type": "execute_result"
    }
   ],
   "source": [
    "# faker generator\n",
    "faker = Faker()\n",
    "\n",
    "# create a fake ip address\n",
    "faker.ipv4()"
   ]
  },
  {
   "cell_type": "markdown",
   "id": "a3d4cc32",
   "metadata": {},
   "source": [
    "## 2.2 :: Generate weather data\n",
    "\n",
    "For each visitor IP address, we'll want to run our full weather collection process of getting location based on IP, then weather based on location. One way to do this is to define a function that takes in a (fake) IP address, hits the IP-to-location API, then sends this response to the Location-to-weather API."
   ]
  },
  {
   "cell_type": "code",
   "execution_count": 39,
   "id": "62ff0cfe",
   "metadata": {},
   "outputs": [],
   "source": [
    "def get_geo_weather_data(ip: str):\n",
    "    \n",
    "    # get location info for the ip address\n",
    "    location_info = get_location_info(ip)\n",
    "    \n",
    "    # get the current weather at the lat/long\n",
    "    weather_info = get_weather_info(location_info[\"lat\"], location_info[\"lon\"])\n",
    "    \n",
    "    # stack the dictionaries\n",
    "    # only works in python 3.9 and above\n",
    "    all_data = {\"ip\": ip} | location_info | weather_info\n",
    "    \n",
    "    # alternative for lower python versions using unpacking\n",
    "    # all_data = {**ip_info, **location_info, **weather_info}\n",
    "    \n",
    "    return all_data"
   ]
  },
  {
   "cell_type": "markdown",
   "id": "7acb83de",
   "metadata": {},
   "source": [
    "By organizing all of the API calls into a single function, this allows us to write a simple function that:\n",
    "\n",
    "1. Makes a fake IP address\n",
    "2. Gets the location and weather data for that IP adress\n",
    "3. Handles the case where we don't get back valid weather data (for example, an API returned an error)"
   ]
  },
  {
   "cell_type": "code",
   "execution_count": 44,
   "id": "de5b8682",
   "metadata": {},
   "outputs": [],
   "source": [
    "def get_fake_geo_weather_data(max_retries=5):\n",
    "    # keep trying again until we either get a valid result, or hit the max number of retries\n",
    "    retries = 0\n",
    "    while retries <= max_retries:\n",
    "        fake_ip = faker.ipv4()\n",
    "        # we won't always get successful results from each IP\n",
    "        try:\n",
    "            return get_geo_weather_data(fake_ip)\n",
    "        # for now, we can skip any failed attempts\n",
    "        except:\n",
    "            retries += 1\n",
    "    print (\"Max retries reached!\")\n",
    "    return None\n",
    "        "
   ]
  },
  {
   "cell_type": "markdown",
   "id": "d7fa9b7b",
   "metadata": {},
   "source": [
    "To handle potential API errors, we allowed our function to return a value of `None` in cases where no valid data was returned after the maximum number of retries. To clean up the data and make it easier for analysis, we can drop these failed attempts from our list of weather data responses."
   ]
  },
  {
   "cell_type": "code",
   "execution_count": 48,
   "id": "9821abfe-e94f-4d49-9ffa-50b6194dcb46",
   "metadata": {},
   "outputs": [],
   "source": [
    "weather_dicts = [get_fake_geo_weather_data() for i in range(10)]\n",
    "\n",
    "# remove any missing values, in case max retries was hit at any point\n",
    "weather_dicts = [x for x in weather_dicts if x is not None]"
   ]
  },
  {
   "cell_type": "markdown",
   "id": "054b53b0",
   "metadata": {},
   "source": [
    "Pandas dataframes are a standard across many data science teams, and so we will convert this list of dicts to a DataFrame for downstream analysis and data validation."
   ]
  },
  {
   "cell_type": "code",
   "execution_count": 49,
   "id": "e14281a9-0176-40e6-b21b-0fc8ab59e4e6",
   "metadata": {},
   "outputs": [],
   "source": [
    "# list of dicts to pandas dataframe is easy!\n",
    "df_weather = pd.DataFrame(weather_dicts)"
   ]
  },
  {
   "cell_type": "code",
   "execution_count": 50,
   "id": "ac3fff54-e45f-4a67-9162-df28ae480544",
   "metadata": {},
   "outputs": [
    {
     "data": {
      "text/html": [
       "<div>\n",
       "<style scoped>\n",
       "    .dataframe tbody tr th:only-of-type {\n",
       "        vertical-align: middle;\n",
       "    }\n",
       "\n",
       "    .dataframe tbody tr th {\n",
       "        vertical-align: top;\n",
       "    }\n",
       "\n",
       "    .dataframe thead th {\n",
       "        text-align: right;\n",
       "    }\n",
       "</style>\n",
       "<table border=\"1\" class=\"dataframe\">\n",
       "  <thead>\n",
       "    <tr style=\"text-align: right;\">\n",
       "      <th></th>\n",
       "      <th>ip</th>\n",
       "      <th>status</th>\n",
       "      <th>country</th>\n",
       "      <th>countryCode</th>\n",
       "      <th>region</th>\n",
       "      <th>regionName</th>\n",
       "      <th>city</th>\n",
       "      <th>zip</th>\n",
       "      <th>lat</th>\n",
       "      <th>lon</th>\n",
       "      <th>...</th>\n",
       "      <th>isp</th>\n",
       "      <th>org</th>\n",
       "      <th>as</th>\n",
       "      <th>query</th>\n",
       "      <th>longitude</th>\n",
       "      <th>utc_offset_seconds</th>\n",
       "      <th>generationtime_ms</th>\n",
       "      <th>elevation</th>\n",
       "      <th>current_weather</th>\n",
       "      <th>latitude</th>\n",
       "    </tr>\n",
       "  </thead>\n",
       "  <tbody>\n",
       "    <tr>\n",
       "      <th>0</th>\n",
       "      <td>8.95.7.7</td>\n",
       "      <td>success</td>\n",
       "      <td>United States</td>\n",
       "      <td>US</td>\n",
       "      <td>LA</td>\n",
       "      <td>Louisiana</td>\n",
       "      <td>Monroe</td>\n",
       "      <td>71203</td>\n",
       "      <td>32.5896</td>\n",
       "      <td>-92.0669</td>\n",
       "      <td>...</td>\n",
       "      <td>Level 3 Communications, Inc.</td>\n",
       "      <td>Level 3, LLC</td>\n",
       "      <td>AS3356 Level 3 Parent, LLC</td>\n",
       "      <td>8.95.7.7</td>\n",
       "      <td>-92.1250</td>\n",
       "      <td>0</td>\n",
       "      <td>2.327919</td>\n",
       "      <td>23.09375</td>\n",
       "      <td>{'time': '2022-04-26T18:00', 'weathercode': 1,...</td>\n",
       "      <td>32.625</td>\n",
       "    </tr>\n",
       "    <tr>\n",
       "      <th>1</th>\n",
       "      <td>164.104.181.14</td>\n",
       "      <td>success</td>\n",
       "      <td>United States</td>\n",
       "      <td>US</td>\n",
       "      <td>CO</td>\n",
       "      <td>Colorado</td>\n",
       "      <td>Fort Collins</td>\n",
       "      <td>80525</td>\n",
       "      <td>40.5377</td>\n",
       "      <td>-105.0546</td>\n",
       "      <td>...</td>\n",
       "      <td>Poudre School District R-1</td>\n",
       "      <td>Poudre School District R</td>\n",
       "      <td>AS54060 Poudre School District R-1</td>\n",
       "      <td>164.104.181.14</td>\n",
       "      <td>-105.0000</td>\n",
       "      <td>0</td>\n",
       "      <td>0.120997</td>\n",
       "      <td>1504.00000</td>\n",
       "      <td>{'temperature': 16.8, 'winddirection': 157, 't...</td>\n",
       "      <td>40.500</td>\n",
       "    </tr>\n",
       "    <tr>\n",
       "      <th>2</th>\n",
       "      <td>56.100.209.164</td>\n",
       "      <td>success</td>\n",
       "      <td>United States</td>\n",
       "      <td>US</td>\n",
       "      <td>IL</td>\n",
       "      <td>Illinois</td>\n",
       "      <td>Chicago</td>\n",
       "      <td>60666</td>\n",
       "      <td>41.8781</td>\n",
       "      <td>-87.6298</td>\n",
       "      <td>...</td>\n",
       "      <td>United States Postal Service.</td>\n",
       "      <td>United States Postal Service</td>\n",
       "      <td></td>\n",
       "      <td>56.100.209.164</td>\n",
       "      <td>-87.6250</td>\n",
       "      <td>0</td>\n",
       "      <td>0.123978</td>\n",
       "      <td>182.12500</td>\n",
       "      <td>{'weathercode': 2, 'windspeed': 17.3, 'winddir...</td>\n",
       "      <td>41.875</td>\n",
       "    </tr>\n",
       "    <tr>\n",
       "      <th>3</th>\n",
       "      <td>155.207.132.190</td>\n",
       "      <td>success</td>\n",
       "      <td>Greece</td>\n",
       "      <td>GR</td>\n",
       "      <td>B</td>\n",
       "      <td>Central Macedonia</td>\n",
       "      <td>Thessaloniki</td>\n",
       "      <td></td>\n",
       "      <td>40.6381</td>\n",
       "      <td>22.9455</td>\n",
       "      <td>...</td>\n",
       "      <td>Aristotle University of Thessaloniki</td>\n",
       "      <td>AUTH</td>\n",
       "      <td>AS5470 Aristotle University of Thessaloniki</td>\n",
       "      <td>155.207.132.190</td>\n",
       "      <td>22.9375</td>\n",
       "      <td>0</td>\n",
       "      <td>0.186086</td>\n",
       "      <td>-999.00000</td>\n",
       "      <td>{'winddirection': 235, 'temperature': 19.3, 't...</td>\n",
       "      <td>40.625</td>\n",
       "    </tr>\n",
       "    <tr>\n",
       "      <th>4</th>\n",
       "      <td>1.60.174.157</td>\n",
       "      <td>success</td>\n",
       "      <td>China</td>\n",
       "      <td>CN</td>\n",
       "      <td>HL</td>\n",
       "      <td>Heilongjiang</td>\n",
       "      <td>Harbin</td>\n",
       "      <td></td>\n",
       "      <td>45.8038</td>\n",
       "      <td>126.5350</td>\n",
       "      <td>...</td>\n",
       "      <td>China Unicom Heilongjiang Province Network</td>\n",
       "      <td></td>\n",
       "      <td>AS4837 CHINA UNICOM China169 Backbone</td>\n",
       "      <td>1.60.174.157</td>\n",
       "      <td>126.5000</td>\n",
       "      <td>0</td>\n",
       "      <td>2.333045</td>\n",
       "      <td>133.37500</td>\n",
       "      <td>{'weathercode': 0, 'time': '2022-04-26T18:00',...</td>\n",
       "      <td>45.750</td>\n",
       "    </tr>\n",
       "  </tbody>\n",
       "</table>\n",
       "<p>5 rows × 21 columns</p>\n",
       "</div>"
      ],
      "text/plain": [
       "                ip   status        country countryCode region  \\\n",
       "0         8.95.7.7  success  United States          US     LA   \n",
       "1   164.104.181.14  success  United States          US     CO   \n",
       "2   56.100.209.164  success  United States          US     IL   \n",
       "3  155.207.132.190  success         Greece          GR      B   \n",
       "4     1.60.174.157  success          China          CN     HL   \n",
       "\n",
       "          regionName          city    zip      lat       lon  ...  \\\n",
       "0          Louisiana        Monroe  71203  32.5896  -92.0669  ...   \n",
       "1           Colorado  Fort Collins  80525  40.5377 -105.0546  ...   \n",
       "2           Illinois       Chicago  60666  41.8781  -87.6298  ...   \n",
       "3  Central Macedonia  Thessaloniki         40.6381   22.9455  ...   \n",
       "4       Heilongjiang        Harbin         45.8038  126.5350  ...   \n",
       "\n",
       "                                          isp                           org  \\\n",
       "0                Level 3 Communications, Inc.                  Level 3, LLC   \n",
       "1                  Poudre School District R-1      Poudre School District R   \n",
       "2               United States Postal Service.  United States Postal Service   \n",
       "3        Aristotle University of Thessaloniki                          AUTH   \n",
       "4  China Unicom Heilongjiang Province Network                                 \n",
       "\n",
       "                                            as            query longitude  \\\n",
       "0                   AS3356 Level 3 Parent, LLC         8.95.7.7  -92.1250   \n",
       "1           AS54060 Poudre School District R-1   164.104.181.14 -105.0000   \n",
       "2                                                56.100.209.164  -87.6250   \n",
       "3  AS5470 Aristotle University of Thessaloniki  155.207.132.190   22.9375   \n",
       "4        AS4837 CHINA UNICOM China169 Backbone     1.60.174.157  126.5000   \n",
       "\n",
       "   utc_offset_seconds  generationtime_ms   elevation  \\\n",
       "0                   0           2.327919    23.09375   \n",
       "1                   0           0.120997  1504.00000   \n",
       "2                   0           0.123978   182.12500   \n",
       "3                   0           0.186086  -999.00000   \n",
       "4                   0           2.333045   133.37500   \n",
       "\n",
       "                                     current_weather latitude  \n",
       "0  {'time': '2022-04-26T18:00', 'weathercode': 1,...   32.625  \n",
       "1  {'temperature': 16.8, 'winddirection': 157, 't...   40.500  \n",
       "2  {'weathercode': 2, 'windspeed': 17.3, 'winddir...   41.875  \n",
       "3  {'winddirection': 235, 'temperature': 19.3, 't...   40.625  \n",
       "4  {'weathercode': 0, 'time': '2022-04-26T18:00',...   45.750  \n",
       "\n",
       "[5 rows x 21 columns]"
      ]
     },
     "execution_count": 50,
     "metadata": {},
     "output_type": "execute_result"
    }
   ],
   "source": [
    "# take a peek to make sure the data looks as we'd expect it to\n",
    "df_weather.head()"
   ]
  },
  {
   "cell_type": "code",
   "execution_count": 52,
   "id": "58732a75-2522-44f7-b698-c21b8f2fbcfb",
   "metadata": {},
   "outputs": [
    {
     "data": {
      "text/plain": [
       "array(['United States', 'Greece', 'China', 'Canada', 'Netherlands',\n",
       "       'Germany', 'Japan', 'South Korea'], dtype=object)"
      ]
     },
     "execution_count": 52,
     "metadata": {},
     "output_type": "execute_result"
    }
   ],
   "source": [
    "# pandas made it easy to inspect our data, such as seeing the set of countries we collected data from\n",
    "df_weather[\"country\"].unique()"
   ]
  },
  {
   "cell_type": "markdown",
   "id": "6a1b9c4e",
   "metadata": {},
   "source": [
    "And there you have it! At this point, we have used several public APIs to collect location and weather data about imaginary visitors to our company's website. We've organized this data into a Pandas DataFrame format, which will make it easy to combine with additional data, and to use for downstream analysis or modeling applications."
   ]
  },
  {
   "cell_type": "markdown",
   "id": "fdd8def6-10fb-4898-9b5f-4d50e212155b",
   "metadata": {},
   "source": [
    "## 2.3 :: Join with Migration Data\n",
    "\n",
    "We learned a lot about our individual visitors by inspecting their IP address, and calling other APIs to collect supplemental information off of this.\n",
    "\n",
    "Often times, relevant data might exist in a database or table format. For example, consider the case where our website may be offering relocation services, such as a moving company or a service that helps individuals find job opportunities in new countries. For a use-case like this, it could be valuable to learn about the typical migration rates in and out of the countries in which our visitors reside.\n",
    "\n",
    "Luckily for us, the United Nations publishes migration rates at the country level publically, and we can download this data for free. After accessing this data, we can join it to our visitors data table using a key of \"Country\".\n",
    "\n",
    "XLSX file available from the UN:\n",
    "\n",
    "https://population.un.org/wpp/Download/Standard/Migration/\n",
    "\n",
    "In case the location of this file changes, we've also attached a copy of it to this Repo."
   ]
  },
  {
   "cell_type": "code",
   "execution_count": 54,
   "id": "cec2a285",
   "metadata": {},
   "outputs": [],
   "source": [
    "# skip the first few rows, which just contain extra header information\n",
    "df_migration = pd.read_excel(\"https://population.un.org/wpp/Download/Files/1_Indicators%20(Standard)/EXCEL_FILES/4_Migration/WPP2019_MIGR_F01_NET_MIGRATION_RATE.xlsx\", skiprows=range(16))"
   ]
  },
  {
   "cell_type": "code",
   "execution_count": 55,
   "id": "65ff52a5-586d-461c-af18-8800d3d42ad5",
   "metadata": {},
   "outputs": [
    {
     "data": {
      "text/html": [
       "<div>\n",
       "<style scoped>\n",
       "    .dataframe tbody tr th:only-of-type {\n",
       "        vertical-align: middle;\n",
       "    }\n",
       "\n",
       "    .dataframe tbody tr th {\n",
       "        vertical-align: top;\n",
       "    }\n",
       "\n",
       "    .dataframe thead th {\n",
       "        text-align: right;\n",
       "    }\n",
       "</style>\n",
       "<table border=\"1\" class=\"dataframe\">\n",
       "  <thead>\n",
       "    <tr style=\"text-align: right;\">\n",
       "      <th></th>\n",
       "      <th>Index</th>\n",
       "      <th>Variant</th>\n",
       "      <th>Region, subregion, country or area *</th>\n",
       "      <th>Notes</th>\n",
       "      <th>Country code</th>\n",
       "      <th>Type</th>\n",
       "      <th>Parent code</th>\n",
       "      <th>1950-1955</th>\n",
       "      <th>1955-1960</th>\n",
       "      <th>1960-1965</th>\n",
       "      <th>...</th>\n",
       "      <th>1970-1975</th>\n",
       "      <th>1975-1980</th>\n",
       "      <th>1980-1985</th>\n",
       "      <th>1985-1990</th>\n",
       "      <th>1990-1995</th>\n",
       "      <th>1995-2000</th>\n",
       "      <th>2000-2005</th>\n",
       "      <th>2005-2010</th>\n",
       "      <th>2010-2015</th>\n",
       "      <th>2015-2020</th>\n",
       "    </tr>\n",
       "  </thead>\n",
       "  <tbody>\n",
       "    <tr>\n",
       "      <th>0</th>\n",
       "      <td>1</td>\n",
       "      <td>Estimates</td>\n",
       "      <td>WORLD</td>\n",
       "      <td>NaN</td>\n",
       "      <td>900</td>\n",
       "      <td>World</td>\n",
       "      <td>0</td>\n",
       "      <td>0</td>\n",
       "      <td>0</td>\n",
       "      <td>0</td>\n",
       "      <td>...</td>\n",
       "      <td>0</td>\n",
       "      <td>0</td>\n",
       "      <td>0</td>\n",
       "      <td>0</td>\n",
       "      <td>0</td>\n",
       "      <td>0</td>\n",
       "      <td>0</td>\n",
       "      <td>0</td>\n",
       "      <td>0</td>\n",
       "      <td>0</td>\n",
       "    </tr>\n",
       "    <tr>\n",
       "      <th>1</th>\n",
       "      <td>2</td>\n",
       "      <td>Estimates</td>\n",
       "      <td>UN development groups</td>\n",
       "      <td>a</td>\n",
       "      <td>1803</td>\n",
       "      <td>Label/Separator</td>\n",
       "      <td>900</td>\n",
       "      <td>...</td>\n",
       "      <td>...</td>\n",
       "      <td>...</td>\n",
       "      <td>...</td>\n",
       "      <td>...</td>\n",
       "      <td>...</td>\n",
       "      <td>...</td>\n",
       "      <td>...</td>\n",
       "      <td>...</td>\n",
       "      <td>...</td>\n",
       "      <td>...</td>\n",
       "      <td>...</td>\n",
       "      <td>...</td>\n",
       "      <td>...</td>\n",
       "    </tr>\n",
       "    <tr>\n",
       "      <th>2</th>\n",
       "      <td>3</td>\n",
       "      <td>Estimates</td>\n",
       "      <td>More developed regions</td>\n",
       "      <td>b</td>\n",
       "      <td>901</td>\n",
       "      <td>Development Group</td>\n",
       "      <td>1803</td>\n",
       "      <td>0.031</td>\n",
       "      <td>0.032</td>\n",
       "      <td>0.533</td>\n",
       "      <td>...</td>\n",
       "      <td>1.269</td>\n",
       "      <td>1.235</td>\n",
       "      <td>1.062</td>\n",
       "      <td>1.235</td>\n",
       "      <td>1.838</td>\n",
       "      <td>2.228</td>\n",
       "      <td>2.745</td>\n",
       "      <td>2.773</td>\n",
       "      <td>2.332</td>\n",
       "      <td>2.215</td>\n",
       "    </tr>\n",
       "    <tr>\n",
       "      <th>3</th>\n",
       "      <td>4</td>\n",
       "      <td>Estimates</td>\n",
       "      <td>Less developed regions</td>\n",
       "      <td>c</td>\n",
       "      <td>902</td>\n",
       "      <td>Development Group</td>\n",
       "      <td>1803</td>\n",
       "      <td>-0.014</td>\n",
       "      <td>-0.014</td>\n",
       "      <td>-0.224</td>\n",
       "      <td>...</td>\n",
       "      <td>-0.456</td>\n",
       "      <td>-0.411</td>\n",
       "      <td>-0.327</td>\n",
       "      <td>-0.352</td>\n",
       "      <td>-0.486</td>\n",
       "      <td>-0.551</td>\n",
       "      <td>-0.64</td>\n",
       "      <td>-0.613</td>\n",
       "      <td>-0.491</td>\n",
       "      <td>-0.443</td>\n",
       "    </tr>\n",
       "    <tr>\n",
       "      <th>4</th>\n",
       "      <td>5</td>\n",
       "      <td>Estimates</td>\n",
       "      <td>Least developed countries</td>\n",
       "      <td>d</td>\n",
       "      <td>941</td>\n",
       "      <td>Development Group</td>\n",
       "      <td>902</td>\n",
       "      <td>-0.487</td>\n",
       "      <td>-0.567</td>\n",
       "      <td>-0.787</td>\n",
       "      <td>...</td>\n",
       "      <td>-2.699</td>\n",
       "      <td>-2.118</td>\n",
       "      <td>-2.927</td>\n",
       "      <td>-1.573</td>\n",
       "      <td>0.321</td>\n",
       "      <td>-1.389</td>\n",
       "      <td>-1.254</td>\n",
       "      <td>-2.42</td>\n",
       "      <td>-1.716</td>\n",
       "      <td>-0.973</td>\n",
       "    </tr>\n",
       "  </tbody>\n",
       "</table>\n",
       "<p>5 rows × 21 columns</p>\n",
       "</div>"
      ],
      "text/plain": [
       "   Index    Variant Region, subregion, country or area * Notes  Country code  \\\n",
       "0      1  Estimates                                WORLD   NaN           900   \n",
       "1      2  Estimates                UN development groups     a          1803   \n",
       "2      3  Estimates               More developed regions     b           901   \n",
       "3      4  Estimates               Less developed regions     c           902   \n",
       "4      5  Estimates            Least developed countries     d           941   \n",
       "\n",
       "                Type  Parent code 1950-1955 1955-1960 1960-1965  ...  \\\n",
       "0              World            0         0         0         0  ...   \n",
       "1    Label/Separator          900       ...       ...       ...  ...   \n",
       "2  Development Group         1803     0.031     0.032     0.533  ...   \n",
       "3  Development Group         1803    -0.014    -0.014    -0.224  ...   \n",
       "4  Development Group          902    -0.487    -0.567    -0.787  ...   \n",
       "\n",
       "  1970-1975 1975-1980 1980-1985 1985-1990 1990-1995 1995-2000 2000-2005  \\\n",
       "0         0         0         0         0         0         0         0   \n",
       "1       ...       ...       ...       ...       ...       ...       ...   \n",
       "2     1.269     1.235     1.062     1.235     1.838     2.228     2.745   \n",
       "3    -0.456    -0.411    -0.327    -0.352    -0.486    -0.551     -0.64   \n",
       "4    -2.699    -2.118    -2.927    -1.573     0.321    -1.389    -1.254   \n",
       "\n",
       "  2005-2010 2010-2015 2015-2020  \n",
       "0         0         0         0  \n",
       "1       ...       ...       ...  \n",
       "2     2.773     2.332     2.215  \n",
       "3    -0.613    -0.491    -0.443  \n",
       "4     -2.42    -1.716    -0.973  \n",
       "\n",
       "[5 rows x 21 columns]"
      ]
     },
     "execution_count": 55,
     "metadata": {},
     "output_type": "execute_result"
    }
   ],
   "source": [
    "df_migration.head()"
   ]
  },
  {
   "cell_type": "code",
   "execution_count": 56,
   "id": "411030d5",
   "metadata": {},
   "outputs": [
    {
     "data": {
      "text/plain": [
       "array(['World', 'Label/Separator', 'Development Group', 'Special other',\n",
       "       'Income Group', 'Region', 'SDG region', 'Subregion',\n",
       "       'Country/Area', 'SDG subregion'], dtype=object)"
      ]
     },
     "execution_count": 56,
     "metadata": {},
     "output_type": "execute_result"
    }
   ],
   "source": [
    "df_migration[\"Type\"].unique()"
   ]
  },
  {
   "cell_type": "markdown",
   "id": "825ac07d",
   "metadata": {},
   "source": [
    "Looking at the data as it's read in, you can make several observations:\n",
    "\n",
    "- Data is reported at various aggregations, such as country, income, overall (world), etc.\n",
    "- Metrics are reported at various date ranges. While interesting to have, we are likely going to be most interested in the most recent year range (2015-2020)\n",
    "\n",
    "Because of our specific interests, let's limit rows to just those reporting on country-level values, and limit columns to just the region name and most recent measurement."
   ]
  },
  {
   "cell_type": "code",
   "execution_count": 57,
   "id": "63274163-b149-4add-8cb0-113b6eea9d38",
   "metadata": {},
   "outputs": [
    {
     "data": {
      "text/html": [
       "<div>\n",
       "<style scoped>\n",
       "    .dataframe tbody tr th:only-of-type {\n",
       "        vertical-align: middle;\n",
       "    }\n",
       "\n",
       "    .dataframe tbody tr th {\n",
       "        vertical-align: top;\n",
       "    }\n",
       "\n",
       "    .dataframe thead th {\n",
       "        text-align: right;\n",
       "    }\n",
       "</style>\n",
       "<table border=\"1\" class=\"dataframe\">\n",
       "  <thead>\n",
       "    <tr style=\"text-align: right;\">\n",
       "      <th></th>\n",
       "      <th>Index</th>\n",
       "      <th>Variant</th>\n",
       "      <th>Region, subregion, country or area *</th>\n",
       "      <th>Notes</th>\n",
       "      <th>Country code</th>\n",
       "      <th>Type</th>\n",
       "      <th>Parent code</th>\n",
       "      <th>1950-1955</th>\n",
       "      <th>1955-1960</th>\n",
       "      <th>1960-1965</th>\n",
       "      <th>...</th>\n",
       "      <th>1970-1975</th>\n",
       "      <th>1975-1980</th>\n",
       "      <th>1980-1985</th>\n",
       "      <th>1985-1990</th>\n",
       "      <th>1990-1995</th>\n",
       "      <th>1995-2000</th>\n",
       "      <th>2000-2005</th>\n",
       "      <th>2005-2010</th>\n",
       "      <th>2010-2015</th>\n",
       "      <th>2015-2020</th>\n",
       "    </tr>\n",
       "  </thead>\n",
       "  <tbody>\n",
       "    <tr>\n",
       "      <th>26</th>\n",
       "      <td>27</td>\n",
       "      <td>Estimates</td>\n",
       "      <td>Burundi</td>\n",
       "      <td>NaN</td>\n",
       "      <td>108</td>\n",
       "      <td>Country/Area</td>\n",
       "      <td>910</td>\n",
       "      <td>-5.773</td>\n",
       "      <td>-5.252</td>\n",
       "      <td>-5.769</td>\n",
       "      <td>...</td>\n",
       "      <td>-14.847</td>\n",
       "      <td>-7.65</td>\n",
       "      <td>-6.248</td>\n",
       "      <td>-7.066</td>\n",
       "      <td>-11.203</td>\n",
       "      <td>-14.728</td>\n",
       "      <td>-0.719</td>\n",
       "      <td>0.748</td>\n",
       "      <td>-1.487</td>\n",
       "      <td>0.181</td>\n",
       "    </tr>\n",
       "    <tr>\n",
       "      <th>27</th>\n",
       "      <td>28</td>\n",
       "      <td>Estimates</td>\n",
       "      <td>Comoros</td>\n",
       "      <td>NaN</td>\n",
       "      <td>174</td>\n",
       "      <td>Country/Area</td>\n",
       "      <td>910</td>\n",
       "      <td>0</td>\n",
       "      <td>-6.666</td>\n",
       "      <td>-8.522</td>\n",
       "      <td>...</td>\n",
       "      <td>-4.514</td>\n",
       "      <td>7.078</td>\n",
       "      <td>-2.714</td>\n",
       "      <td>-2.347</td>\n",
       "      <td>-1.353</td>\n",
       "      <td>-2.358</td>\n",
       "      <td>-3.466</td>\n",
       "      <td>-3.074</td>\n",
       "      <td>-2.726</td>\n",
       "      <td>-2.429</td>\n",
       "    </tr>\n",
       "    <tr>\n",
       "      <th>28</th>\n",
       "      <td>29</td>\n",
       "      <td>Estimates</td>\n",
       "      <td>Djibouti</td>\n",
       "      <td>NaN</td>\n",
       "      <td>262</td>\n",
       "      <td>Country/Area</td>\n",
       "      <td>910</td>\n",
       "      <td>3.037</td>\n",
       "      <td>13.052</td>\n",
       "      <td>36.254</td>\n",
       "      <td>...</td>\n",
       "      <td>36.47</td>\n",
       "      <td>62.553</td>\n",
       "      <td>5.098</td>\n",
       "      <td>35.432</td>\n",
       "      <td>-14.745</td>\n",
       "      <td>2.964</td>\n",
       "      <td>-2.398</td>\n",
       "      <td>-3.011</td>\n",
       "      <td>1.369</td>\n",
       "      <td>0.947</td>\n",
       "    </tr>\n",
       "    <tr>\n",
       "      <th>29</th>\n",
       "      <td>30</td>\n",
       "      <td>Estimates</td>\n",
       "      <td>Eritrea</td>\n",
       "      <td>NaN</td>\n",
       "      <td>232</td>\n",
       "      <td>Country/Area</td>\n",
       "      <td>910</td>\n",
       "      <td>0.232</td>\n",
       "      <td>0.629</td>\n",
       "      <td>1.298</td>\n",
       "      <td>...</td>\n",
       "      <td>1.42</td>\n",
       "      <td>1.235</td>\n",
       "      <td>1.07</td>\n",
       "      <td>-3.754</td>\n",
       "      <td>-28.212</td>\n",
       "      <td>-11.564</td>\n",
       "      <td>17.76</td>\n",
       "      <td>-5.337</td>\n",
       "      <td>-15.108</td>\n",
       "      <td>-11.571</td>\n",
       "    </tr>\n",
       "    <tr>\n",
       "      <th>30</th>\n",
       "      <td>31</td>\n",
       "      <td>Estimates</td>\n",
       "      <td>Ethiopia</td>\n",
       "      <td>NaN</td>\n",
       "      <td>231</td>\n",
       "      <td>Country/Area</td>\n",
       "      <td>910</td>\n",
       "      <td>-0.21</td>\n",
       "      <td>-0.19</td>\n",
       "      <td>-0.17</td>\n",
       "      <td>...</td>\n",
       "      <td>-0.391</td>\n",
       "      <td>-12.479</td>\n",
       "      <td>1.312</td>\n",
       "      <td>3.461</td>\n",
       "      <td>5.557</td>\n",
       "      <td>-0.505</td>\n",
       "      <td>-0.421</td>\n",
       "      <td>-0.122</td>\n",
       "      <td>0.849</td>\n",
       "      <td>0.278</td>\n",
       "    </tr>\n",
       "  </tbody>\n",
       "</table>\n",
       "<p>5 rows × 21 columns</p>\n",
       "</div>"
      ],
      "text/plain": [
       "    Index    Variant Region, subregion, country or area * Notes  Country code  \\\n",
       "26     27  Estimates                              Burundi   NaN           108   \n",
       "27     28  Estimates                              Comoros   NaN           174   \n",
       "28     29  Estimates                             Djibouti   NaN           262   \n",
       "29     30  Estimates                              Eritrea   NaN           232   \n",
       "30     31  Estimates                             Ethiopia   NaN           231   \n",
       "\n",
       "            Type  Parent code 1950-1955 1955-1960 1960-1965  ... 1970-1975  \\\n",
       "26  Country/Area          910    -5.773    -5.252    -5.769  ...   -14.847   \n",
       "27  Country/Area          910         0    -6.666    -8.522  ...    -4.514   \n",
       "28  Country/Area          910     3.037    13.052    36.254  ...     36.47   \n",
       "29  Country/Area          910     0.232     0.629     1.298  ...      1.42   \n",
       "30  Country/Area          910     -0.21     -0.19     -0.17  ...    -0.391   \n",
       "\n",
       "   1975-1980 1980-1985 1985-1990 1990-1995 1995-2000 2000-2005 2005-2010  \\\n",
       "26     -7.65    -6.248    -7.066   -11.203   -14.728    -0.719     0.748   \n",
       "27     7.078    -2.714    -2.347    -1.353    -2.358    -3.466    -3.074   \n",
       "28    62.553     5.098    35.432   -14.745     2.964    -2.398    -3.011   \n",
       "29     1.235      1.07    -3.754   -28.212   -11.564     17.76    -5.337   \n",
       "30   -12.479     1.312     3.461     5.557    -0.505    -0.421    -0.122   \n",
       "\n",
       "   2010-2015 2015-2020  \n",
       "26    -1.487     0.181  \n",
       "27    -2.726    -2.429  \n",
       "28     1.369     0.947  \n",
       "29   -15.108   -11.571  \n",
       "30     0.849     0.278  \n",
       "\n",
       "[5 rows x 21 columns]"
      ]
     },
     "execution_count": 57,
     "metadata": {},
     "output_type": "execute_result"
    }
   ],
   "source": [
    "# limit to only country-level rows\n",
    "df_migration_countries = df_migration.loc[df_migration[\"Type\"]==\"Country/Area\"]\n",
    "df_migration_countries.head()"
   ]
  },
  {
   "cell_type": "code",
   "execution_count": 58,
   "id": "3c1ce3dd-7a9f-4c4d-9756-869887ad6af5",
   "metadata": {},
   "outputs": [],
   "source": [
    "# limit to only relevant columns\n",
    "df_migration_subset = df_migration_countries[[\"Region, subregion, country or area *\", \"2015-2020\"]]"
   ]
  },
  {
   "cell_type": "code",
   "execution_count": 59,
   "id": "3e7c18e9-7d75-4def-8248-2147dd198d72",
   "metadata": {},
   "outputs": [
    {
     "data": {
      "text/html": [
       "<div>\n",
       "<style scoped>\n",
       "    .dataframe tbody tr th:only-of-type {\n",
       "        vertical-align: middle;\n",
       "    }\n",
       "\n",
       "    .dataframe tbody tr th {\n",
       "        vertical-align: top;\n",
       "    }\n",
       "\n",
       "    .dataframe thead th {\n",
       "        text-align: right;\n",
       "    }\n",
       "</style>\n",
       "<table border=\"1\" class=\"dataframe\">\n",
       "  <thead>\n",
       "    <tr style=\"text-align: right;\">\n",
       "      <th></th>\n",
       "      <th>Region, subregion, country or area *</th>\n",
       "      <th>2015-2020</th>\n",
       "    </tr>\n",
       "  </thead>\n",
       "  <tbody>\n",
       "    <tr>\n",
       "      <th>26</th>\n",
       "      <td>Burundi</td>\n",
       "      <td>0.181</td>\n",
       "    </tr>\n",
       "    <tr>\n",
       "      <th>27</th>\n",
       "      <td>Comoros</td>\n",
       "      <td>-2.429</td>\n",
       "    </tr>\n",
       "    <tr>\n",
       "      <th>28</th>\n",
       "      <td>Djibouti</td>\n",
       "      <td>0.947</td>\n",
       "    </tr>\n",
       "    <tr>\n",
       "      <th>29</th>\n",
       "      <td>Eritrea</td>\n",
       "      <td>-11.571</td>\n",
       "    </tr>\n",
       "    <tr>\n",
       "      <th>30</th>\n",
       "      <td>Ethiopia</td>\n",
       "      <td>0.278</td>\n",
       "    </tr>\n",
       "  </tbody>\n",
       "</table>\n",
       "</div>"
      ],
      "text/plain": [
       "   Region, subregion, country or area * 2015-2020\n",
       "26                              Burundi     0.181\n",
       "27                              Comoros    -2.429\n",
       "28                             Djibouti     0.947\n",
       "29                              Eritrea   -11.571\n",
       "30                             Ethiopia     0.278"
      ]
     },
     "execution_count": 59,
     "metadata": {},
     "output_type": "execute_result"
    }
   ],
   "source": [
    "df_migration_subset.head()"
   ]
  },
  {
   "cell_type": "markdown",
   "id": "5af5abc3",
   "metadata": {},
   "source": [
    "Right now, the column names aren't very specific to our limited use case. So, we can rename the columns in our subsetted dataframe to be more interpretable in our downstream dataset. "
   ]
  },
  {
   "cell_type": "code",
   "execution_count": 60,
   "id": "2ab7ea82-1f27-474f-bea4-e01ee9ca3253",
   "metadata": {},
   "outputs": [
    {
     "name": "stderr",
     "output_type": "stream",
     "text": [
      "/var/folders/jg/v3n_k3655b10w3brcsgzl1wc0000gp/T/ipykernel_81020/1046482195.py:1: SettingWithCopyWarning: \n",
      "A value is trying to be set on a copy of a slice from a DataFrame\n",
      "\n",
      "See the caveats in the documentation: https://pandas.pydata.org/pandas-docs/stable/user_guide/indexing.html#returning-a-view-versus-a-copy\n",
      "  df_migration_subset.rename({\"Region, subregion, country or area *\": \"country\", \"2015-2020\": \"migration_rate\"}, axis=1, inplace=True)\n"
     ]
    }
   ],
   "source": [
    "df_migration_subset.rename({\"Region, subregion, country or area *\": \"country\", \"2015-2020\": \"migration_rate\"}, axis=1, inplace=True)"
   ]
  },
  {
   "cell_type": "code",
   "execution_count": 61,
   "id": "e3e3d1d2-2e11-4d1c-8d1a-66dee9684e07",
   "metadata": {},
   "outputs": [
    {
     "data": {
      "text/html": [
       "<div>\n",
       "<style scoped>\n",
       "    .dataframe tbody tr th:only-of-type {\n",
       "        vertical-align: middle;\n",
       "    }\n",
       "\n",
       "    .dataframe tbody tr th {\n",
       "        vertical-align: top;\n",
       "    }\n",
       "\n",
       "    .dataframe thead th {\n",
       "        text-align: right;\n",
       "    }\n",
       "</style>\n",
       "<table border=\"1\" class=\"dataframe\">\n",
       "  <thead>\n",
       "    <tr style=\"text-align: right;\">\n",
       "      <th></th>\n",
       "      <th>country</th>\n",
       "      <th>migration_rate</th>\n",
       "    </tr>\n",
       "  </thead>\n",
       "  <tbody>\n",
       "    <tr>\n",
       "      <th>26</th>\n",
       "      <td>Burundi</td>\n",
       "      <td>0.181</td>\n",
       "    </tr>\n",
       "    <tr>\n",
       "      <th>27</th>\n",
       "      <td>Comoros</td>\n",
       "      <td>-2.429</td>\n",
       "    </tr>\n",
       "    <tr>\n",
       "      <th>28</th>\n",
       "      <td>Djibouti</td>\n",
       "      <td>0.947</td>\n",
       "    </tr>\n",
       "    <tr>\n",
       "      <th>29</th>\n",
       "      <td>Eritrea</td>\n",
       "      <td>-11.571</td>\n",
       "    </tr>\n",
       "    <tr>\n",
       "      <th>30</th>\n",
       "      <td>Ethiopia</td>\n",
       "      <td>0.278</td>\n",
       "    </tr>\n",
       "  </tbody>\n",
       "</table>\n",
       "</div>"
      ],
      "text/plain": [
       "     country migration_rate\n",
       "26   Burundi          0.181\n",
       "27   Comoros         -2.429\n",
       "28  Djibouti          0.947\n",
       "29   Eritrea        -11.571\n",
       "30  Ethiopia          0.278"
      ]
     },
     "execution_count": 61,
     "metadata": {},
     "output_type": "execute_result"
    }
   ],
   "source": [
    "df_migration_subset.head()"
   ]
  },
  {
   "cell_type": "markdown",
   "id": "0ae7439f",
   "metadata": {},
   "source": [
    "At this point, we have a cleaned up DataFrame with weather data (at the visitor-level), and a cleaned up DataFrame with migration data (at the country-level). To be able to look at these metrics together, we will join the data together. Because our ultimate goal is to have all data at the website visitor level, we will want to perform a left join of the migration data to the weather data, as the migration data is aggregated at a coarser level."
   ]
  },
  {
   "cell_type": "code",
   "execution_count": 50,
   "id": "6d930f4d-edcb-499f-b9dd-8c3c1bfaa4cc",
   "metadata": {},
   "outputs": [],
   "source": [
    "df_weather_migration = df_weather.merge(df_migration_subset, how=\"left\", left_on=\"country\", right_on=\"country\")"
   ]
  },
  {
   "cell_type": "code",
   "execution_count": 51,
   "id": "d0cd2024-c049-4bd1-b9c4-6292488f1d8e",
   "metadata": {},
   "outputs": [
    {
     "data": {
      "text/html": [
       "<div>\n",
       "<style scoped>\n",
       "    .dataframe tbody tr th:only-of-type {\n",
       "        vertical-align: middle;\n",
       "    }\n",
       "\n",
       "    .dataframe tbody tr th {\n",
       "        vertical-align: top;\n",
       "    }\n",
       "\n",
       "    .dataframe thead th {\n",
       "        text-align: right;\n",
       "    }\n",
       "</style>\n",
       "<table border=\"1\" class=\"dataframe\">\n",
       "  <thead>\n",
       "    <tr style=\"text-align: right;\">\n",
       "      <th></th>\n",
       "      <th>ip</th>\n",
       "      <th>status</th>\n",
       "      <th>country</th>\n",
       "      <th>countryCode</th>\n",
       "      <th>region</th>\n",
       "      <th>regionName</th>\n",
       "      <th>city</th>\n",
       "      <th>zip</th>\n",
       "      <th>lat</th>\n",
       "      <th>lon</th>\n",
       "      <th>...</th>\n",
       "      <th>org</th>\n",
       "      <th>as</th>\n",
       "      <th>query</th>\n",
       "      <th>current_weather</th>\n",
       "      <th>latitude</th>\n",
       "      <th>utc_offset_seconds</th>\n",
       "      <th>generationtime_ms</th>\n",
       "      <th>longitude</th>\n",
       "      <th>elevation</th>\n",
       "      <th>migration_rate</th>\n",
       "    </tr>\n",
       "  </thead>\n",
       "  <tbody>\n",
       "    <tr>\n",
       "      <th>0</th>\n",
       "      <td>107.110.102.63</td>\n",
       "      <td>success</td>\n",
       "      <td>United States</td>\n",
       "      <td>US</td>\n",
       "      <td>NY</td>\n",
       "      <td>New York</td>\n",
       "      <td>New York</td>\n",
       "      <td>10123</td>\n",
       "      <td>40.7128</td>\n",
       "      <td>-74.00600</td>\n",
       "      <td>...</td>\n",
       "      <td>AT&amp;T Mobility LLC</td>\n",
       "      <td>AS7018 AT&amp;T Services, Inc.</td>\n",
       "      <td>107.110.102.63</td>\n",
       "      <td>{'winddirection': 171, 'windspeed': 15.7, 'tem...</td>\n",
       "      <td>40.750</td>\n",
       "      <td>0</td>\n",
       "      <td>0.115991</td>\n",
       "      <td>-74.0000</td>\n",
       "      <td>12.210938</td>\n",
       "      <td>NaN</td>\n",
       "    </tr>\n",
       "    <tr>\n",
       "      <th>1</th>\n",
       "      <td>222.142.180.204</td>\n",
       "      <td>success</td>\n",
       "      <td>China</td>\n",
       "      <td>CN</td>\n",
       "      <td>HA</td>\n",
       "      <td>Henan</td>\n",
       "      <td>Zhengzhou</td>\n",
       "      <td></td>\n",
       "      <td>34.7466</td>\n",
       "      <td>113.62500</td>\n",
       "      <td>...</td>\n",
       "      <td></td>\n",
       "      <td>AS4837 CHINA UNICOM China169 Backbone</td>\n",
       "      <td>222.142.180.204</td>\n",
       "      <td>{'temperature': 22.4, 'windspeed': 10, 'winddi...</td>\n",
       "      <td>34.750</td>\n",
       "      <td>0</td>\n",
       "      <td>23.236990</td>\n",
       "      <td>113.6250</td>\n",
       "      <td>105.187500</td>\n",
       "      <td>-0.245</td>\n",
       "    </tr>\n",
       "    <tr>\n",
       "      <th>2</th>\n",
       "      <td>108.167.178.70</td>\n",
       "      <td>success</td>\n",
       "      <td>United States</td>\n",
       "      <td>US</td>\n",
       "      <td>TX</td>\n",
       "      <td>Texas</td>\n",
       "      <td>Houston</td>\n",
       "      <td>77092</td>\n",
       "      <td>29.8134</td>\n",
       "      <td>-95.46410</td>\n",
       "      <td>...</td>\n",
       "      <td>hotflashcures.info</td>\n",
       "      <td>AS46606 Unified Layer</td>\n",
       "      <td>108.167.178.70</td>\n",
       "      <td>{'windspeed': 17.5, 'weathercode': 2, 'winddir...</td>\n",
       "      <td>29.875</td>\n",
       "      <td>0</td>\n",
       "      <td>0.081062</td>\n",
       "      <td>-95.5000</td>\n",
       "      <td>22.593750</td>\n",
       "      <td>NaN</td>\n",
       "    </tr>\n",
       "    <tr>\n",
       "      <th>3</th>\n",
       "      <td>176.87.237.99</td>\n",
       "      <td>success</td>\n",
       "      <td>Spain</td>\n",
       "      <td>ES</td>\n",
       "      <td>MD</td>\n",
       "      <td>Madrid</td>\n",
       "      <td>Madrid</td>\n",
       "      <td>28760</td>\n",
       "      <td>40.5167</td>\n",
       "      <td>-3.66479</td>\n",
       "      <td>...</td>\n",
       "      <td>RIMA (Red IP Multi Acceso)</td>\n",
       "      <td>AS3352 TELEFONICA DE ESPANA</td>\n",
       "      <td>176.87.237.99</td>\n",
       "      <td>{'time': '2022-04-21T15:00', 'windspeed': 12.9...</td>\n",
       "      <td>40.500</td>\n",
       "      <td>0</td>\n",
       "      <td>0.102997</td>\n",
       "      <td>-3.6875</td>\n",
       "      <td>695.500000</td>\n",
       "      <td>0.856</td>\n",
       "    </tr>\n",
       "    <tr>\n",
       "      <th>4</th>\n",
       "      <td>35.94.189.204</td>\n",
       "      <td>success</td>\n",
       "      <td>United States</td>\n",
       "      <td>US</td>\n",
       "      <td>OR</td>\n",
       "      <td>Oregon</td>\n",
       "      <td>Portland</td>\n",
       "      <td>97207</td>\n",
       "      <td>45.5235</td>\n",
       "      <td>-122.67600</td>\n",
       "      <td>...</td>\n",
       "      <td>AWS EC2 (us-west-2)</td>\n",
       "      <td>AS16509 Amazon.com, Inc.</td>\n",
       "      <td>35.94.189.204</td>\n",
       "      <td>{'windspeed': 15.4, 'weathercode': 3, 'winddir...</td>\n",
       "      <td>45.500</td>\n",
       "      <td>0</td>\n",
       "      <td>0.114083</td>\n",
       "      <td>-122.6250</td>\n",
       "      <td>117.187500</td>\n",
       "      <td>NaN</td>\n",
       "    </tr>\n",
       "  </tbody>\n",
       "</table>\n",
       "<p>5 rows × 22 columns</p>\n",
       "</div>"
      ],
      "text/plain": [
       "                ip   status        country countryCode region regionName  \\\n",
       "0   107.110.102.63  success  United States          US     NY   New York   \n",
       "1  222.142.180.204  success          China          CN     HA      Henan   \n",
       "2   108.167.178.70  success  United States          US     TX      Texas   \n",
       "3    176.87.237.99  success          Spain          ES     MD     Madrid   \n",
       "4    35.94.189.204  success  United States          US     OR     Oregon   \n",
       "\n",
       "        city    zip      lat        lon  ...                         org  \\\n",
       "0   New York  10123  40.7128  -74.00600  ...           AT&T Mobility LLC   \n",
       "1  Zhengzhou         34.7466  113.62500  ...                               \n",
       "2    Houston  77092  29.8134  -95.46410  ...          hotflashcures.info   \n",
       "3     Madrid  28760  40.5167   -3.66479  ...  RIMA (Red IP Multi Acceso)   \n",
       "4   Portland  97207  45.5235 -122.67600  ...         AWS EC2 (us-west-2)   \n",
       "\n",
       "                                      as            query  \\\n",
       "0             AS7018 AT&T Services, Inc.   107.110.102.63   \n",
       "1  AS4837 CHINA UNICOM China169 Backbone  222.142.180.204   \n",
       "2                  AS46606 Unified Layer   108.167.178.70   \n",
       "3            AS3352 TELEFONICA DE ESPANA    176.87.237.99   \n",
       "4               AS16509 Amazon.com, Inc.    35.94.189.204   \n",
       "\n",
       "                                     current_weather latitude  \\\n",
       "0  {'winddirection': 171, 'windspeed': 15.7, 'tem...   40.750   \n",
       "1  {'temperature': 22.4, 'windspeed': 10, 'winddi...   34.750   \n",
       "2  {'windspeed': 17.5, 'weathercode': 2, 'winddir...   29.875   \n",
       "3  {'time': '2022-04-21T15:00', 'windspeed': 12.9...   40.500   \n",
       "4  {'windspeed': 15.4, 'weathercode': 3, 'winddir...   45.500   \n",
       "\n",
       "  utc_offset_seconds  generationtime_ms  longitude   elevation  migration_rate  \n",
       "0                  0           0.115991   -74.0000   12.210938             NaN  \n",
       "1                  0          23.236990   113.6250  105.187500          -0.245  \n",
       "2                  0           0.081062   -95.5000   22.593750             NaN  \n",
       "3                  0           0.102997    -3.6875  695.500000           0.856  \n",
       "4                  0           0.114083  -122.6250  117.187500             NaN  \n",
       "\n",
       "[5 rows x 22 columns]"
      ]
     },
     "execution_count": 51,
     "metadata": {},
     "output_type": "execute_result"
    }
   ],
   "source": [
    "df_weather_migration.head()"
   ]
  },
  {
   "cell_type": "markdown",
   "id": "8f6b741c",
   "metadata": {},
   "source": [
    "## 2.4 :: Data Validation and Cleaning\n",
    "\n",
    "So far things are looking pretty good, but let's dig a little bit deeper to see how things turned out after the join. One thing to be cautious about here is that our left join will still return a result if there are cases where there may not have been a match. For example, if a particualr visitor's country doesn't have a perfect match in the migration dataset, it will remain a row in our dataframe, but all of the weather and location data will be left empty!"
   ]
  },
  {
   "cell_type": "code",
   "execution_count": 52,
   "id": "ceea5be5-1a7d-4e0c-9e2c-4079a5b2d8d9",
   "metadata": {},
   "outputs": [
    {
     "data": {
      "text/plain": [
       "array(['United States', 'Russia', 'South Korea'], dtype=object)"
      ]
     },
     "execution_count": 52,
     "metadata": {},
     "output_type": "execute_result"
    }
   ],
   "source": [
    "# some countries didn't match because names are different\n",
    "\n",
    "df_weather_migration.loc[df_weather_migration[\"migration_rate\"].isna(), \"country\"].unique()"
   ]
  },
  {
   "cell_type": "code",
   "execution_count": 53,
   "id": "83208806-2741-4273-bc9d-95e3708cfbac",
   "metadata": {},
   "outputs": [
    {
     "data": {
      "text/plain": [
       "array(['China', 'Spain', 'United Kingdom', 'Italy', 'Austria', 'Germany',\n",
       "       'Netherlands', 'India', 'South Africa', 'Colombia', 'Croatia',\n",
       "       'Sweden', 'Japan', 'Denmark', 'Switzerland', 'Australia',\n",
       "       'Honduras', 'Norway', 'Ireland', 'France', 'Malaysia'],\n",
       "      dtype=object)"
      ]
     },
     "execution_count": 53,
     "metadata": {},
     "output_type": "execute_result"
    }
   ],
   "source": [
    "# a few countries did match up\n",
    "\n",
    "df_weather_migration.loc[df_weather_migration[\"migration_rate\"].notna(), \"country\"].unique()"
   ]
  },
  {
   "cell_type": "code",
   "execution_count": 54,
   "id": "51b211bb-6e9e-433b-891b-2e157b122fad",
   "metadata": {},
   "outputs": [
    {
     "data": {
      "text/html": [
       "<div>\n",
       "<style scoped>\n",
       "    .dataframe tbody tr th:only-of-type {\n",
       "        vertical-align: middle;\n",
       "    }\n",
       "\n",
       "    .dataframe tbody tr th {\n",
       "        vertical-align: top;\n",
       "    }\n",
       "\n",
       "    .dataframe thead th {\n",
       "        text-align: right;\n",
       "    }\n",
       "</style>\n",
       "<table border=\"1\" class=\"dataframe\">\n",
       "  <thead>\n",
       "    <tr style=\"text-align: right;\">\n",
       "      <th></th>\n",
       "      <th>country</th>\n",
       "      <th>migration_rate</th>\n",
       "    </tr>\n",
       "  </thead>\n",
       "  <tbody>\n",
       "    <tr>\n",
       "      <th>164</th>\n",
       "      <td>United States Virgin Islands</td>\n",
       "      <td>-4.306</td>\n",
       "    </tr>\n",
       "    <tr>\n",
       "      <th>254</th>\n",
       "      <td>United States of America</td>\n",
       "      <td>2.929</td>\n",
       "    </tr>\n",
       "  </tbody>\n",
       "</table>\n",
       "</div>"
      ],
      "text/plain": [
       "                          country migration_rate\n",
       "164  United States Virgin Islands         -4.306\n",
       "254      United States of America          2.929"
      ]
     },
     "execution_count": 54,
     "metadata": {},
     "output_type": "execute_result"
    }
   ],
   "source": [
    "df_migration_subset.loc[df_migration_subset[\"country\"].str.contains(\"United States\")]"
   ]
  },
  {
   "cell_type": "code",
   "execution_count": 55,
   "id": "d81f382b-1d39-42d3-aa5e-0faa74df95d8",
   "metadata": {},
   "outputs": [
    {
     "data": {
      "text/html": [
       "<div>\n",
       "<style scoped>\n",
       "    .dataframe tbody tr th:only-of-type {\n",
       "        vertical-align: middle;\n",
       "    }\n",
       "\n",
       "    .dataframe tbody tr th {\n",
       "        vertical-align: top;\n",
       "    }\n",
       "\n",
       "    .dataframe thead th {\n",
       "        text-align: right;\n",
       "    }\n",
       "</style>\n",
       "<table border=\"1\" class=\"dataframe\">\n",
       "  <thead>\n",
       "    <tr style=\"text-align: right;\">\n",
       "      <th></th>\n",
       "      <th>country</th>\n",
       "      <th>migration_rate</th>\n",
       "    </tr>\n",
       "  </thead>\n",
       "  <tbody>\n",
       "    <tr>\n",
       "      <th>103</th>\n",
       "      <td>Syrian Arab Republic</td>\n",
       "      <td>-24.08</td>\n",
       "    </tr>\n",
       "  </tbody>\n",
       "</table>\n",
       "</div>"
      ],
      "text/plain": [
       "                  country migration_rate\n",
       "103  Syrian Arab Republic         -24.08"
      ]
     },
     "execution_count": 55,
     "metadata": {},
     "output_type": "execute_result"
    }
   ],
   "source": [
    "df_migration_subset.loc[df_migration_subset[\"country\"].str.contains(\"Syria\")]"
   ]
  },
  {
   "cell_type": "code",
   "execution_count": 56,
   "id": "39dd4a88-768b-4b98-9efa-8e1c17107a7f",
   "metadata": {},
   "outputs": [
    {
     "data": {
      "text/html": [
       "<div>\n",
       "<style scoped>\n",
       "    .dataframe tbody tr th:only-of-type {\n",
       "        vertical-align: middle;\n",
       "    }\n",
       "\n",
       "    .dataframe tbody tr th {\n",
       "        vertical-align: top;\n",
       "    }\n",
       "\n",
       "    .dataframe thead th {\n",
       "        text-align: right;\n",
       "    }\n",
       "</style>\n",
       "<table border=\"1\" class=\"dataframe\">\n",
       "  <thead>\n",
       "    <tr style=\"text-align: right;\">\n",
       "      <th></th>\n",
       "      <th>country</th>\n",
       "      <th>migration_rate</th>\n",
       "    </tr>\n",
       "  </thead>\n",
       "  <tbody>\n",
       "    <tr>\n",
       "      <th>130</th>\n",
       "      <td>Dem. People's Republic of Korea</td>\n",
       "      <td>-0.212</td>\n",
       "    </tr>\n",
       "    <tr>\n",
       "      <th>133</th>\n",
       "      <td>Republic of Korea</td>\n",
       "      <td>0.23</td>\n",
       "    </tr>\n",
       "  </tbody>\n",
       "</table>\n",
       "</div>"
      ],
      "text/plain": [
       "                             country migration_rate\n",
       "130  Dem. People's Republic of Korea         -0.212\n",
       "133                Republic of Korea           0.23"
      ]
     },
     "execution_count": 56,
     "metadata": {},
     "output_type": "execute_result"
    }
   ],
   "source": [
    "df_migration_subset.loc[df_migration_subset[\"country\"].str.contains(\"Korea\")]"
   ]
  },
  {
   "cell_type": "code",
   "execution_count": 57,
   "id": "f98774fd-6761-479f-bc7b-d86fbbb999ac",
   "metadata": {},
   "outputs": [
    {
     "data": {
      "text/html": [
       "<div>\n",
       "<style scoped>\n",
       "    .dataframe tbody tr th:only-of-type {\n",
       "        vertical-align: middle;\n",
       "    }\n",
       "\n",
       "    .dataframe tbody tr th {\n",
       "        vertical-align: top;\n",
       "    }\n",
       "\n",
       "    .dataframe thead th {\n",
       "        text-align: right;\n",
       "    }\n",
       "</style>\n",
       "<table border=\"1\" class=\"dataframe\">\n",
       "  <thead>\n",
       "    <tr style=\"text-align: right;\">\n",
       "      <th></th>\n",
       "      <th>country</th>\n",
       "      <th>migration_rate</th>\n",
       "    </tr>\n",
       "  </thead>\n",
       "  <tbody>\n",
       "    <tr>\n",
       "      <th>216</th>\n",
       "      <td>Russian Federation</td>\n",
       "      <td>1.254</td>\n",
       "    </tr>\n",
       "  </tbody>\n",
       "</table>\n",
       "</div>"
      ],
      "text/plain": [
       "                country migration_rate\n",
       "216  Russian Federation          1.254"
      ]
     },
     "execution_count": 57,
     "metadata": {},
     "output_type": "execute_result"
    }
   ],
   "source": [
    "df_migration_subset.loc[df_migration_subset[\"country\"].str.contains(\"Russia\")]"
   ]
  },
  {
   "cell_type": "code",
   "execution_count": 58,
   "id": "cd0443b9-1ec0-4790-bdde-f38832b87e98",
   "metadata": {},
   "outputs": [
    {
     "data": {
      "text/html": [
       "<div>\n",
       "<style scoped>\n",
       "    .dataframe tbody tr th:only-of-type {\n",
       "        vertical-align: middle;\n",
       "    }\n",
       "\n",
       "    .dataframe tbody tr th {\n",
       "        vertical-align: top;\n",
       "    }\n",
       "\n",
       "    .dataframe thead th {\n",
       "        text-align: right;\n",
       "    }\n",
       "</style>\n",
       "<table border=\"1\" class=\"dataframe\">\n",
       "  <thead>\n",
       "    <tr style=\"text-align: right;\">\n",
       "      <th></th>\n",
       "      <th>country</th>\n",
       "      <th>migration_rate</th>\n",
       "    </tr>\n",
       "  </thead>\n",
       "  <tbody>\n",
       "    <tr>\n",
       "      <th>187</th>\n",
       "      <td>Venezuela (Bolivarian Republic of)</td>\n",
       "      <td>-22.327</td>\n",
       "    </tr>\n",
       "  </tbody>\n",
       "</table>\n",
       "</div>"
      ],
      "text/plain": [
       "                                country migration_rate\n",
       "187  Venezuela (Bolivarian Republic of)        -22.327"
      ]
     },
     "execution_count": 58,
     "metadata": {},
     "output_type": "execute_result"
    }
   ],
   "source": [
    "df_migration_subset.loc[df_migration_subset[\"country\"].str.contains(\"Venezuela\")]"
   ]
  },
  {
   "cell_type": "code",
   "execution_count": 59,
   "id": "9241ca7e-3f5a-4f27-97cc-4199d4c8753e",
   "metadata": {},
   "outputs": [
    {
     "data": {
      "text/html": [
       "<div>\n",
       "<style scoped>\n",
       "    .dataframe tbody tr th:only-of-type {\n",
       "        vertical-align: middle;\n",
       "    }\n",
       "\n",
       "    .dataframe tbody tr th {\n",
       "        vertical-align: top;\n",
       "    }\n",
       "\n",
       "    .dataframe thead th {\n",
       "        text-align: right;\n",
       "    }\n",
       "</style>\n",
       "<table border=\"1\" class=\"dataframe\">\n",
       "  <thead>\n",
       "    <tr style=\"text-align: right;\">\n",
       "      <th></th>\n",
       "      <th>country</th>\n",
       "      <th>migration_rate</th>\n",
       "    </tr>\n",
       "  </thead>\n",
       "  <tbody>\n",
       "    <tr>\n",
       "      <th>145</th>\n",
       "      <td>Viet Nam</td>\n",
       "      <td>-0.842</td>\n",
       "    </tr>\n",
       "  </tbody>\n",
       "</table>\n",
       "</div>"
      ],
      "text/plain": [
       "      country migration_rate\n",
       "145  Viet Nam         -0.842"
      ]
     },
     "execution_count": 59,
     "metadata": {},
     "output_type": "execute_result"
    }
   ],
   "source": [
    "df_migration_subset.loc[df_migration_subset[\"country\"].str.contains(\"Viet\")]"
   ]
  },
  {
   "cell_type": "code",
   "execution_count": 60,
   "id": "84e5cd59-bd9a-4ee8-a179-623da9df6bff",
   "metadata": {},
   "outputs": [
    {
     "data": {
      "text/html": [
       "<div>\n",
       "<style scoped>\n",
       "    .dataframe tbody tr th:only-of-type {\n",
       "        vertical-align: middle;\n",
       "    }\n",
       "\n",
       "    .dataframe tbody tr th {\n",
       "        vertical-align: top;\n",
       "    }\n",
       "\n",
       "    .dataframe thead th {\n",
       "        text-align: right;\n",
       "    }\n",
       "</style>\n",
       "<table border=\"1\" class=\"dataframe\">\n",
       "  <thead>\n",
       "    <tr style=\"text-align: right;\">\n",
       "      <th></th>\n",
       "      <th>country</th>\n",
       "      <th>migration_rate</th>\n",
       "    </tr>\n",
       "  </thead>\n",
       "  <tbody>\n",
       "    <tr>\n",
       "      <th>129</th>\n",
       "      <td>China, Taiwan Province of China</td>\n",
       "      <td>1.267</td>\n",
       "    </tr>\n",
       "  </tbody>\n",
       "</table>\n",
       "</div>"
      ],
      "text/plain": [
       "                             country migration_rate\n",
       "129  China, Taiwan Province of China          1.267"
      ]
     },
     "execution_count": 60,
     "metadata": {},
     "output_type": "execute_result"
    }
   ],
   "source": [
    "df_migration_subset.loc[df_migration_subset[\"country\"].str.contains(\"Taiwan\")]"
   ]
  },
  {
   "cell_type": "code",
   "execution_count": 61,
   "id": "f63d1570-90be-42c9-927e-8530c1f07904",
   "metadata": {},
   "outputs": [
    {
     "name": "stderr",
     "output_type": "stream",
     "text": [
      "/var/folders/jg/v3n_k3655b10w3brcsgzl1wc0000gp/T/ipykernel_98726/3404778597.py:3: SettingWithCopyWarning: \n",
      "A value is trying to be set on a copy of a slice from a DataFrame\n",
      "\n",
      "See the caveats in the documentation: https://pandas.pydata.org/pandas-docs/stable/user_guide/indexing.html#returning-a-view-versus-a-copy\n",
      "  df_migration_subset[\"country\"].replace(to_replace={\n"
     ]
    }
   ],
   "source": [
    "# to get join to work, let's rename country in the migration dataset\n",
    "\n",
    "df_migration_subset[\"country\"].replace(to_replace={\n",
    "    \"United States of America\": \"United States\", \n",
    "    \"Syrian Arab Republic\": \"Syria\", \n",
    "    \"Russian Federation\": \"Russia\", \n",
    "    \"Republic of Korea\": \"South Korea\",\n",
    "    \"Venezuela (Bolivarian Republic of)\": \"Venezuela\",\n",
    "    \"Viet Nam\": \"Vietnam\",\n",
    "    \"China, Taiwan Province of China\": \"Taiwan\",\n",
    "    \n",
    "}, inplace=True)"
   ]
  },
  {
   "cell_type": "code",
   "execution_count": 62,
   "id": "e005ad15-aa31-4025-a69e-e994cc8b7430",
   "metadata": {},
   "outputs": [],
   "source": [
    "# try the join again\n",
    "df_weather_migration = df_weather.merge(df_migration_subset, how=\"left\", left_on=\"country\", right_on=\"country\")"
   ]
  },
  {
   "cell_type": "code",
   "execution_count": 63,
   "id": "df938e18-3523-4705-9635-534d4eb619c7",
   "metadata": {},
   "outputs": [
    {
     "data": {
      "text/html": [
       "<div>\n",
       "<style scoped>\n",
       "    .dataframe tbody tr th:only-of-type {\n",
       "        vertical-align: middle;\n",
       "    }\n",
       "\n",
       "    .dataframe tbody tr th {\n",
       "        vertical-align: top;\n",
       "    }\n",
       "\n",
       "    .dataframe thead th {\n",
       "        text-align: right;\n",
       "    }\n",
       "</style>\n",
       "<table border=\"1\" class=\"dataframe\">\n",
       "  <thead>\n",
       "    <tr style=\"text-align: right;\">\n",
       "      <th></th>\n",
       "      <th>ip</th>\n",
       "      <th>status</th>\n",
       "      <th>country</th>\n",
       "      <th>countryCode</th>\n",
       "      <th>region</th>\n",
       "      <th>regionName</th>\n",
       "      <th>city</th>\n",
       "      <th>zip</th>\n",
       "      <th>lat</th>\n",
       "      <th>lon</th>\n",
       "      <th>...</th>\n",
       "      <th>org</th>\n",
       "      <th>as</th>\n",
       "      <th>query</th>\n",
       "      <th>current_weather</th>\n",
       "      <th>latitude</th>\n",
       "      <th>utc_offset_seconds</th>\n",
       "      <th>generationtime_ms</th>\n",
       "      <th>longitude</th>\n",
       "      <th>elevation</th>\n",
       "      <th>migration_rate</th>\n",
       "    </tr>\n",
       "  </thead>\n",
       "  <tbody>\n",
       "    <tr>\n",
       "      <th>0</th>\n",
       "      <td>107.110.102.63</td>\n",
       "      <td>success</td>\n",
       "      <td>United States</td>\n",
       "      <td>US</td>\n",
       "      <td>NY</td>\n",
       "      <td>New York</td>\n",
       "      <td>New York</td>\n",
       "      <td>10123</td>\n",
       "      <td>40.7128</td>\n",
       "      <td>-74.00600</td>\n",
       "      <td>...</td>\n",
       "      <td>AT&amp;T Mobility LLC</td>\n",
       "      <td>AS7018 AT&amp;T Services, Inc.</td>\n",
       "      <td>107.110.102.63</td>\n",
       "      <td>{'winddirection': 171, 'windspeed': 15.7, 'tem...</td>\n",
       "      <td>40.750</td>\n",
       "      <td>0</td>\n",
       "      <td>0.115991</td>\n",
       "      <td>-74.0000</td>\n",
       "      <td>12.210938</td>\n",
       "      <td>2.929</td>\n",
       "    </tr>\n",
       "    <tr>\n",
       "      <th>1</th>\n",
       "      <td>222.142.180.204</td>\n",
       "      <td>success</td>\n",
       "      <td>China</td>\n",
       "      <td>CN</td>\n",
       "      <td>HA</td>\n",
       "      <td>Henan</td>\n",
       "      <td>Zhengzhou</td>\n",
       "      <td></td>\n",
       "      <td>34.7466</td>\n",
       "      <td>113.62500</td>\n",
       "      <td>...</td>\n",
       "      <td></td>\n",
       "      <td>AS4837 CHINA UNICOM China169 Backbone</td>\n",
       "      <td>222.142.180.204</td>\n",
       "      <td>{'temperature': 22.4, 'windspeed': 10, 'winddi...</td>\n",
       "      <td>34.750</td>\n",
       "      <td>0</td>\n",
       "      <td>23.236990</td>\n",
       "      <td>113.6250</td>\n",
       "      <td>105.187500</td>\n",
       "      <td>-0.245</td>\n",
       "    </tr>\n",
       "    <tr>\n",
       "      <th>2</th>\n",
       "      <td>108.167.178.70</td>\n",
       "      <td>success</td>\n",
       "      <td>United States</td>\n",
       "      <td>US</td>\n",
       "      <td>TX</td>\n",
       "      <td>Texas</td>\n",
       "      <td>Houston</td>\n",
       "      <td>77092</td>\n",
       "      <td>29.8134</td>\n",
       "      <td>-95.46410</td>\n",
       "      <td>...</td>\n",
       "      <td>hotflashcures.info</td>\n",
       "      <td>AS46606 Unified Layer</td>\n",
       "      <td>108.167.178.70</td>\n",
       "      <td>{'windspeed': 17.5, 'weathercode': 2, 'winddir...</td>\n",
       "      <td>29.875</td>\n",
       "      <td>0</td>\n",
       "      <td>0.081062</td>\n",
       "      <td>-95.5000</td>\n",
       "      <td>22.593750</td>\n",
       "      <td>2.929</td>\n",
       "    </tr>\n",
       "    <tr>\n",
       "      <th>3</th>\n",
       "      <td>176.87.237.99</td>\n",
       "      <td>success</td>\n",
       "      <td>Spain</td>\n",
       "      <td>ES</td>\n",
       "      <td>MD</td>\n",
       "      <td>Madrid</td>\n",
       "      <td>Madrid</td>\n",
       "      <td>28760</td>\n",
       "      <td>40.5167</td>\n",
       "      <td>-3.66479</td>\n",
       "      <td>...</td>\n",
       "      <td>RIMA (Red IP Multi Acceso)</td>\n",
       "      <td>AS3352 TELEFONICA DE ESPANA</td>\n",
       "      <td>176.87.237.99</td>\n",
       "      <td>{'time': '2022-04-21T15:00', 'windspeed': 12.9...</td>\n",
       "      <td>40.500</td>\n",
       "      <td>0</td>\n",
       "      <td>0.102997</td>\n",
       "      <td>-3.6875</td>\n",
       "      <td>695.500000</td>\n",
       "      <td>0.856</td>\n",
       "    </tr>\n",
       "    <tr>\n",
       "      <th>4</th>\n",
       "      <td>35.94.189.204</td>\n",
       "      <td>success</td>\n",
       "      <td>United States</td>\n",
       "      <td>US</td>\n",
       "      <td>OR</td>\n",
       "      <td>Oregon</td>\n",
       "      <td>Portland</td>\n",
       "      <td>97207</td>\n",
       "      <td>45.5235</td>\n",
       "      <td>-122.67600</td>\n",
       "      <td>...</td>\n",
       "      <td>AWS EC2 (us-west-2)</td>\n",
       "      <td>AS16509 Amazon.com, Inc.</td>\n",
       "      <td>35.94.189.204</td>\n",
       "      <td>{'windspeed': 15.4, 'weathercode': 3, 'winddir...</td>\n",
       "      <td>45.500</td>\n",
       "      <td>0</td>\n",
       "      <td>0.114083</td>\n",
       "      <td>-122.6250</td>\n",
       "      <td>117.187500</td>\n",
       "      <td>2.929</td>\n",
       "    </tr>\n",
       "  </tbody>\n",
       "</table>\n",
       "<p>5 rows × 22 columns</p>\n",
       "</div>"
      ],
      "text/plain": [
       "                ip   status        country countryCode region regionName  \\\n",
       "0   107.110.102.63  success  United States          US     NY   New York   \n",
       "1  222.142.180.204  success          China          CN     HA      Henan   \n",
       "2   108.167.178.70  success  United States          US     TX      Texas   \n",
       "3    176.87.237.99  success          Spain          ES     MD     Madrid   \n",
       "4    35.94.189.204  success  United States          US     OR     Oregon   \n",
       "\n",
       "        city    zip      lat        lon  ...                         org  \\\n",
       "0   New York  10123  40.7128  -74.00600  ...           AT&T Mobility LLC   \n",
       "1  Zhengzhou         34.7466  113.62500  ...                               \n",
       "2    Houston  77092  29.8134  -95.46410  ...          hotflashcures.info   \n",
       "3     Madrid  28760  40.5167   -3.66479  ...  RIMA (Red IP Multi Acceso)   \n",
       "4   Portland  97207  45.5235 -122.67600  ...         AWS EC2 (us-west-2)   \n",
       "\n",
       "                                      as            query  \\\n",
       "0             AS7018 AT&T Services, Inc.   107.110.102.63   \n",
       "1  AS4837 CHINA UNICOM China169 Backbone  222.142.180.204   \n",
       "2                  AS46606 Unified Layer   108.167.178.70   \n",
       "3            AS3352 TELEFONICA DE ESPANA    176.87.237.99   \n",
       "4               AS16509 Amazon.com, Inc.    35.94.189.204   \n",
       "\n",
       "                                     current_weather latitude  \\\n",
       "0  {'winddirection': 171, 'windspeed': 15.7, 'tem...   40.750   \n",
       "1  {'temperature': 22.4, 'windspeed': 10, 'winddi...   34.750   \n",
       "2  {'windspeed': 17.5, 'weathercode': 2, 'winddir...   29.875   \n",
       "3  {'time': '2022-04-21T15:00', 'windspeed': 12.9...   40.500   \n",
       "4  {'windspeed': 15.4, 'weathercode': 3, 'winddir...   45.500   \n",
       "\n",
       "  utc_offset_seconds  generationtime_ms  longitude   elevation  migration_rate  \n",
       "0                  0           0.115991   -74.0000   12.210938           2.929  \n",
       "1                  0          23.236990   113.6250  105.187500          -0.245  \n",
       "2                  0           0.081062   -95.5000   22.593750           2.929  \n",
       "3                  0           0.102997    -3.6875  695.500000           0.856  \n",
       "4                  0           0.114083  -122.6250  117.187500           2.929  \n",
       "\n",
       "[5 rows x 22 columns]"
      ]
     },
     "execution_count": 63,
     "metadata": {},
     "output_type": "execute_result"
    }
   ],
   "source": [
    "df_weather_migration.head()"
   ]
  },
  {
   "cell_type": "code",
   "execution_count": 53,
   "id": "2660c6c3-d189-452d-9c42-df477e45d912",
   "metadata": {},
   "outputs": [
    {
     "ename": "NameError",
     "evalue": "name 'df_weather_migration' is not defined",
     "output_type": "error",
     "traceback": [
      "\u001b[0;31m---------------------------------------------------------------------------\u001b[0m",
      "\u001b[0;31mNameError\u001b[0m                                 Traceback (most recent call last)",
      "\u001b[1;32m/Users/krr024/GitHub/shareouts/womenwhocode/build_your_own_dataset.ipynb Cell 62'\u001b[0m in \u001b[0;36m<module>\u001b[0;34m\u001b[0m\n\u001b[1;32m      <a href='vscode-notebook-cell:/Users/krr024/GitHub/shareouts/womenwhocode/build_your_own_dataset.ipynb#ch0000057?line=0'>1</a>\u001b[0m \u001b[39m# now all of the records should have a match\u001b[39;00m\n\u001b[0;32m----> <a href='vscode-notebook-cell:/Users/krr024/GitHub/shareouts/womenwhocode/build_your_own_dataset.ipynb#ch0000057?line=2'>3</a>\u001b[0m df_weather_migration\u001b[39m.\u001b[39mloc[df_weather_migration[\u001b[39m\"\u001b[39m\u001b[39mmigration_rate\u001b[39m\u001b[39m\"\u001b[39m]\u001b[39m.\u001b[39misna(), \u001b[39m\"\u001b[39m\u001b[39mcountry\u001b[39m\u001b[39m\"\u001b[39m]\u001b[39m.\u001b[39munique()\n",
      "\u001b[0;31mNameError\u001b[0m: name 'df_weather_migration' is not defined"
     ]
    }
   ],
   "source": [
    "# now all of the records should have a match\n",
    "\n",
    "df_weather_migration.loc[df_weather_migration[\"migration_rate\"].isna(), \"country\"].unique()"
   ]
  },
  {
   "cell_type": "markdown",
   "id": "eb5566a8",
   "metadata": {},
   "source": [
    "# Part 3 :: Data visualization and analysis"
   ]
  },
  {
   "cell_type": "markdown",
   "id": "e9905fd3",
   "metadata": {},
   "source": []
  }
 ],
 "metadata": {
  "kernelspec": {
   "display_name": "Python 3 (ipykernel)",
   "language": "python",
   "name": "python3"
  },
  "language_info": {
   "codemirror_mode": {
    "name": "ipython",
    "version": 3
   },
   "file_extension": ".py",
   "mimetype": "text/x-python",
   "name": "python",
   "nbconvert_exporter": "python",
   "pygments_lexer": "ipython3",
   "version": "3.9.7"
  }
 },
 "nbformat": 4,
 "nbformat_minor": 5
}
